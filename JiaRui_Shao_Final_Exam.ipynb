{
 "cells": [
  {
   "cell_type": "markdown",
   "metadata": {},
   "source": [
    "__JiaRui Shao__"
   ]
  },
  {
   "cell_type": "code",
   "execution_count": 6,
   "metadata": {
    "collapsed": false
   },
   "outputs": [],
   "source": [
    "#pandas\n",
    "import pandas as pd\n",
    "from pandas import DataFrame, Series\n",
    "import datetime as dt\n",
    "import numpy as np\n",
    "import seaborn\n",
    "\n",
    "import matplotlib.pyplot as plt\n",
    "import seaborn as sns\n",
    "#API\n",
    "from pandas_datareader import data as wb\n",
    "import pandas_datareader as pdr"
   ]
  },
  {
   "cell_type": "markdown",
   "metadata": {},
   "source": [
    "Get the opening price from yahoo finance for the following stocks: Qualcomm and Intel (ticker symbols are QCOM and INTC) for the period starting 1/1/2017 and ending 12/31/2017. What is the highest, lowest, and average prices for these two stocks over this period? Also, plot the entire dataset in an appropriate plot. Calculate the monthly average of the opening price for QCOM. "
   ]
  },
  {
   "cell_type": "code",
   "execution_count": 36,
   "metadata": {
    "collapsed": true
   },
   "outputs": [],
   "source": [
    "start = dt.datetime(2017, 1, 1)\n",
    "end = dt.datetime(2017, 12, 31)\n",
    "ticker=['QCOM', 'INTC']"
   ]
  },
  {
   "cell_type": "code",
   "execution_count": 37,
   "metadata": {
    "collapsed": false
   },
   "outputs": [
    {
     "data": {
      "text/html": [
       "<div>\n",
       "<table border=\"1\" class=\"dataframe\">\n",
       "  <thead>\n",
       "    <tr style=\"text-align: right;\">\n",
       "      <th></th>\n",
       "      <th>Open</th>\n",
       "      <th>High</th>\n",
       "      <th>Low</th>\n",
       "      <th>Close</th>\n",
       "      <th>Volume</th>\n",
       "      <th>ExDividend</th>\n",
       "      <th>SplitRatio</th>\n",
       "      <th>AdjOpen</th>\n",
       "      <th>AdjHigh</th>\n",
       "      <th>AdjLow</th>\n",
       "      <th>AdjClose</th>\n",
       "      <th>AdjVolume</th>\n",
       "    </tr>\n",
       "    <tr>\n",
       "      <th>Date</th>\n",
       "      <th></th>\n",
       "      <th></th>\n",
       "      <th></th>\n",
       "      <th></th>\n",
       "      <th></th>\n",
       "      <th></th>\n",
       "      <th></th>\n",
       "      <th></th>\n",
       "      <th></th>\n",
       "      <th></th>\n",
       "      <th></th>\n",
       "      <th></th>\n",
       "    </tr>\n",
       "  </thead>\n",
       "  <tbody>\n",
       "    <tr>\n",
       "      <th>2017-12-29</th>\n",
       "      <td>64.36</td>\n",
       "      <td>64.65</td>\n",
       "      <td>64.00</td>\n",
       "      <td>64.02</td>\n",
       "      <td>4553732.0</td>\n",
       "      <td>0.0</td>\n",
       "      <td>1.0</td>\n",
       "      <td>64.36</td>\n",
       "      <td>64.65</td>\n",
       "      <td>64.00</td>\n",
       "      <td>64.02</td>\n",
       "      <td>4553732.0</td>\n",
       "    </tr>\n",
       "    <tr>\n",
       "      <th>2017-12-28</th>\n",
       "      <td>64.69</td>\n",
       "      <td>64.73</td>\n",
       "      <td>64.35</td>\n",
       "      <td>64.38</td>\n",
       "      <td>2371094.0</td>\n",
       "      <td>0.0</td>\n",
       "      <td>1.0</td>\n",
       "      <td>64.69</td>\n",
       "      <td>64.73</td>\n",
       "      <td>64.35</td>\n",
       "      <td>64.38</td>\n",
       "      <td>2371094.0</td>\n",
       "    </tr>\n",
       "    <tr>\n",
       "      <th>2017-12-27</th>\n",
       "      <td>64.32</td>\n",
       "      <td>64.64</td>\n",
       "      <td>64.18</td>\n",
       "      <td>64.54</td>\n",
       "      <td>4821727.0</td>\n",
       "      <td>0.0</td>\n",
       "      <td>1.0</td>\n",
       "      <td>64.32</td>\n",
       "      <td>64.64</td>\n",
       "      <td>64.18</td>\n",
       "      <td>64.54</td>\n",
       "      <td>4821727.0</td>\n",
       "    </tr>\n",
       "    <tr>\n",
       "      <th>2017-12-26</th>\n",
       "      <td>64.49</td>\n",
       "      <td>64.94</td>\n",
       "      <td>64.20</td>\n",
       "      <td>64.30</td>\n",
       "      <td>4185772.0</td>\n",
       "      <td>0.0</td>\n",
       "      <td>1.0</td>\n",
       "      <td>64.49</td>\n",
       "      <td>64.94</td>\n",
       "      <td>64.20</td>\n",
       "      <td>64.30</td>\n",
       "      <td>4185772.0</td>\n",
       "    </tr>\n",
       "    <tr>\n",
       "      <th>2017-12-22</th>\n",
       "      <td>64.31</td>\n",
       "      <td>64.98</td>\n",
       "      <td>64.30</td>\n",
       "      <td>64.73</td>\n",
       "      <td>4386678.0</td>\n",
       "      <td>0.0</td>\n",
       "      <td>1.0</td>\n",
       "      <td>64.31</td>\n",
       "      <td>64.98</td>\n",
       "      <td>64.30</td>\n",
       "      <td>64.73</td>\n",
       "      <td>4386678.0</td>\n",
       "    </tr>\n",
       "  </tbody>\n",
       "</table>\n",
       "</div>"
      ],
      "text/plain": [
       "             Open   High    Low  Close     Volume  ExDividend  SplitRatio  \\\n",
       "Date                                                                        \n",
       "2017-12-29  64.36  64.65  64.00  64.02  4553732.0         0.0         1.0   \n",
       "2017-12-28  64.69  64.73  64.35  64.38  2371094.0         0.0         1.0   \n",
       "2017-12-27  64.32  64.64  64.18  64.54  4821727.0         0.0         1.0   \n",
       "2017-12-26  64.49  64.94  64.20  64.30  4185772.0         0.0         1.0   \n",
       "2017-12-22  64.31  64.98  64.30  64.73  4386678.0         0.0         1.0   \n",
       "\n",
       "            AdjOpen  AdjHigh  AdjLow  AdjClose  AdjVolume  \n",
       "Date                                                       \n",
       "2017-12-29    64.36    64.65   64.00     64.02  4553732.0  \n",
       "2017-12-28    64.69    64.73   64.35     64.38  2371094.0  \n",
       "2017-12-27    64.32    64.64   64.18     64.54  4821727.0  \n",
       "2017-12-26    64.49    64.94   64.20     64.30  4185772.0  \n",
       "2017-12-22    64.31    64.98   64.30     64.73  4386678.0  "
      ]
     },
     "execution_count": 37,
     "metadata": {},
     "output_type": "execute_result"
    }
   ],
   "source": [
    "f1=wb.DataReader('QCOM.US', 'quandl', start, end)\n",
    "f1.head()"
   ]
  },
  {
   "cell_type": "code",
   "execution_count": 11,
   "metadata": {
    "collapsed": false,
    "scrolled": true
   },
   "outputs": [
    {
     "data": {
      "text/plain": [
       "count    251.000000\n",
       "mean      56.858845\n",
       "std        4.813469\n",
       "min       49.939999\n",
       "25%       53.090000\n",
       "50%       55.639999\n",
       "75%       58.375000\n",
       "max       68.599998\n",
       "Name: Open, dtype: float64"
      ]
     },
     "execution_count": 11,
     "metadata": {},
     "output_type": "execute_result"
    }
   ],
   "source": [
    "f1[\"Open\"].describe()"
   ]
  },
  {
   "cell_type": "code",
   "execution_count": 17,
   "metadata": {
    "collapsed": false
   },
   "outputs": [],
   "source": [
    "f1['Date']=pd.to_datetime(f1['Date'])"
   ]
  },
  {
   "cell_type": "code",
   "execution_count": 18,
   "metadata": {
    "collapsed": false
   },
   "outputs": [
    {
     "name": "stdout",
     "output_type": "stream",
     "text": [
      "Date\n",
      "1     62.019500\n",
      "2     55.012106\n",
      "3     57.446956\n",
      "4     54.363158\n",
      "5     55.959091\n",
      "6     57.175000\n",
      "7     54.863000\n",
      "8     52.618695\n",
      "9     51.443500\n",
      "10    52.879091\n",
      "11    64.113810\n",
      "12    64.836499\n",
      "Name: Open, dtype: float64\n"
     ]
    }
   ],
   "source": [
    "month_group = f1.groupby(f1['Date'].dt.month)['Open'].mean()\n",
    "print(month_group)"
   ]
  },
  {
   "cell_type": "code",
   "execution_count": 38,
   "metadata": {
    "collapsed": false
   },
   "outputs": [
    {
     "data": {
      "text/html": [
       "<div>\n",
       "<table border=\"1\" class=\"dataframe\">\n",
       "  <thead>\n",
       "    <tr style=\"text-align: right;\">\n",
       "      <th></th>\n",
       "      <th>Open</th>\n",
       "      <th>High</th>\n",
       "      <th>Low</th>\n",
       "      <th>Close</th>\n",
       "      <th>Volume</th>\n",
       "      <th>ExDividend</th>\n",
       "      <th>SplitRatio</th>\n",
       "      <th>AdjOpen</th>\n",
       "      <th>AdjHigh</th>\n",
       "      <th>AdjLow</th>\n",
       "      <th>AdjClose</th>\n",
       "      <th>AdjVolume</th>\n",
       "    </tr>\n",
       "    <tr>\n",
       "      <th>Date</th>\n",
       "      <th></th>\n",
       "      <th></th>\n",
       "      <th></th>\n",
       "      <th></th>\n",
       "      <th></th>\n",
       "      <th></th>\n",
       "      <th></th>\n",
       "      <th></th>\n",
       "      <th></th>\n",
       "      <th></th>\n",
       "      <th></th>\n",
       "      <th></th>\n",
       "    </tr>\n",
       "  </thead>\n",
       "  <tbody>\n",
       "    <tr>\n",
       "      <th>2017-12-29</th>\n",
       "      <td>46.21</td>\n",
       "      <td>46.49</td>\n",
       "      <td>46.09</td>\n",
       "      <td>46.16</td>\n",
       "      <td>17136416.0</td>\n",
       "      <td>0.0</td>\n",
       "      <td>1.0</td>\n",
       "      <td>46.21</td>\n",
       "      <td>46.49</td>\n",
       "      <td>46.09</td>\n",
       "      <td>46.16</td>\n",
       "      <td>17136416.0</td>\n",
       "    </tr>\n",
       "    <tr>\n",
       "      <th>2017-12-28</th>\n",
       "      <td>46.36</td>\n",
       "      <td>46.36</td>\n",
       "      <td>45.95</td>\n",
       "      <td>46.22</td>\n",
       "      <td>9279766.0</td>\n",
       "      <td>0.0</td>\n",
       "      <td>1.0</td>\n",
       "      <td>46.36</td>\n",
       "      <td>46.36</td>\n",
       "      <td>45.95</td>\n",
       "      <td>46.22</td>\n",
       "      <td>9279766.0</td>\n",
       "    </tr>\n",
       "    <tr>\n",
       "      <th>2017-12-27</th>\n",
       "      <td>46.11</td>\n",
       "      <td>46.36</td>\n",
       "      <td>46.00</td>\n",
       "      <td>46.11</td>\n",
       "      <td>12412977.0</td>\n",
       "      <td>0.0</td>\n",
       "      <td>1.0</td>\n",
       "      <td>46.11</td>\n",
       "      <td>46.36</td>\n",
       "      <td>46.00</td>\n",
       "      <td>46.11</td>\n",
       "      <td>12412977.0</td>\n",
       "    </tr>\n",
       "    <tr>\n",
       "      <th>2017-12-26</th>\n",
       "      <td>46.28</td>\n",
       "      <td>46.47</td>\n",
       "      <td>45.95</td>\n",
       "      <td>46.08</td>\n",
       "      <td>15477747.0</td>\n",
       "      <td>0.0</td>\n",
       "      <td>1.0</td>\n",
       "      <td>46.28</td>\n",
       "      <td>46.47</td>\n",
       "      <td>45.95</td>\n",
       "      <td>46.08</td>\n",
       "      <td>15477747.0</td>\n",
       "    </tr>\n",
       "    <tr>\n",
       "      <th>2017-12-22</th>\n",
       "      <td>46.33</td>\n",
       "      <td>47.02</td>\n",
       "      <td>46.02</td>\n",
       "      <td>46.70</td>\n",
       "      <td>33404280.0</td>\n",
       "      <td>0.0</td>\n",
       "      <td>1.0</td>\n",
       "      <td>46.33</td>\n",
       "      <td>47.02</td>\n",
       "      <td>46.02</td>\n",
       "      <td>46.70</td>\n",
       "      <td>33404280.0</td>\n",
       "    </tr>\n",
       "  </tbody>\n",
       "</table>\n",
       "</div>"
      ],
      "text/plain": [
       "             Open   High    Low  Close      Volume  ExDividend  SplitRatio  \\\n",
       "Date                                                                         \n",
       "2017-12-29  46.21  46.49  46.09  46.16  17136416.0         0.0         1.0   \n",
       "2017-12-28  46.36  46.36  45.95  46.22   9279766.0         0.0         1.0   \n",
       "2017-12-27  46.11  46.36  46.00  46.11  12412977.0         0.0         1.0   \n",
       "2017-12-26  46.28  46.47  45.95  46.08  15477747.0         0.0         1.0   \n",
       "2017-12-22  46.33  47.02  46.02  46.70  33404280.0         0.0         1.0   \n",
       "\n",
       "            AdjOpen  AdjHigh  AdjLow  AdjClose   AdjVolume  \n",
       "Date                                                        \n",
       "2017-12-29    46.21    46.49   46.09     46.16  17136416.0  \n",
       "2017-12-28    46.36    46.36   45.95     46.22   9279766.0  \n",
       "2017-12-27    46.11    46.36   46.00     46.11  12412977.0  \n",
       "2017-12-26    46.28    46.47   45.95     46.08  15477747.0  \n",
       "2017-12-22    46.33    47.02   46.02     46.70  33404280.0  "
      ]
     },
     "execution_count": 38,
     "metadata": {},
     "output_type": "execute_result"
    }
   ],
   "source": [
    "f2=wb.DataReader('INTC.US', 'quandl', start, end)\n",
    "f2.head()"
   ]
  },
  {
   "cell_type": "code",
   "execution_count": 14,
   "metadata": {
    "collapsed": false
   },
   "outputs": [
    {
     "data": {
      "text/plain": [
       "count    251.000000\n",
       "mean      37.773745\n",
       "std        3.715454\n",
       "min       33.250000\n",
       "25%       35.535000\n",
       "50%       36.299999\n",
       "75%       38.060000\n",
       "max       47.540001\n",
       "Name: Open, dtype: float64"
      ]
     },
     "execution_count": 14,
     "metadata": {},
     "output_type": "execute_result"
    }
   ],
   "source": [
    "f2[\"Open\"].describe()"
   ]
  },
  {
   "cell_type": "code",
   "execution_count": 39,
   "metadata": {
    "collapsed": false
   },
   "outputs": [
    {
     "data": {
      "text/html": [
       "<div>\n",
       "<table border=\"1\" class=\"dataframe\">\n",
       "  <thead>\n",
       "    <tr style=\"text-align: right;\">\n",
       "      <th></th>\n",
       "      <th>QCOM</th>\n",
       "      <th>INTC</th>\n",
       "    </tr>\n",
       "    <tr>\n",
       "      <th>Date</th>\n",
       "      <th></th>\n",
       "      <th></th>\n",
       "    </tr>\n",
       "  </thead>\n",
       "  <tbody>\n",
       "    <tr>\n",
       "      <th>2017-12-29</th>\n",
       "      <td>64.36</td>\n",
       "      <td>46.21</td>\n",
       "    </tr>\n",
       "    <tr>\n",
       "      <th>2017-12-28</th>\n",
       "      <td>64.69</td>\n",
       "      <td>46.36</td>\n",
       "    </tr>\n",
       "    <tr>\n",
       "      <th>2017-12-27</th>\n",
       "      <td>64.32</td>\n",
       "      <td>46.11</td>\n",
       "    </tr>\n",
       "    <tr>\n",
       "      <th>2017-12-26</th>\n",
       "      <td>64.49</td>\n",
       "      <td>46.28</td>\n",
       "    </tr>\n",
       "    <tr>\n",
       "      <th>2017-12-22</th>\n",
       "      <td>64.31</td>\n",
       "      <td>46.33</td>\n",
       "    </tr>\n",
       "  </tbody>\n",
       "</table>\n",
       "</div>"
      ],
      "text/plain": [
       "             QCOM   INTC\n",
       "Date                    \n",
       "2017-12-29  64.36  46.21\n",
       "2017-12-28  64.69  46.36\n",
       "2017-12-27  64.32  46.11\n",
       "2017-12-26  64.49  46.28\n",
       "2017-12-22  64.31  46.33"
      ]
     },
     "execution_count": 39,
     "metadata": {},
     "output_type": "execute_result"
    }
   ],
   "source": [
    "data=pd.concat([f1['Open'], f2['Open']], axis=1,join='inner')\n",
    "data.columns=['QCOM','INTC']\n",
    "data.head()"
   ]
  },
  {
   "cell_type": "code",
   "execution_count": 42,
   "metadata": {
    "collapsed": false
   },
   "outputs": [
    {
     "data": {
      "text/plain": [
       "<matplotlib.axes._subplots.AxesSubplot at 0x1fb57f81828>"
      ]
     },
     "execution_count": 42,
     "metadata": {},
     "output_type": "execute_result"
    },
    {
     "data": {
      "image/png": "[encoded data removed]",
      "text/plain": [
       "<matplotlib.figure.Figure at 0x1fb57f99048>"
      ]
     },
     "metadata": {},
     "output_type": "display_data"
    }
   ],
   "source": [
    "%matplotlib inline\n",
    "fig, ax = plt.subplots(figsize=(20,7))\n",
    "data.plot(ax=ax)"
   ]
  },
  {
   "cell_type": "markdown",
   "metadata": {},
   "source": [
    "Use this dataset on [2006 - 2011 NYS Math Test Results By Grade - School Level] to answer this question. This is from NYC Open Data. Display the average of the mean scale scores grouped by school (DBN) and Grade"
   ]
  },
  {
   "cell_type": "code",
   "execution_count": 44,
   "metadata": {
    "collapsed": false
   },
   "outputs": [
    {
     "data": {
      "text/html": [
       "<div>\n",
       "<table border=\"1\" class=\"dataframe\">\n",
       "  <thead>\n",
       "    <tr style=\"text-align: right;\">\n",
       "      <th></th>\n",
       "      <th>DBN</th>\n",
       "      <th>Grade</th>\n",
       "      <th>Mean Scale Score</th>\n",
       "    </tr>\n",
       "  </thead>\n",
       "  <tbody>\n",
       "    <tr>\n",
       "      <th>0</th>\n",
       "      <td>01M015</td>\n",
       "      <td>3</td>\n",
       "      <td>667.0</td>\n",
       "    </tr>\n",
       "    <tr>\n",
       "      <th>1</th>\n",
       "      <td>01M015</td>\n",
       "      <td>3</td>\n",
       "      <td>672.0</td>\n",
       "    </tr>\n",
       "    <tr>\n",
       "      <th>2</th>\n",
       "      <td>01M015</td>\n",
       "      <td>3</td>\n",
       "      <td>668.0</td>\n",
       "    </tr>\n",
       "    <tr>\n",
       "      <th>3</th>\n",
       "      <td>01M015</td>\n",
       "      <td>3</td>\n",
       "      <td>668.0</td>\n",
       "    </tr>\n",
       "    <tr>\n",
       "      <th>4</th>\n",
       "      <td>01M015</td>\n",
       "      <td>3</td>\n",
       "      <td>677.0</td>\n",
       "    </tr>\n",
       "  </tbody>\n",
       "</table>\n",
       "</div>"
      ],
      "text/plain": [
       "      DBN Grade  Mean Scale Score\n",
       "0  01M015     3             667.0\n",
       "1  01M015     3             672.0\n",
       "2  01M015     3             668.0\n",
       "3  01M015     3             668.0\n",
       "4  01M015     3             677.0"
      ]
     },
     "execution_count": 44,
     "metadata": {},
     "output_type": "execute_result"
    }
   ],
   "source": [
    "data2=pd.read_csv('2006_-_2011_NYS_Math_Test_Results_By_Grade_-_School_Level_-_All_Students.csv', low_memory=False)\n",
    "df=pd.DataFrame(data2, columns=['DBN','Grade','Mean Scale Score'])\n",
    "df.head()"
   ]
  },
  {
   "cell_type": "code",
   "execution_count": 45,
   "metadata": {
    "collapsed": false
   },
   "outputs": [
    {
     "data": {
      "text/plain": [
       "DBN     Grade     \n",
       "01M015  3             670.500000\n",
       "        4             654.833333\n",
       "        5             652.833333\n",
       "        6             639.000000\n",
       "        All Grades    669.000000\n",
       "01M019  3             679.166667\n",
       "        4             674.000000\n",
       "        5             674.333333\n",
       "        6             654.000000\n",
       "        7                    NaN\n",
       "        All Grades    683.000000\n",
       "01M020  3             681.833333\n",
       "        4             677.500000\n",
       "        5             680.000000\n",
       "        6             664.000000\n",
       "        All Grades    682.000000\n",
       "01M034  3             684.666667\n",
       "        4             672.833333\n",
       "        5             664.333333\n",
       "        6             654.333333\n",
       "        7             653.166667\n",
       "        8             641.833333\n",
       "        All Grades    673.000000\n",
       "01M063  3             676.500000\n",
       "        4             676.833333\n",
       "        5             670.000000\n",
       "        6             672.000000\n",
       "        All Grades    689.000000\n",
       "01M064  3             676.000000\n",
       "        4             670.000000\n",
       "                         ...    \n",
       "75X186  6             594.666667\n",
       "        7             588.666667\n",
       "        8             590.333333\n",
       "        All Grades    621.000000\n",
       "75X188  3             650.000000\n",
       "        4             649.500000\n",
       "        5             635.333333\n",
       "        6             612.333333\n",
       "        7             609.000000\n",
       "        8             597.666667\n",
       "        All Grades    623.000000\n",
       "75X352  3             638.600000\n",
       "        4             626.800000\n",
       "        5             610.000000\n",
       "        6             603.000000\n",
       "        7             611.400000\n",
       "        8             606.000000\n",
       "        All Grades    635.000000\n",
       "75X721  5                    NaN\n",
       "        6             573.000000\n",
       "        7             615.000000\n",
       "        8                    NaN\n",
       "        All Grades    635.000000\n",
       "75X723  3             643.333333\n",
       "        4             615.166667\n",
       "        5             606.666667\n",
       "        6             583.666667\n",
       "        7             587.166667\n",
       "        8             577.833333\n",
       "        All Grades    617.000000\n",
       "Name: Mean Scale Score, dtype: float64"
      ]
     },
     "execution_count": 45,
     "metadata": {},
     "output_type": "execute_result"
    }
   ],
   "source": [
    "df.groupby(['DBN','Grade'])['Mean Scale Score'].mean()"
   ]
  },
  {
   "cell_type": "markdown",
   "metadata": {},
   "source": [
    "Use this dataset to answer this question. This is from NYC Open data. This data is on parking violations in January, February, and March in 2013. Display the top ten Registration States by number of violations. Show this as a plot as well. Plot the top five plate types by number of violations. "
   ]
  },
  {
   "cell_type": "code",
   "execution_count": 56,
   "metadata": {
    "collapsed": false
   },
   "outputs": [
    {
     "data": {
      "text/html": [
       "<div>\n",
       "<table border=\"1\" class=\"dataframe\">\n",
       "  <thead>\n",
       "    <tr style=\"text-align: right;\">\n",
       "      <th></th>\n",
       "      <th>Registration State</th>\n",
       "      <th>Plate Type</th>\n",
       "    </tr>\n",
       "  </thead>\n",
       "  <tbody>\n",
       "    <tr>\n",
       "      <th>0</th>\n",
       "      <td>NY</td>\n",
       "      <td>COM</td>\n",
       "    </tr>\n",
       "    <tr>\n",
       "      <th>1</th>\n",
       "      <td>NY</td>\n",
       "      <td>COM</td>\n",
       "    </tr>\n",
       "    <tr>\n",
       "      <th>2</th>\n",
       "      <td>IL</td>\n",
       "      <td>PAS</td>\n",
       "    </tr>\n",
       "    <tr>\n",
       "      <th>3</th>\n",
       "      <td>NJ</td>\n",
       "      <td>PAS</td>\n",
       "    </tr>\n",
       "    <tr>\n",
       "      <th>4</th>\n",
       "      <td>NY</td>\n",
       "      <td>PAS</td>\n",
       "    </tr>\n",
       "  </tbody>\n",
       "</table>\n",
       "</div>"
      ],
      "text/plain": [
       "  Registration State Plate Type\n",
       "0                 NY        COM\n",
       "1                 NY        COM\n",
       "2                 IL        PAS\n",
       "3                 NJ        PAS\n",
       "4                 NY        PAS"
      ]
     },
     "execution_count": 56,
     "metadata": {},
     "output_type": "execute_result"
    }
   ],
   "source": [
    "data2=pd.read_csv('ParkingViolations-NYC-JanFebMar2013.csv', low_memory=False)\n",
    "df2=pd.DataFrame(data2, columns=['Registration State','Plate Type'])\n",
    "df2.head()\n"
   ]
  },
  {
   "cell_type": "code",
   "execution_count": 57,
   "metadata": {
    "collapsed": false
   },
   "outputs": [
    {
     "name": "stdout",
     "output_type": "stream",
     "text": [
      "NY    1839\n",
      "NJ     171\n",
      "99     108\n",
      "PA      59\n",
      "FL      37\n",
      "MA      29\n",
      "CT      19\n",
      "VA      19\n",
      "AZ      14\n",
      "NC      11\n",
      "Name: Registration State, dtype: int64\n"
     ]
    }
   ],
   "source": [
    "df3=df2['Registration State'].value_counts()[:10]\n",
    "print(df3)"
   ]
  },
  {
   "cell_type": "code",
   "execution_count": 58,
   "metadata": {
    "collapsed": false
   },
   "outputs": [
    {
     "data": {
      "text/plain": [
       "<matplotlib.axes._subplots.AxesSubplot at 0x1fb58672278>"
      ]
     },
     "execution_count": 58,
     "metadata": {},
     "output_type": "execute_result"
    },
    {
     "data": {
      "image/png": "[encoded data removed]",
      "text/plain": [
       "<matplotlib.figure.Figure at 0x1fb58563860>"
      ]
     },
     "metadata": {},
     "output_type": "display_data"
    }
   ],
   "source": [
    "df3.plot.bar()"
   ]
  },
  {
   "cell_type": "code",
   "execution_count": 59,
   "metadata": {
    "collapsed": false
   },
   "outputs": [
    {
     "name": "stdout",
     "output_type": "stream",
     "text": [
      "PAS    1667\n",
      "COM     564\n",
      "999      94\n",
      "SRF      63\n",
      "OMR      14\n",
      "Name: Plate Type, dtype: int64\n"
     ]
    }
   ],
   "source": [
    "df4=df2['Plate Type'].value_counts()[:5]\n",
    "print(df4)"
   ]
  },
  {
   "cell_type": "code",
   "execution_count": 60,
   "metadata": {
    "collapsed": false
   },
   "outputs": [
    {
     "data": {
      "text/plain": [
       "<matplotlib.axes._subplots.AxesSubplot at 0x1fb589a1320>"
      ]
     },
     "execution_count": 60,
     "metadata": {},
     "output_type": "execute_result"
    },
    {
     "data": {
      "image/png": "[encoded data removed]",
      "text/plain": [
       "<matplotlib.figure.Figure at 0x1fb58613cc0>"
      ]
     },
     "metadata": {},
     "output_type": "display_data"
    }
   ],
   "source": [
    "df4.plot.bar()"
   ]
  },
  {
   "cell_type": "markdown",
   "metadata": {},
   "source": [
    "Scrape the website of the Journal of MIS for Volume 34 Number 2 2017 (http://www.jmis-web.org/issues/135) to get a list of titles of articles and the first authors published in this issue.  Add the article title and first author for all these published articles to a dictionary. Ask the user for keyword(s) they would like to search for. Check if the keyword(s) input by the user exists in any of the titles and display those titles that match the keyword search. Also, list of the first author for that article. "
   ]
  },
  {
   "cell_type": "code",
   "execution_count": 61,
   "metadata": {
    "collapsed": true
   },
   "outputs": [],
   "source": [
    "import json\n",
    "from bs4 import BeautifulSoup\n",
    "from urllib.request import urlopen\n",
    "import requests\n",
    "\n",
    "r = requests.get('http://www.jmis-web.org/issues/135')\n",
    "c=r.text\n",
    "soup = BeautifulSoup(c, 'html.parser')"
   ]
  },
  {
   "cell_type": "code",
   "execution_count": 135,
   "metadata": {
    "collapsed": false
   },
   "outputs": [
    {
     "name": "stdout",
     "output_type": "stream",
     "text": [
      "0 Journal of Management Information Systems\n",
      "1 \n",
      "Zwass Vladimir \n",
      "2 \n",
      "Clemons Eric K\n",
      "3 \n",
      "Gunarathne Priyanga\n",
      "4 \n",
      "Weber Thomas A \n",
      "5 \n",
      "Karwatzki Sabrina\n",
      "6 \n",
      "Ge Ruyi\n",
      "7 \n",
      "Clemons Eric K\n",
      "8 \n",
      "Pinsonneault Alain\n",
      "9 \n",
      "Guo Shanshan\n",
      "10 \n",
      "Bala Hillol\n",
      "11 \n",
      "James Tabitha L\n",
      "12 \n",
      "Jensen Matthew L\n"
     ]
    }
   ],
   "source": [
    "dt={}\n",
    "y=soup.find_all('em')\n",
    "count=0\n",
    "for b in y:\n",
    "    author=str(b.get_text())\n",
    "    first_author=author.split(',',2)[:2]\n",
    "    first_author=''.join(first_author)\n",
    "    dt[count]=first_author\n",
    "    count+=1\n",
    "    \n",
    "for key,value in dt.items():\n",
    "    print (key,value)"
   ]
  },
  {
   "cell_type": "code",
   "execution_count": 136,
   "metadata": {
    "collapsed": false
   },
   "outputs": [
    {
     "name": "stdout",
     "output_type": "stream",
     "text": [
      "Editorial Introduction Journal of Management Information Systems\n",
      "Special Section: Technological Innovations for Communication and Collaboration in Social Spaces \n",
      "Zwass Vladimir \n",
      "Whose and What Social Media Complaints Have Happier Resolutions? Evidence from Twitter \n",
      "Clemons Eric K\n",
      "Smart Products for Sharing \n",
      "Gunarathne Priyanga\n",
      "Beyond the Personalization–Privacy Paradox: Privacy Valuation, Transparency Features, and Service Personalization \n",
      "Weber Thomas A \n",
      "Predicting and Deterring Default with Social Media Information in Peer-to-Peer Lending \n",
      "Karwatzki Sabrina\n",
      "Understanding the Information-Based Transformation of Strategy and Society \n",
      "Ge Ruyi\n",
      "Integrated Health Information Technology and the Quality of Patient Care: A Natural Experiment \n",
      "Clemons Eric K\n",
      "How Doctors Gain Social and Economic Returns in Online Health-Care Communities: A Professional Capital Perspective \n",
      "Pinsonneault Alain\n",
      "The Effects of Process Orientations on Collaboration Technology Use and Outcomes in Product Development \n",
      "Guo Shanshan\n",
      "The Effect of Belongingness on Obsessive-Compulsive Disorder in the Use of Online Social Networks \n",
      "Bala Hillol\n",
      "Training to Mitigate Phishing Attacks Using Mindfulness Techniques \n",
      "James Tabitha L\n"
     ]
    }
   ],
   "source": [
    "dt1={}\n",
    "x=soup.find_all('h4')\n",
    "dcount=0\n",
    "for a in x:\n",
    "    dt1[a.get_text()]=dt[dcount]\n",
    "    dcount+=1\n",
    "for key,value in dt1.items():\n",
    "    print (key,value)"
   ]
  },
  {
   "cell_type": "code",
   "execution_count": 93,
   "metadata": {
    "collapsed": false
   },
   "outputs": [
    {
     "name": "stdout",
     "output_type": "stream",
     "text": [
      "What do you want to search for?Special Section\n",
      "Special Section: Technological Innovations for Communication and Collaboration in Social Spaces \n"
     ]
    }
   ],
   "source": [
    "mykeyword=input(\"What do you want to search for?\")\n",
    "for key,value in dt1.items():\n",
    "    i=key.find(mykeyword)\n",
    "    if (i!=-1):\n",
    "        print(key,value.split(value,1)[1])"
   ]
  }
 ],
 "metadata": {
  "kernelspec": {
   "display_name": "Python 3",
   "language": "python",
   "name": "python3"
  },
  "language_info": {
   "codemirror_mode": {
    "name": "ipython",
    "version": 3
   },
   "file_extension": ".py",
   "mimetype": "text/x-python",
   "name": "python",
   "nbconvert_exporter": "python",
   "pygments_lexer": "ipython3",
   "version": "3.6.0"
  }
 },
 "nbformat": 4,
 "nbformat_minor": 2
}
