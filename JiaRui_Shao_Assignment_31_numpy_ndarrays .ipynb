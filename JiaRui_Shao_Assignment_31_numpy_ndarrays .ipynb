{
 "cells": [
  {
   "cell_type": "markdown",
   "metadata": {},
   "source": [
    "__JiaRui Shao__"
   ]
  },
  {
   "cell_type": "markdown",
   "metadata": {},
   "source": [
    "Assignment 31: numpy ndarrays \n",
    "\n",
    "Create two ndarrays of shape (2×2) and fill it with random numbers. Display the two arrays. Calculate and display the dot product of the two arrays. Calculate and display the element-wise sum of the two arrays.\n"
   ]
  },
  {
   "cell_type": "code",
   "execution_count": 18,
   "metadata": {},
   "outputs": [
    {
     "name": "stdout",
     "output_type": "stream",
     "text": [
      "[[8 0]\n",
      " [8 2]]\n",
      "\n",
      "\n",
      "[[14 10]\n",
      " [12  1]]\n",
      "\n",
      "\n",
      "[[112  80]\n",
      " [136  82]]\n",
      "\n",
      "\n",
      "[[22 10]\n",
      " [20  3]]\n"
     ]
    }
   ],
   "source": [
    "import numpy as np\n",
    "\n",
    "arr1=np.random.randint(10,size=(2,2))\n",
    "arr2=np.random.randint(20,size=(2,2))\n",
    "print(arr1)\n",
    "print(\"\\n\")\n",
    "print(arr2)\n",
    "print(\"\\n\")\n",
    "\n",
    "#dot product\n",
    "dot_p=np.dot(arr1,arr2)\n",
    "print(dot_p)\n",
    "print(\"\\n\")\n",
    "ele_add=np.add(arr1,arr2)\n",
    "print(ele_add)"
   ]
  }
 ],
 "metadata": {
  "kernelspec": {
   "display_name": "Python 3",
   "language": "python",
   "name": "python3"
  },
  "language_info": {
   "codemirror_mode": {
    "name": "ipython",
    "version": 3
   },
   "file_extension": ".py",
   "mimetype": "text/x-python",
   "name": "python",
   "nbconvert_exporter": "python",
   "pygments_lexer": "ipython3",
   "version": "3.6.4"
  }
 },
 "nbformat": 4,
 "nbformat_minor": 2
}
