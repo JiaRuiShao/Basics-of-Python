{
 "cells": [
  {
   "cell_type": "markdown",
   "metadata": {},
   "source": [
    "__JiaRui Shao__"
   ]
  },
  {
   "cell_type": "markdown",
   "metadata": {},
   "source": [
    "Write a program to create three dictionaries that have the key-value pairs from these three files linked above.  The program should then ask the user for a course number and then display the instructor, meeting start time, and days of meeting for that course."
   ]
  },
  {
   "cell_type": "code",
   "execution_count": 38,
   "metadata": {},
   "outputs": [
    {
     "name": "stdout",
     "output_type": "stream",
     "text": [
      "What course do u want to search: CIS3100\n",
      "Ennoure F 09:05AM\n"
     ]
    }
   ],
   "source": [
    "read_course={}\n",
    "open_file=open(\"CourseInstructor.txt\",\"r\")\n",
    "open_file2=open(\"CourseDays.txt\",\"r\")\n",
    "open_file3=open(\"CourseMeetingTime.txt\",\"r\")\n",
    "\n",
    "for lines in open_file:\n",
    "    lines=lines.split('\t')\n",
    "    key=lines[0]\n",
    "    word=lines[1].rstrip('\\n')\n",
    "    read_course[key]=word\n",
    "\n",
    "for lines in open_file2:\n",
    "    lines=lines.split('\t')\n",
    "    key=lines[0]\n",
    "    word=' '+lines[1].rstrip('\\n')\n",
    "    read_course[key] += word\n",
    "\n",
    "for lines in open_file3:\n",
    "    lines=lines.split('\t')\n",
    "    key=lines[0]\n",
    "    word=' '+lines[1].rstrip('\\n')\n",
    "    read_course[key] += word\n",
    "    \n",
    "open_file.close()\n",
    "open_file2.close()\n",
    "open_file3.close()\n",
    "\n",
    "mycourse=input(\"What course do u want to search: \")\n",
    "print(read_course.get(mycourse,0))"
   ]
  },
  {
   "cell_type": "code",
   "execution_count": 36,
   "metadata": {},
   "outputs": [
    {
     "name": "stdout",
     "output_type": "stream",
     "text": [
      "What course do u want to search: CIS3120\n",
      "Kumar TuTh 02:30PM\n"
     ]
    }
   ],
   "source": [
    "read_course={}\n",
    "open_file=open(\"CourseInstructor.txt\",\"r\")\n",
    "open_file2=open(\"CourseDays.txt\",\"r\")\n",
    "open_file3=open(\"CourseMeetingTime.txt\",\"r\")\n",
    "\n",
    "for lines in open_file:\n",
    "    lines=lines.split('\t')\n",
    "    key=lines[0]\n",
    "    word=lines[1].rstrip('\\n')\n",
    "    read_course[key]=word\n",
    "\n",
    "for lines in open_file2:\n",
    "    lines=lines.split('\t')\n",
    "    key=lines[0]\n",
    "    word=' '+lines[1].rstrip('\\n')\n",
    "    read_course[key] += word\n",
    "\n",
    "for lines in open_file3:\n",
    "    lines=lines.split('\t')\n",
    "    key=lines[0]\n",
    "    word=' '+lines[1].rstrip('\\n')\n",
    "    read_course[key] += word\n",
    "    \n",
    "open_file.close()\n",
    "open_file2.close()\n",
    "open_file3.close()\n",
    "\n",
    "mycourse=input(\"What course do u want to search: \")\n",
    "try:\n",
    "    print(read_course[mycourse])\n",
    "except:\n",
    "    print(\"We cannot find this course.\")"
   ]
  }
 ],
 "metadata": {
  "kernelspec": {
   "display_name": "Python 3",
   "language": "python",
   "name": "python3"
  },
  "language_info": {
   "codemirror_mode": {
    "name": "ipython",
    "version": 3
   },
   "file_extension": ".py",
   "mimetype": "text/x-python",
   "name": "python",
   "nbconvert_exporter": "python",
   "pygments_lexer": "ipython3",
   "version": "3.6.4"
  }
 },
 "nbformat": 4,
 "nbformat_minor": 2
}
