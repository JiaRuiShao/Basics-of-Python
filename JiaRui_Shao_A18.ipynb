{
 "cells": [
  {
   "cell_type": "code",
   "execution_count": 14,
   "metadata": {},
   "outputs": [
    {
     "name": "stdout",
     "output_type": "stream",
     "text": [
      "Maximum number is: 180\n",
      "Minimum number is: 94\n",
      "Average number is: 148.15\n"
     ]
    }
   ],
   "source": [
    "def main():\n",
    "    open_file=open(\"scores.txt\",'r')\n",
    "    count=0\n",
    "    total=0\n",
    "    min_num=10000\n",
    "    max_num=-1\n",
    "    #max\n",
    "    for line in open_file:\n",
    "        scores=int(line)\n",
    "        count+=1\n",
    "        total+=scores\n",
    "        if scores < min_num:\n",
    "            min_num=scores\n",
    "        if scores > max_num:\n",
    "            max_num=scores\n",
    "    print(\"Maximum number is:\",max_num)\n",
    "    print(\"Minimum number is:\",min_num)\n",
    "    print('Average number is:',format(total/count,'.2f'))\n",
    "    open_file.close()\n",
    "    return\n",
    "\n",
    "main()"
   ]
  }
 ],
 "metadata": {
  "kernelspec": {
   "display_name": "Python 3",
   "language": "python",
   "name": "python3"
  },
  "language_info": {
   "codemirror_mode": {
    "name": "ipython",
    "version": 3
   },
   "file_extension": ".py",
   "mimetype": "text/x-python",
   "name": "python",
   "nbconvert_exporter": "python",
   "pygments_lexer": "ipython3",
   "version": "3.6.3"
  }
 },
 "nbformat": 4,
 "nbformat_minor": 2
}
