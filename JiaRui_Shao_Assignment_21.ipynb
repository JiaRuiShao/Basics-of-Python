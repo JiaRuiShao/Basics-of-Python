{
 "cells": [
  {
   "cell_type": "markdown",
   "metadata": {},
   "source": [
    "Write a program that lets the user enter a string and displays the character that appears most frequently in the string along with the number of times this character appeared."
   ]
  },
  {
   "cell_type": "code",
   "execution_count": 19,
   "metadata": {},
   "outputs": [
    {
     "name": "stdout",
     "output_type": "stream",
     "text": [
      "Enter a string: adfghjjjjjj\n",
      "The most frequently appears letter is: j\n",
      "It shows 6 times\n"
     ]
    }
   ],
   "source": [
    "#JiaRui Shao\n",
    "\n",
    "def find_char(s):\n",
    "    char={}\n",
    "    for character in s:\n",
    "        char[character] = char.get(character,0)+1\n",
    "    return max(char)\n",
    "\n",
    "def main():\n",
    "    string=input(\"Enter a string: \")\n",
    "    count=0\n",
    "    for i in string:\n",
    "        if i == find_char(string):\n",
    "            count+=1\n",
    "    print(\"The most frequently appears letter is:\",find_char(string))\n",
    "    print(\"It shows\",count,\"times\")\n",
    "    return\n",
    "\n",
    "main()"
   ]
  },
  {
   "cell_type": "code",
   "execution_count": 22,
   "metadata": {},
   "outputs": [
    {
     "name": "stdout",
     "output_type": "stream",
     "text": [
      "Enter a string: adfghjjjjjj\n"
     ]
    },
    {
     "data": {
      "text/plain": [
       "[('j', 6)]"
      ]
     },
     "execution_count": 22,
     "metadata": {},
     "output_type": "execute_result"
    }
   ],
   "source": [
    "#Alternative\n",
    "from collections import Counter\n",
    "\n",
    "def count_char():\n",
    "    string=input(\"Enter a string: \")\n",
    "    Counter(string).most_common(1)\n",
    "    return Counter(string).most_common(1)\n",
    "\n",
    "count_char()"
   ]
  }
 ],
 "metadata": {
  "kernelspec": {
   "display_name": "Python 3",
   "language": "python",
   "name": "python3"
  },
  "language_info": {
   "codemirror_mode": {
    "name": "ipython",
    "version": 3
   },
   "file_extension": ".py",
   "mimetype": "text/x-python",
   "name": "python",
   "nbconvert_exporter": "python",
   "pygments_lexer": "ipython3",
   "version": "3.6.3"
  }
 },
 "nbformat": 4,
 "nbformat_minor": 2
}
