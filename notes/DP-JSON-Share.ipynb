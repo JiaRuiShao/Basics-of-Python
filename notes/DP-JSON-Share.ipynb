{
 "cells": [
  {
   "cell_type": "markdown",
   "metadata": {},
   "source": [
    "#### JSON\n",
    "##### Agenda\n",
    "What is JSON?<br>\n",
    "Using JSON in Python<br>\n"
   ]
  },
  {
   "cell_type": "markdown",
   "metadata": {},
   "source": [
    "JSON (JavaScript Object Notation) is a lightweight object format that is used to exchange data in a structured format.  It is similar to XML and is used more widely because it is lightweight.  It is easy to understand both visually by humans and of course easy to understand for the computers (as they use well known data structures).  These data structures correspond closely to the lists and dictionaries we explored in python.  Many of the APIs (Application Programming Interfaces) we examine in the next module (from Google, Twitter etc.) will use JSON to provide the data to us.<hr>"
   ]
  },
  {
   "cell_type": "code",
   "execution_count": 1,
   "metadata": {
    "collapsed": true
   },
   "outputs": [],
   "source": [
    "# two strings that contains a dictionary structure inside\n",
    "\n",
    "jstr1='{\"id\": \"1\", \"name\": \"Tim\", \"age\": \"20\"}'\n",
    "jstr2='''{\n",
    "           \"id\": \"2\", \n",
    "           \"name\": \"Kim\", \n",
    "           \"age\": \"21\"\n",
    "         }'''"
   ]
  },
  {
   "cell_type": "code",
   "execution_count": 2,
   "metadata": {},
   "outputs": [
    {
     "name": "stdout",
     "output_type": "stream",
     "text": [
      "<class 'dict'> 3\n"
     ]
    }
   ],
   "source": [
    "# Parsing json data\n",
    "# json looks similar in structure to a dictionary\n",
    "# json structure is useful to know as it is used widely to exchange data\n",
    "\n",
    "import json\n",
    "\n",
    "jp1=json.loads(jstr1)\n",
    "jp2=json.loads(jstr2)\n",
    "print(type(jp1), len(jp1))"
   ]
  },
  {
   "cell_type": "code",
   "execution_count": 3,
   "metadata": {},
   "outputs": [
    {
     "name": "stdout",
     "output_type": "stream",
     "text": [
      "id 1\n",
      "name Tim\n",
      "age 20\n"
     ]
    }
   ],
   "source": [
    "# print keys and values for jp1 or jp2\n",
    "\n",
    "for k,v in jp1.items():\n",
    "    print (k,v)"
   ]
  },
  {
   "cell_type": "code",
   "execution_count": 4,
   "metadata": {
    "collapsed": true
   },
   "outputs": [],
   "source": [
    "jstr3='''[\n",
    "          {\n",
    "           \"id\": \"1\", \n",
    "           \"name\": \"Tim\", \n",
    "           \"age\": \"20\"\n",
    "          },\n",
    "         \n",
    "          {\n",
    "           \"id\": \"2\", \n",
    "           \"name\": \"Kim\", \n",
    "           \"age\": \"21\"\n",
    "          },\n",
    "         \n",
    "          {\n",
    "           \"id\": \"3\", \n",
    "           \"name\": \"Juan\", \n",
    "           \"age\": \"20\"\n",
    "          }\n",
    "         ]'''"
   ]
  },
  {
   "cell_type": "code",
   "execution_count": 5,
   "metadata": {},
   "outputs": [
    {
     "name": "stdout",
     "output_type": "stream",
     "text": [
      "<class 'list'> 3\n"
     ]
    }
   ],
   "source": [
    "import json\n",
    "\n",
    "jp3=json.loads(jstr3)\n",
    "print(type(jp3), len(jp3))"
   ]
  },
  {
   "cell_type": "code",
   "execution_count": 6,
   "metadata": {},
   "outputs": [
    {
     "name": "stdout",
     "output_type": "stream",
     "text": [
      "Tim\n",
      "Kim\n",
      "Juan\n"
     ]
    }
   ],
   "source": [
    "for item in jp3:\n",
    "    print(item['name'])"
   ]
  },
  {
   "cell_type": "code",
   "execution_count": 10,
   "metadata": {},
   "outputs": [
    {
     "name": "stdout",
     "output_type": "stream",
     "text": [
      "{'id': '1', 'name': 'Tim', 'age': '20'}\n",
      "{'id': '2', 'name': 'Kim', 'age': '21'}\n",
      "{'id': '3', 'name': 'Juan', 'age': '20'}\n"
     ]
    }
   ],
   "source": [
    "for item in jp3:\n",
    "    print(item)"
   ]
  },
  {
   "cell_type": "code",
   "execution_count": 12,
   "metadata": {
    "collapsed": true
   },
   "outputs": [],
   "source": [
    "jstr4='''[\n",
    "          {\n",
    "           \"id\": \"1\", \n",
    "           \"name\": \"Tim\", \n",
    "           \"age\": \"20\",\n",
    "           \"tel\": {\"ext\":\"1000\", \"private\":\"no\"}\n",
    "          },\n",
    "         \n",
    "          {\n",
    "           \"id\": \"2\", \n",
    "           \"name\": \"Kim\", \n",
    "           \"age\": \"21\",\n",
    "           \"tel\": {\"ext\":\"1001\", \"private\":\"yes\"}\n",
    "          },\n",
    "         \n",
    "          {\n",
    "           \"id\": \"3\", \n",
    "           \"name\": \"Juan\", \n",
    "           \"age\": \"20\",\n",
    "           \"tel\": {\"ext\":\"1002\", \"private\":\"yes\"}\n",
    "          }\n",
    "         ]'''\n",
    "\n",
    "#you can use http://jsonviewer.stack.hu/ to view this in a tree-like structure"
   ]
  },
  {
   "cell_type": "code",
   "execution_count": 13,
   "metadata": {},
   "outputs": [
    {
     "name": "stdout",
     "output_type": "stream",
     "text": [
      "<class 'list'> 3\n"
     ]
    }
   ],
   "source": [
    "import json\n",
    "\n",
    "jp4=json.loads(jstr4)\n",
    "print(type(jp4), len(jp4))"
   ]
  },
  {
   "cell_type": "code",
   "execution_count": 14,
   "metadata": {},
   "outputs": [
    {
     "name": "stdout",
     "output_type": "stream",
     "text": [
      "Tim {'ext': '1000', 'private': 'no'}\n",
      "Kim {'ext': '1001', 'private': 'yes'}\n",
      "Juan {'ext': '1002', 'private': 'yes'}\n"
     ]
    }
   ],
   "source": [
    "# write code to print name and whether the extension is private or not (i.e. the value of the private key)\n",
    "\n",
    "for dt in jp4:\n",
    "    print(dt['name'], dt['tel'])"
   ]
  },
  {
   "cell_type": "code",
   "execution_count": 15,
   "metadata": {
    "collapsed": true
   },
   "outputs": [],
   "source": [
    "# getting data from the web\n",
    "# using json and api (simple request-response cycle)\n",
    "# We will examine this code in the next module\n",
    "\n",
    "from urllib.request import urlopen\n",
    "import requests\n",
    "import json\n",
    "\n",
    "omdb_url=\"http://www.omdbapi.com/?apikey=999999999&t=Frozen\"\n",
    "r = requests.get(omdb_url)\n"
   ]
  },
  {
   "cell_type": "code",
   "execution_count": 16,
   "metadata": {},
   "outputs": [
    {
     "name": "stdout",
     "output_type": "stream",
     "text": [
      "The first few characters in the string:  {\"Title\":\"Frozen\",\"Year\":\"2013\", \n",
      "\n",
      "{\"Title\":\"Frozen\",\"Year\":\"2013\",\"Rated\":\"PG\",\"Released\":\"27 Nov 2013\",\"Runtime\":\"102 min\",\"Genre\":\"Animation, Adventure, Comedy\",\"Director\":\"Chris Buck, Jennifer Lee\",\"Writer\":\"Jennifer Lee (screenplay by), Hans Christian Andersen (story inspired by \\\"The Snow Queen\\\" by), Chris Buck (story by), Jennifer Lee (story by), Shane Morris (story by)\",\"Actors\":\"Kristen Bell, Idina Menzel, Jonathan Groff, Josh Gad\",\"Plot\":\"When the newly-crowned Queen Elsa accidentally uses her power to turn things into ice to curse her home in infinite winter, her sister Anna teams up with a mountain man, his playful reindeer, and a snowman to change the weather condition.\",\"Language\":\"English, Norwegian\",\"Country\":\"USA\",\"Awards\":\"Won 2 Oscars. Another 77 wins & 57 nominations.\",\"Poster\":\"https://images-na.ssl-images-amazon.com/images/M/MV5BMTQ1MjQwMTE5OF5BMl5BanBnXkFtZTgwNjk3MTcyMDE@._V1_SX300.jpg\",\"Ratings\":[{\"Source\":\"Internet Movie Database\",\"Value\":\"7.5/10\"},{\"Source\":\"Rotten Tomatoes\",\"Value\":\"90%\"},{\"Source\":\"Metacritic\",\"Value\":\"74/100\"}],\"Metascore\":\"74\",\"imdbRating\":\"7.5\",\"imdbVotes\":\"478,434\",\"imdbID\":\"tt2294629\",\"Type\":\"movie\",\"DVD\":\"18 Mar 2014\",\"BoxOffice\":\"$400,736,600\",\"Production\":\"Walt Disney Pictures\",\"Website\":\"http://www.disney.com/frozen\",\"Response\":\"True\"}\n",
      "\n",
      "<class 'dict'> 25\n"
     ]
    }
   ],
   "source": [
    "jstr = r.text\n",
    "\n",
    "print('The first few characters in the string: ', jstr[:32], '\\n')\n",
    "print(jstr, end='\\n\\n')\n",
    "\n",
    "jp=json.loads(jstr)\n",
    "print(type(jp), len(jp))"
   ]
  },
  {
   "cell_type": "code",
   "execution_count": 17,
   "metadata": {},
   "outputs": [
    {
     "name": "stdout",
     "output_type": "stream",
     "text": [
      "Title \t Frozen\n",
      "Year \t 2013\n",
      "Rated \t PG\n",
      "Released \t 27 Nov 2013\n",
      "Runtime \t 102 min\n",
      "Genre \t Animation, Adventure, Comedy\n",
      "Director \t Chris Buck, Jennifer Lee\n",
      "Writer \t Jennifer Lee (screenplay by), Hans Christian Andersen (story inspired by \"The Snow Queen\" by), Chris Buck (story by), Jennifer Lee (story by), Shane Morris (story by)\n",
      "Actors \t Kristen Bell, Idina Menzel, Jonathan Groff, Josh Gad\n",
      "Plot \t When the newly-crowned Queen Elsa accidentally uses her power to turn things into ice to curse her home in infinite winter, her sister Anna teams up with a mountain man, his playful reindeer, and a snowman to change the weather condition.\n",
      "Language \t English, Norwegian\n",
      "Country \t USA\n",
      "Awards \t Won 2 Oscars. Another 77 wins & 57 nominations.\n",
      "Poster \t https://images-na.ssl-images-amazon.com/images/M/MV5BMTQ1MjQwMTE5OF5BMl5BanBnXkFtZTgwNjk3MTcyMDE@._V1_SX300.jpg\n",
      "Ratings \t [{'Source': 'Internet Movie Database', 'Value': '7.5/10'}, {'Source': 'Rotten Tomatoes', 'Value': '90%'}, {'Source': 'Metacritic', 'Value': '74/100'}]\n",
      "Metascore \t 74\n",
      "imdbRating \t 7.5\n",
      "imdbVotes \t 478,434\n",
      "imdbID \t tt2294629\n",
      "Type \t movie\n",
      "DVD \t 18 Mar 2014\n",
      "BoxOffice \t $400,736,600\n",
      "Production \t Walt Disney Pictures\n",
      "Website \t http://www.disney.com/frozen\n",
      "Response \t True\n"
     ]
    }
   ],
   "source": [
    "for key,value in jp.items():\n",
    "    print(key, '\\t', value)"
   ]
  },
  {
   "cell_type": "code",
   "execution_count": 18,
   "metadata": {},
   "outputs": [
    {
     "name": "stdout",
     "output_type": "stream",
     "text": [
      "When the newly-crowned Queen Elsa accidentally uses her power to turn things into ice to curse her home in infinite winter, her sister Anna teams up with a mountain man, his playful reindeer, and a snowman to change the weather condition.\n"
     ]
    }
   ],
   "source": [
    "print(jp['Plot'])"
   ]
  },
  {
   "cell_type": "code",
   "execution_count": null,
   "metadata": {
    "collapsed": true
   },
   "outputs": [],
   "source": []
  }
 ],
 "metadata": {
  "kernelspec": {
   "display_name": "Python 3",
   "language": "python",
   "name": "python3"
  },
  "language_info": {
   "codemirror_mode": {
    "name": "ipython",
    "version": 3
   },
   "file_extension": ".py",
   "mimetype": "text/x-python",
   "name": "python",
   "nbconvert_exporter": "python",
   "pygments_lexer": "ipython3",
   "version": "3.6.3"
  }
 },
 "nbformat": 4,
 "nbformat_minor": 1
}
