{
 "cells": [
  {
   "cell_type": "markdown",
   "metadata": {},
   "source": [
    "### Web Scraping: Intro"
   ]
  },
  {
   "cell_type": "markdown",
   "metadata": {
    "collapsed": true
   },
   "source": [
    "##### Agenda\n",
    "Intro to the Internet and the WWW (Part 1)<br> \n",
    "Using Python to access the web (Part 1)<br>\n",
    "Uisng Python to process content on the web (Part 1)<br>\n",
    "Primary Packages: urllib, requests, BeautifulSoup (Part 1 and Part 2)<hr>"
   ]
  },
  {
   "cell_type": "markdown",
   "metadata": {},
   "source": [
    "##### urllib or requests packages "
   ]
  },
  {
   "cell_type": "code",
   "execution_count": 4,
   "metadata": {},
   "outputs": [
    {
     "name": "stdout",
     "output_type": "stream",
     "text": [
      "<http.client.HTTPResponse object at 0x0000023FE4A99780>\n"
     ]
    }
   ],
   "source": [
    "from urllib.request import urlopen\n",
    "html = urlopen(\"http://faculty.baruch.cuny.edu/nkumar/pytest/page.htm\")\n",
    "print(html)"
   ]
  },
  {
   "cell_type": "code",
   "execution_count": 5,
   "metadata": {},
   "outputs": [
    {
     "name": "stdout",
     "output_type": "stream",
     "text": [
      "<class 'http.client.HTTPResponse'>\n",
      "\n",
      "<html>\n",
      "<head>\n",
      "<title>My Page</title>\n",
      "<meta http-equiv=\"Content-Type\" content=\"text/html; charset=iso-8859-1\">\n",
      "<!link href=\"myCSS.css\" rel=\"stylesheet\" type=\"text/css\">\n",
      "</head>\n",
      "\n",
      "<body>\n",
      "<div id=\"centerDoc\">\n",
      "<h1>Welcome to my page</h1>\n",
      "<p>\n",
      "Jim Beam<br>\n",
      "<a href=\"http://www.baruch.cuny.edu\">Baruch College</a><br>\n",
      "New York<br>\n",
      "\n",
      "</p>\n",
      "</div>\n",
      "\n",
      "<div id=\"navigation\">\n",
      "<h2>More Information</h2>\n",
      "Please check out <a href=\"page2.htm\">this other page</a>\n",
      "</div>\n",
      "\n",
      "</body>\n",
      "</html>\n"
     ]
    }
   ],
   "source": [
    "# anchor extraction from html document (part of the code)\n",
    "\n",
    "from urllib.request import urlopen\n",
    "\n",
    "webpage = urlopen('http://faculty.baruch.cuny.edu/nkumar/pytest/page.htm')\n",
    "print(type(webpage), end='\\n\\n')\n",
    "\n",
    "for line in webpage:\n",
    "    print(line.rstrip().decode('utf-8'))\n"
   ]
  },
  {
   "cell_type": "code",
   "execution_count": 6,
   "metadata": {},
   "outputs": [
    {
     "name": "stdout",
     "output_type": "stream",
     "text": [
      "<class 'http.client.HTTPResponse'>\n",
      "\n",
      "<class 'bs4.BeautifulSoup'> <class 'bs4.element.ResultSet'>\n",
      "\n",
      "[<a href=\"http://www.baruch.cuny.edu\">Baruch College</a>, <a href=\"page2.htm\">this other page</a>]\n",
      "\n",
      "The first item is: <a href=\"http://www.baruch.cuny.edu\">Baruch College</a>\n",
      "<class 'bs4.element.Tag'>\n",
      "\n",
      "http://www.baruch.cuny.edu\n",
      "page2.htm\n"
     ]
    }
   ],
   "source": [
    "# anchor extraction from html document (full code)\n",
    "# print the links (these use the anchor tag) on a web page \n",
    "\n",
    "from bs4 import BeautifulSoup\n",
    "from urllib.request import urlopen\n",
    "\n",
    "webpage = urlopen('http://faculty.baruch.cuny.edu/nkumar/pytest/page.htm')\n",
    "print(type(webpage), end='\\n\\n')\n",
    "\n",
    "soup = BeautifulSoup(webpage, \"lxml\")\n",
    "\n",
    "x=soup.findAll('a')\n",
    "print(type(soup), type(x), end='\\n\\n')\n",
    "print(x, end='\\n\\n')\n",
    "\n",
    "print('The first item is:', x[0])\n",
    "print(type(x[0]), end='\\n\\n')\n",
    "\n",
    "for anchor in x:\n",
    "    print(anchor.get('href'))\n",
    "    \n",
    "# Clean up the code (get rid of unnecessary print statments and examine it)\n",
    "# repeat the process for a different web site (for example, http://www.stat.columbia.edu/~gelman)"
   ]
  },
  {
   "cell_type": "code",
   "execution_count": 10,
   "metadata": {},
   "outputs": [
    {
     "name": "stdout",
     "output_type": "stream",
     "text": [
      "http://andrewgelman.com\n",
      "books/\n",
      "research/published\n",
      "research/unpublished\n",
      "videos/\n",
      "presentations/\n",
      "http://mc-stan.org/\n",
      "http://cran.r-project.org/web/packages/blme\n",
      "http://cran.r-project.org/web/packages/arm\n",
      "software/\n",
      "vitae.pdf\n",
      "mailto:gelman@stat.columbia.edu\n"
     ]
    }
   ],
   "source": [
    "# anchor extraction from html document (full code)\n",
    "# cleaned up code \n",
    "\n",
    "from bs4 import BeautifulSoup\n",
    "from urllib.request import urlopen\n",
    "\n",
    "webpage = urlopen('http://www.stat.columbia.edu/~gelman')\n",
    "soup = BeautifulSoup(webpage, \"lxml\") # lxml to parse webpage\n",
    "\n",
    "x = soup.findAll('a')\n",
    "for anchor in x:\n",
    "    print(anchor.get('href'))"
   ]
  },
  {
   "cell_type": "code",
   "execution_count": 8,
   "metadata": {},
   "outputs": [
    {
     "name": "stdout",
     "output_type": "stream",
     "text": [
      "The value of r is <Response [200]> \n",
      "\n",
      "<class 'str'> \n",
      "\n",
      "<html>\r\n",
      "<head>\r\n",
      "<title>My Page</title>\r\n",
      "<meta http-equiv=\"Content-Type\" content=\"text/html; charset=iso-8859-1\">\r\n",
      "<!link href=\"myCSS.css\" rel=\"stylesheet\" type=\"text/css\">\r\n",
      "</head>\r\n",
      "\r\n",
      "<body>\r\n",
      "<div id=\"centerDoc\">\r\n",
      "<h1>Welcome to my page</h1>\r\n",
      "<p>\r\n",
      "Jim Beam<br>\r\n",
      "<a href=\"http://www.baruch.cuny.edu\">B\n",
      "\n"
     ]
    }
   ],
   "source": [
    "import requests\n",
    "r = requests.get('http://faculty.baruch.cuny.edu/nkumar/pytest/page.htm')\n",
    "c=r.text\n",
    "print('The value of r is', r, '\\n')\n",
    "print(type(c), '\\n')\n",
    "# print('The variable c belongs to data type: ', type(c), end='\\n\\n') \n",
    "    #print the first few characters from c which is a string data type\n",
    "print(c[:300], end='\\n\\n')"
   ]
  },
  {
   "cell_type": "code",
   "execution_count": 9,
   "metadata": {},
   "outputs": [
    {
     "name": "stdout",
     "output_type": "stream",
     "text": [
      "The value of r is <Response [200]> \n",
      "\n",
      "tags: [<a href=\"http://www.baruch.cuny.edu\">Baruch College</a>, <a href=\"page2.htm\">this other page</a>] \n",
      "\n",
      "The first item is: <a href=\"http://www.baruch.cuny.edu\">Baruch College</a> \n",
      "\n",
      "element:  <a href=\"http://www.baruch.cuny.edu\">Baruch College</a>\n",
      "link:  http://www.baruch.cuny.edu \n",
      "\n",
      "element:  <a href=\"page2.htm\">this other page</a>\n",
      "link:  page2.htm \n",
      "\n"
     ]
    }
   ],
   "source": [
    "import requests\n",
    "r = requests.get('http://faculty.baruch.cuny.edu/nkumar/pytest/page.htm')\n",
    "c=r.text\n",
    "print('The value of r is', r, '\\n')\n",
    "# print(type(c), '\\n')\n",
    "# print('The variable c belongs to data type: ', type(c), end='\\n\\n') \n",
    "    #print the first few characters from c which is a string data type\n",
    "# print(c[:300], end='\\n\\n')\n",
    "\n",
    "soup = BeautifulSoup(c, 'lxml')\n",
    "\n",
    "tags=soup.findAll('a')\n",
    "print('tags:',tags, '\\n')\n",
    "\n",
    "print('The first item is:', tags[0], '\\n')\n",
    "\n",
    "for element in soup.findAll('a'):\n",
    "    print('element: ', element)\n",
    "    print('link: ', element.get('href'), '\\n')"
   ]
  },
  {
   "cell_type": "code",
   "execution_count": null,
   "metadata": {
    "collapsed": true
   },
   "outputs": [],
   "source": [
    "import requests\n",
    "from bs4 import BeautifulSoup\n",
    "\n",
    "r = requests.get('http://faculty.baruch.cuny.edu/nkumar/pytest/page.htm')\n",
    "c = r.text\n",
    "\n",
    "soup = BeautifulSoup(c, 'lxml')\n",
    "for element in soup.findAll('a'):\n",
    "    print('link: ', element.get('href'), '\\n')"
   ]
  },
  {
   "cell_type": "code",
   "execution_count": 1,
   "metadata": {},
   "outputs": [
    {
     "name": "stdout",
     "output_type": "stream",
     "text": [
      "--------------------------------------\n",
      "tag: <h2 class=\"slider_post_title\"><a href=\"https://cis.baruch.cuny.edu/workshop-on-tableau/\">Workshop on Tableau (11/30/2017 12:30)</a></h2>\n",
      "link:  ['slider_post_title'] \n",
      "\n",
      "tag: <h2 class=\"slider_post_title\"><a href=\"https://cis.baruch.cuny.edu/sql-workshop-for-beginners/\">SQL Workshop for Beginners (12/4/17 12:30)</a></h2>\n",
      "link:  ['slider_post_title'] \n",
      "\n",
      "tag: <h2 class=\"slider_post_title\"><a href=\"https://cis.baruch.cuny.edu/python-workshop-112217-1230pm/\">Python workshop (11/22/17 12:30PM)</a></h2>\n",
      "link:  ['slider_post_title'] \n",
      "\n",
      "tag: <h2 class=\"slider_post_title\"><a href=\"https://cis.baruch.cuny.edu/information-systems-and-statistics-are-the-highest-paying-business-school-majors/\">Information Systems and Statistics are the highest paying business school majors</a></h2>\n",
      "link:  ['slider_post_title'] \n",
      "\n",
      "tag: <h2 class=\"slider_post_title\"><a href=\"https://cis.baruch.cuny.edu/graduate-programs/\">Graduate Programs</a></h2>\n",
      "link:  ['slider_post_title'] \n",
      "\n",
      "tag: <h2 class=\"slider_post_title\"><a href=\"https://cis.baruch.cuny.edu/explore-cis/cis-tracks/\">Suggested Tracks for Undergraduate Students</a></h2>\n",
      "link:  ['slider_post_title'] \n",
      "\n",
      "tag: <h2><strong>Learning</strong></h2>\n",
      "link:  None \n",
      "\n",
      "tag: <h2><strong>Location</strong></h2>\n",
      "link:  None \n",
      "\n"
     ]
    }
   ],
   "source": [
    "from bs4 import BeautifulSoup\n",
    "import requests\n",
    "\n",
    "r = requests.get('http://cis.baruch.cuny.edu')\n",
    "c=r.text\n",
    "#print(c)\n",
    "print('--------------------------------------')\n",
    "\n",
    "soup = BeautifulSoup(c, 'html.parser')\n",
    "\n",
    "for tag in soup.findAll('h2'):\n",
    "    print('tag:', tag)\n",
    "    print('link: ', tag.get('class'), '\\n')"
   ]
  },
  {
   "cell_type": "markdown",
   "metadata": {},
   "source": [
    "Exercise: Try to do the same using the urllib<br>\n",
    "Up Next: Part 2 will cover html parsing using Beautiful Soup more in detail."
   ]
  },
  {
   "cell_type": "code",
   "execution_count": null,
   "metadata": {
    "collapsed": true
   },
   "outputs": [],
   "source": []
  }
 ],
 "metadata": {
  "kernelspec": {
   "display_name": "Python 3",
   "language": "python",
   "name": "python3"
  },
  "language_info": {
   "codemirror_mode": {
    "name": "ipython",
    "version": 3
   },
   "file_extension": ".py",
   "mimetype": "text/x-python",
   "name": "python",
   "nbconvert_exporter": "python",
   "pygments_lexer": "ipython3",
   "version": "3.6.3"
  }
 },
 "nbformat": 4,
 "nbformat_minor": 1
}
