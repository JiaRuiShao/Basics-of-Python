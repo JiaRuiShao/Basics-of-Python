{
 "cells": [
  {
   "cell_type": "markdown",
   "metadata": {},
   "source": [
    "### Files\n",
    "Agenda:<br>\n",
    "Work with text files in three modes: Write, Append and Read<br>\n",
    "Processing the file.<br>\n"
   ]
  },
  {
   "cell_type": "code",
   "execution_count": null,
   "metadata": {
    "collapsed": true
   },
   "outputs": [],
   "source": [
    "# Write data into a file\n",
    "# Create a text file and list courses (one course per line) in the file\n",
    "\n",
    "fob=open('courses.txt', 'w')\n",
    "fob.write('Courses: Data Analytics Concentration') # fix error; role of newline?\n",
    "fob.write('Programming for Analytics')\n",
    "fob.write('Data Mining')\n",
    "fob.write('Data warehousing')\n",
    "fob.close()"
   ]
  },
  {
   "cell_type": "code",
   "execution_count": null,
   "metadata": {
    "collapsed": true
   },
   "outputs": [],
   "source": [
    "#Add \\n after the string to make it a string a line\n",
    "\n",
    "fob=open('courses.txt', 'w')\n",
    "fob.write('Courses: Data Analytics Concentration\\n') \n",
    "fob.write('Programming for Analytics\\n')\n",
    "fob.write('Data Mining\\n')\n",
    "fob.close()"
   ]
  },
  {
   "cell_type": "code",
   "execution_count": null,
   "metadata": {
    "collapsed": true
   },
   "outputs": [],
   "source": [
    "# Append data to file\n",
    "#r -- tell python do not pass '\\'\n",
    "\n",
    "fob=open(r'C:\\Users\\kanna\\Desktop\\Dropbox\\Teaching\\Spring2018\\CIS3120\\Samples\\JNB CMWA\\courses.txt', 'a') # what happens if you use 'w'?\n",
    "fob.write('Data Warehousing\\n')\n",
    "fob.close()"
   ]
  },
  {
   "cell_type": "code",
   "execution_count": null,
   "metadata": {
    "collapsed": true
   },
   "outputs": [],
   "source": [
    "# Open and Process a text file\n",
    "# Read File contents in this example\n",
    "\n",
    "fob=open('courses.txt','r')\n",
    "fcon=fob.read()\n",
    "print (fcon)\n",
    "fob.close()"
   ]
  },
  {
   "cell_type": "code",
   "execution_count": null,
   "metadata": {
    "collapsed": true
   },
   "outputs": [],
   "source": [
    "fob=open('products.txt','r')\n",
    "print (fob.read())\n",
    "fob.close()"
   ]
  },
  {
   "cell_type": "code",
   "execution_count": null,
   "metadata": {
    "collapsed": true
   },
   "outputs": [],
   "source": [
    "fob=open('products.txt','r')\n",
    "print (fob.readline())\n",
    "print (fob.readline())\n",
    "fob.close()"
   ]
  },
  {
   "cell_type": "code",
   "execution_count": 8,
   "metadata": {},
   "outputs": [
    {
     "name": "stdout",
     "output_type": "stream",
     "text": [
      "C:\\Users\\surface\\Untitled Folder\n"
     ]
    }
   ],
   "source": [
    "import os\n",
    "print(os.getcwd())"
   ]
  },
  {
   "cell_type": "code",
   "execution_count": 10,
   "metadata": {},
   "outputs": [
    {
     "ename": "UnicodeDecodeError",
     "evalue": "'gbk' codec can't decode byte 0xe1 in position 432: illegal multibyte sequence",
     "output_type": "error",
     "traceback": [
      "\u001b[1;31m---------------------------------------------------------------------------\u001b[0m",
      "\u001b[1;31mUnicodeDecodeError\u001b[0m                        Traceback (most recent call last)",
      "\u001b[1;32m<ipython-input-10-87ca2894a40c>\u001b[0m in \u001b[0;36m<module>\u001b[1;34m()\u001b[0m\n\u001b[0;32m      4\u001b[0m \u001b[1;33m\u001b[0m\u001b[0m\n\u001b[0;32m      5\u001b[0m \u001b[0mfob\u001b[0m\u001b[1;33m=\u001b[0m\u001b[0mopen\u001b[0m\u001b[1;33m(\u001b[0m\u001b[1;34m'Products.txt'\u001b[0m\u001b[1;33m,\u001b[0m\u001b[1;34m'r'\u001b[0m\u001b[1;33m)\u001b[0m\u001b[1;33m\u001b[0m\u001b[0m\n\u001b[1;32m----> 6\u001b[1;33m \u001b[0mline\u001b[0m\u001b[1;33m=\u001b[0m\u001b[0mfob\u001b[0m\u001b[1;33m.\u001b[0m\u001b[0mreadline\u001b[0m\u001b[1;33m(\u001b[0m\u001b[1;33m)\u001b[0m\u001b[1;33m\u001b[0m\u001b[0m\n\u001b[0m\u001b[0;32m      7\u001b[0m \u001b[1;32mwhile\u001b[0m \u001b[0mline\u001b[0m\u001b[1;33m!=\u001b[0m\u001b[1;34m''\u001b[0m\u001b[1;33m:\u001b[0m\u001b[1;33m\u001b[0m\u001b[0m\n\u001b[0;32m      8\u001b[0m     \u001b[0mprint\u001b[0m \u001b[1;33m(\u001b[0m\u001b[0mline\u001b[0m\u001b[1;33m)\u001b[0m\u001b[1;33m\u001b[0m\u001b[0m\n",
      "\u001b[1;31mUnicodeDecodeError\u001b[0m: 'gbk' codec can't decode byte 0xe1 in position 432: illegal multibyte sequence"
     ]
    }
   ],
   "source": [
    "# Open and Process a text file\n",
    "# Read File contents and Print lines in this example\n",
    "# using While Loop (EOF - common logic in most programming languages)\n",
    "\n",
    "fob=open('Products.txt','r')\n",
    "line=fob.readline()\n",
    "while line!='':\n",
    "    print (line)\n",
    "    line=fob.readline()\n",
    "fob.close()\n",
    "\n",
    "# print (count); count number of lines\n",
    "# modify program to count the number of lines in the file"
   ]
  },
  {
   "cell_type": "code",
   "execution_count": null,
   "metadata": {
    "collapsed": true
   },
   "outputs": [],
   "source": [
    "# Open and Process a text file\n",
    "# Read File contents and Print lines in this example\n",
    "# using While (EOF) and For (more elegant) Loops\n",
    "\n",
    "fob=open('products.txt','r') \n",
    "# fob is a file object that can be used to access the contents of the file\n",
    "\n",
    "for line in fob:\n",
    "    print (line)\n",
    "fob.close()"
   ]
  },
  {
   "cell_type": "code",
   "execution_count": null,
   "metadata": {
    "collapsed": true
   },
   "outputs": [],
   "source": [
    "# Revisit after covering Lists in the next module\n",
    "\n",
    "fob=open('products.txt','r')\n",
    "mylist=[]\n",
    "for line in fob:\n",
    "    mylist.append(line)\n",
    "print (mylist)\n",
    "fob.close()"
   ]
  },
  {
   "cell_type": "code",
   "execution_count": null,
   "metadata": {
    "collapsed": true
   },
   "outputs": [],
   "source": [
    "# Number of Lines in the file\n",
    "\n",
    "fob=open('products.txt','r')\n",
    "count=0\n",
    "for line in fob:\n",
    "    print (line, end='')\n",
    "    count+=1\n",
    "print ('\\n------------------------------------------')\n",
    "print ('The number of lines in the file: ', count)\n",
    "fob.close()"
   ]
  },
  {
   "cell_type": "code",
   "execution_count": 23,
   "metadata": {},
   "outputs": [
    {
     "name": "stdout",
     "output_type": "stream",
     "text": [
      "﻿Product Name\n",
      "Chai\n",
      "Chang\n",
      "Aniseed Syrup\n",
      "Chef Anton's Cajun Seasoning\n",
      "Chef Anton's Gumbo Mix\n",
      "Grandma's Boysenberry Spread\n",
      "Uncle Bob's Organic Dried Pears\n",
      "Northwoods Cranberry Sauce\n",
      "Mishi Kobe Niku\n",
      "Ikura\n",
      "Queso Cabrales\n",
      "Queso Manchego La Pastora\n",
      "Konbu\n",
      "Tofu\n",
      "Genen Shouyu\n",
      "Pavlova\n",
      "Alice Mutton\n",
      "Carnarvon Tigers\n",
      "Teatime Chocolate Biscuits\n",
      "Sir Rodney's Marmalade\n",
      "Sir Rodney's Scones\n",
      "Nord-Ost Matjeshering\n",
      "Gorgonzola Telino\n",
      "Mascarpone Fabioli\n",
      "Geitost\n",
      "Sasquatch Ale\n",
      "Steeleye Stout\n",
      "Inlagd Sill\n",
      "Chartreuse verte\n",
      "Boston Crab Meat\n",
      "Jack's New England Clam Chowder\n",
      "Singaporean Hokkien Fried Mee\n",
      "Ipoh Coffee\n",
      "Spegesild\n",
      "Zaanse koeken\n",
      "Chocolade\n",
      "Maxilaku\n",
      "Valkoinen suklaa\n",
      "Manjimup Dried Apples\n",
      "Filo Mix\n",
      "Perth Pasties\n",
      "Gnocchi di nonna Alice\n",
      "Ravioli Angelo\n",
      "Escargots de Bourgogne\n",
      "Raclette Courdavault\n",
      "Camembert Pierrot\n",
      "Tarte au sucre\n",
      "Vegie-spread\n",
      "Louisiana Fiery Hot Pepper Sauce\n",
      "Louisiana Hot Spiced Okra\n",
      "Laughing Lumberjack Lager\n",
      "Scottish Longbreads\n",
      "Gudbrandsdalsost\n",
      "Outback Lager\n",
      "Longlife Tofu\n",
      "------------------------------------------\n",
      "The number of lines in the file:  56\n"
     ]
    }
   ],
   "source": [
    "# Number of Lines in the file\n",
    "\n",
    "fob=open('Product Name.txt','r',encoding = 'UTF-8')\n",
    "count=0\n",
    "for line in fob:\n",
    "    print (line.rstrip('\\n'))\n",
    "    count+=1\n",
    "print ('------------------------------------------')\n",
    "print ('The number of lines in the file: ', count)\n",
    "fob.close()"
   ]
  },
  {
   "cell_type": "code",
   "execution_count": null,
   "metadata": {
    "collapsed": true
   },
   "outputs": [],
   "source": [
    "# processing; print lines that satisfy a specific condition\n",
    "\n",
    "fob=open('products.txt','r')\n",
    "for line in fob:\n",
    "    if  line.startswith('Ch'):\n",
    "        print (line)\n",
    "print ('done')\n",
    "fob.close()"
   ]
  },
  {
   "cell_type": "code",
   "execution_count": null,
   "metadata": {
    "collapsed": true
   },
   "outputs": [],
   "source": [
    "#finding data in a file\n",
    "\n",
    "fob=open('products.txt','r')\n",
    "flag=False\n",
    "findThis=input('What to find: ')\n",
    "for line in fob:\n",
    "    pos=line.find(findThis) #If it's not find, it will always return -1\n",
    "    if pos!=-1:\n",
    "        print(line,pos) #pos -- the postion of findthis in a line\n",
    "        flag=True\n",
    "if not flag:\n",
    "    print('Not found')\n",
    "fob.close()"
   ]
  },
  {
   "cell_type": "code",
   "execution_count": null,
   "metadata": {
    "collapsed": true
   },
   "outputs": [],
   "source": [
    "#Find where the python is on ur laptop\n",
    "\n",
    "import os\n",
    "print(os.getcwd())"
   ]
  },
  {
   "cell_type": "code",
   "execution_count": null,
   "metadata": {
    "collapsed": true
   },
   "outputs": [],
   "source": [
    "fob=open(os.getcwd()+r\"\\courses.txt\", 'a') # what happens if you use 'w'?\n",
    "fob.write('Forecasting\\n')\n",
    "fob.close()"
   ]
  },
  {
   "cell_type": "code",
   "execution_count": null,
   "metadata": {
    "collapsed": true
   },
   "outputs": [],
   "source": [
    "def readFile():\n",
    "    try:\n",
    "        fileName=input('Enter file name:')\n",
    "        fob=open(fileName,'r') \n",
    "        for line in fob:\n",
    "            print (line)\n",
    "        fob.close()\n",
    "    except IOError as err:\n",
    "        print('File not found', err)\n",
    "        readFile()\n",
    "\n",
    "readFile()"
   ]
  },
  {
   "cell_type": "code",
   "execution_count": null,
   "metadata": {
    "collapsed": true
   },
   "outputs": [],
   "source": []
  }
 ],
 "metadata": {
  "kernelspec": {
   "display_name": "Python 3",
   "language": "python",
   "name": "python3"
  },
  "language_info": {
   "codemirror_mode": {
    "name": "ipython",
    "version": 3
   },
   "file_extension": ".py",
   "mimetype": "text/x-python",
   "name": "python",
   "nbconvert_exporter": "python",
   "pygments_lexer": "ipython3",
   "version": "3.6.3"
  }
 },
 "nbformat": 4,
 "nbformat_minor": 1
}
