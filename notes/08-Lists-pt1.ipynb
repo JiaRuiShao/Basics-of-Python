{
 "cells": [
  {
   "cell_type": "markdown",
   "metadata": {},
   "source": [
    "#### Lists\n",
    "##### Agenda\n",
    "What are Lists?<br>\n",
    "Strings Vs. Lists<br>\n",
    "Creating, Indexing and Slicing Lists <br>\n",
    "List Methods <br>\n",
    "Other List Operations <hr>"
   ]
  },
  {
   "cell_type": "markdown",
   "metadata": {
    "collapsed": true
   },
   "source": [
    "A List is a sequence that can hold different types of data. <br>\n",
    "A String is also a sequence, but it holds only one type of data - characters!<br>\n",
    "Unlike strings, lists are mutable <br>\n",
    "Be careful about mutating lists as well as using the List Methods (unintended consequences; more on this later) <br>"
   ]
  },
  {
   "cell_type": "code",
   "execution_count": 4,
   "metadata": {},
   "outputs": [
    {
     "name": "stdout",
     "output_type": "stream",
     "text": [
      "[1, 2, 3]\n",
      "<class 'list'>\n"
     ]
    }
   ],
   "source": [
    "numbers=[1,2,3]\n",
    "print(numbers)\n",
    "print(type(numbers))"
   ]
  },
  {
   "cell_type": "code",
   "execution_count": 1,
   "metadata": {},
   "outputs": [
    {
     "name": "stdout",
     "output_type": "stream",
     "text": [
      "[]\n",
      "['Big Lebowski', 'State and Main']\n"
     ]
    }
   ],
   "source": [
    "my_list=[]\n",
    "movies=['Big Lebowski', 'State and Main']\n",
    "print (my_list, movies, sep='\\n')"
   ]
  },
  {
   "cell_type": "code",
   "execution_count": 2,
   "metadata": {},
   "outputs": [
    {
     "name": "stdout",
     "output_type": "stream",
     "text": [
      "['Big Lebowski', 'State and Main']\n"
     ]
    }
   ],
   "source": [
    "my_list+=movies\n",
    "print(my_list)"
   ]
  },
  {
   "cell_type": "code",
   "execution_count": 5,
   "metadata": {},
   "outputs": [
    {
     "name": "stdout",
     "output_type": "stream",
     "text": [
      "['Big Lebowski', 'State and Main', 1, 2, 3]\n",
      "Big Lebowski\n"
     ]
    }
   ],
   "source": [
    "my_list+=numbers\n",
    "print(my_list)\n",
    "print(my_list[0])\n",
    "\n",
    "# indexing and slicing lists\n",
    "# Grab  second element (index 1) and everything past it\n",
    "# Grab everything upto the 4th element"
   ]
  },
  {
   "cell_type": "code",
   "execution_count": 6,
   "metadata": {},
   "outputs": [
    {
     "name": "stdout",
     "output_type": "stream",
     "text": [
      "Big Lebowski\n",
      "State and Main\n"
     ]
    }
   ],
   "source": [
    "# accessing items of a list\n",
    "for item in movies:\n",
    "    print (item)"
   ]
  },
  {
   "cell_type": "markdown",
   "metadata": {},
   "source": [
    "##### Exercise: \n",
    "1) Take a positive integer as an input from the user; construct a list of numbers upto n. <br>\n",
    "2) Write piece of iterative code to mutiply the elements of a given list by 10 (assume that the list already exists).<br>"
   ]
  },
  {
   "cell_type": "code",
   "execution_count": 42,
   "metadata": {},
   "outputs": [
    {
     "name": "stdout",
     "output_type": "stream",
     "text": [
      "[14, 15, 17, 19]\n"
     ]
    }
   ],
   "source": [
    "#My Solution 1\n",
    "number_list=[4,5,7,9]\n",
    "numlist2=[]\n",
    "for i in number_list:\n",
    "    i += 10\n",
    "    numlist2.append(i)\n",
    "print(numlist2)"
   ]
  },
  {
   "cell_type": "code",
   "execution_count": 41,
   "metadata": {},
   "outputs": [
    {
     "name": "stdout",
     "output_type": "stream",
     "text": [
      "[14, 15, 17, 19]\n"
     ]
    }
   ],
   "source": [
    "#My Solution 2\n",
    "number_list=[4,5,7,9]\n",
    "for i in range (len(number_list)):\n",
    "    number_list[i] += 10\n",
    "print(number_list)"
   ]
  },
  {
   "cell_type": "code",
   "execution_count": 44,
   "metadata": {},
   "outputs": [
    {
     "name": "stdout",
     "output_type": "stream",
     "text": [
      "[14, 15, 17, 19]\n"
     ]
    }
   ],
   "source": [
    "#My solution 3\n",
    "number_list=[4,5,7,9]\n",
    "for index, value in enumerate (number_list):\n",
    "    number_list[index] += 10\n",
    "print(number_list)"
   ]
  },
  {
   "cell_type": "code",
   "execution_count": 32,
   "metadata": {},
   "outputs": [
    {
     "name": "stdout",
     "output_type": "stream",
     "text": [
      "[14, 15, 17, 19]\n"
     ]
    }
   ],
   "source": [
    "#My Solution 4\n",
    "number_list=[4,5,7,9]\n",
    "list2=[x+10 for x in number_list]\n",
    "print(list2)"
   ]
  },
  {
   "cell_type": "code",
   "execution_count": 45,
   "metadata": {},
   "outputs": [
    {
     "name": "stdout",
     "output_type": "stream",
     "text": [
      "Enter a number: 11\n",
      "[44, 55, 77, 99]\n",
      "[4, 5, 7, 9]\n"
     ]
    }
   ],
   "source": [
    "# My solution 5\n",
    "number_list=[4,5,7,9]\n",
    "n=int(input(\"Enter a number: \"))\n",
    "def mulst(lis, f):\n",
    "    newlis=[]\n",
    "    for val in lis:\n",
    "        newlis.append(f*val)\n",
    "    return newlis\n",
    "\n",
    "print (mulst(number_list, n))\n",
    "print (number_list)"
   ]
  },
  {
   "cell_type": "code",
   "execution_count": null,
   "metadata": {},
   "outputs": [],
   "source": [
    "# Strings and Lists; Mutability; Index out of Range...\n",
    "s='cheese'\n",
    "print (s[0])\n",
    "# s[0]=k  is not a valid statement as strings are immutable"
   ]
  },
  {
   "cell_type": "code",
   "execution_count": 7,
   "metadata": {},
   "outputs": [
    {
     "name": "stdout",
     "output_type": "stream",
     "text": [
      "2\n",
      "[1, 20, 3]\n"
     ]
    }
   ],
   "source": [
    "# Strings and Lists; Mutability; Index out of Range...\n",
    "numbers=[1,2,3]\n",
    "print(numbers[1])\n",
    "numbers[1]=20\n",
    "print(numbers)\n",
    "\n",
    "# making copies of lists (especially if changing the values in the list) - see more below\n",
    "# change the last two items in the list above"
   ]
  },
  {
   "cell_type": "code",
   "execution_count": 12,
   "metadata": {},
   "outputs": [
    {
     "name": "stdout",
     "output_type": "stream",
     "text": [
      "brie ['b', 'r', 'i', 'e']\n"
     ]
    }
   ],
   "source": [
    "# Type Conversion\n",
    "\n",
    "cheese='brie'\n",
    "ch=list(cheese)\n",
    "print (cheese, ch)"
   ]
  },
  {
   "cell_type": "code",
   "execution_count": 13,
   "metadata": {},
   "outputs": [
    {
     "name": "stdout",
     "output_type": "stream",
     "text": [
      "['The', 'Big', 'Lebowski']\n"
     ]
    }
   ],
   "source": [
    "# More on Lists and Strings\n",
    "\n",
    "movie=\" The Big Lebowski \"\n",
    "words=movie.split()\n",
    "print (words)"
   ]
  },
  {
   "cell_type": "markdown",
   "metadata": {},
   "source": [
    "**Join Function** <br>"
   ]
  },
  {
   "cell_type": "code",
   "execution_count": 14,
   "metadata": {},
   "outputs": [
    {
     "name": "stdout",
     "output_type": "stream",
     "text": [
      "The*Big*Lebowski\n"
     ]
    }
   ],
   "source": [
    "delim='*'  #Empty string as delimiter\n",
    "mov=delim.join(words)\n",
    "print(mov)"
   ]
  },
  {
   "cell_type": "code",
   "execution_count": 17,
   "metadata": {},
   "outputs": [
    {
     "name": "stdout",
     "output_type": "stream",
     "text": [
      "[1, 2, 3, 4]\n",
      "[1, 2, 3, 4, 4, 5, 6, 5]\n"
     ]
    }
   ],
   "source": [
    "# List Methods: append, extend\n",
    "# return values of list methods\n",
    "\n",
    "x=[1,2,3]\n",
    "x.append(4) # add the data object at the end of the list;\n",
    "print (x)\n",
    "\n",
    "z=[4,5,6,5]\n",
    "x.extend(z) # add elements of the list z at the end\n",
    "print (x)\n",
    "\n",
    "# please note that both methods return none type; \n",
    "# if you write y=x.append(4), y will be assigned None.\n",
    "# try x.append([4, 5]); x.extend([4, 5]); "
   ]
  },
  {
   "cell_type": "markdown",
   "metadata": {},
   "source": [
    "**The difference between append & extend Function**"
   ]
  },
  {
   "cell_type": "code",
   "execution_count": 18,
   "metadata": {},
   "outputs": [
    {
     "name": "stdout",
     "output_type": "stream",
     "text": [
      "[1, 2, 3, 4, 4, 5, 6, 5, [8, 5, 3]]\n"
     ]
    }
   ],
   "source": [
    "x.append([8,5,3]) #add the elements as a list\n",
    "print(x)"
   ]
  },
  {
   "cell_type": "code",
   "execution_count": 19,
   "metadata": {},
   "outputs": [
    {
     "name": "stdout",
     "output_type": "stream",
     "text": [
      "[1, 2, 3, 4, 4, 5, 6, 5, [8, 5, 3], 8, 5, 3]\n"
     ]
    }
   ],
   "source": [
    "x.extend([8,5,3]) #add the elements as elements\n",
    "print(x)"
   ]
  },
  {
   "cell_type": "markdown",
   "metadata": {},
   "source": [
    "**pop function**"
   ]
  },
  {
   "cell_type": "code",
   "execution_count": 20,
   "metadata": {},
   "outputs": [
    {
     "name": "stdout",
     "output_type": "stream",
     "text": [
      "[1, 3, 4, 5, 6]\n",
      "2\n"
     ]
    }
   ],
   "source": [
    "# List Methods: pop, remove; Also del operator\n",
    "\n",
    "x=[1,2,3,4,5,6]\n",
    "y=x.pop(1)    # The popped element at index position 1 will be assigned to y\n",
    "print (x, y, sep=\"\\n\") "
   ]
  },
  {
   "cell_type": "markdown",
   "metadata": {},
   "source": [
    "**del function**"
   ]
  },
  {
   "cell_type": "code",
   "execution_count": 22,
   "metadata": {},
   "outputs": [
    {
     "name": "stdout",
     "output_type": "stream",
     "text": [
      "[1, 2, 3, 5, 6]\n"
     ]
    }
   ],
   "source": [
    "x=[1,2,3,4,5,6]\n",
    "del x[3]\n",
    "print(x)"
   ]
  },
  {
   "cell_type": "code",
   "execution_count": 21,
   "metadata": {},
   "outputs": [
    {
     "name": "stdout",
     "output_type": "stream",
     "text": [
      "[1, 2, 3]\n"
     ]
    }
   ],
   "source": [
    "x=[1,2,3,4,5,6]\n",
    "del x[3:]\n",
    "print(x)"
   ]
  },
  {
   "cell_type": "code",
   "execution_count": 23,
   "metadata": {},
   "outputs": [
    {
     "name": "stdout",
     "output_type": "stream",
     "text": [
      "[1, 2, 4, 5, 6, 3]\n",
      "[1, 2, 4, 5, 6]\n"
     ]
    }
   ],
   "source": [
    "x=[1,2,3,4,5,6,3]\n",
    "x.remove(3)  \n",
    "print(x)\n",
    "x.remove(3) \n",
    "print(x)"
   ]
  },
  {
   "cell_type": "code",
   "execution_count": 24,
   "metadata": {},
   "outputs": [
    {
     "name": "stdout",
     "output_type": "stream",
     "text": [
      "['JOHN', 'JANE', 'jOE']\n"
     ]
    }
   ],
   "source": [
    "x=['JOHN','JANE','jOE','Kumar']\n",
    "del x[3]\n",
    "print(x)"
   ]
  },
  {
   "cell_type": "code",
   "execution_count": 25,
   "metadata": {},
   "outputs": [
    {
     "name": "stdout",
     "output_type": "stream",
     "text": [
      "[1, 2, 2, 3, 4, 5, 6]\n",
      "2\n"
     ]
    }
   ],
   "source": [
    "# List Methods: Sort, Count\n",
    "\n",
    "x=[4, 3, 5, 2, 6, 1,2]\n",
    "x.sort()  # sorts the elements in a list\n",
    "print(x)\n",
    "\n",
    "a=x.count(2)  # How many times is the item 2 in the list?\n",
    "print (a)"
   ]
  },
  {
   "cell_type": "code",
   "execution_count": 26,
   "metadata": {},
   "outputs": [
    {
     "name": "stdout",
     "output_type": "stream",
     "text": [
      "['beta', 'alpha', 'gamma']\n",
      "['alpha', 'beta', 'gamma']\n"
     ]
    }
   ],
   "source": [
    "y=['beta','alpha','gamma']\n",
    "print(y)\n",
    "y.sort()\n",
    "print(y)"
   ]
  },
  {
   "cell_type": "code",
   "execution_count": 27,
   "metadata": {},
   "outputs": [
    {
     "name": "stdout",
     "output_type": "stream",
     "text": [
      "2\n",
      "[4, 3, 'inserted', 5, 2, 6, 5, 1]\n",
      "[1, 5, 6, 2, 5, 'inserted', 3, 4]\n"
     ]
    }
   ],
   "source": [
    "# List Methods: index, insert\n",
    "\n",
    "x=[4, 3, 5, 2, 6, 5, 1]\n",
    "b=x.index(5)  # Find index of first item 5 in the list\n",
    "print (b)\n",
    "\n",
    "x.insert(2,'inserted')  # Insert 'inserted' at index position 2\n",
    "print (x)\n",
    "\n",
    "x.reverse()\n",
    "print(x)"
   ]
  },
  {
   "cell_type": "code",
   "execution_count": 28,
   "metadata": {},
   "outputs": [
    {
     "name": "stdout",
     "output_type": "stream",
     "text": [
      "[100, 121, 22, 43]\n",
      "4\n",
      "121\n"
     ]
    }
   ],
   "source": [
    "# Lists Built-in Functions: Len, max, min, sum\n",
    "\n",
    "x=[100,121,22,43]\n",
    "y=len(x) # max, min and sum can be used on the list to perform operations\n",
    "z=max(x)\n",
    "print (x, y, z, sep=\"\\n\")"
   ]
  },
  {
   "cell_type": "code",
   "execution_count": 29,
   "metadata": {},
   "outputs": [
    {
     "name": "stdout",
     "output_type": "stream",
     "text": [
      "Enter a name: Jia\n",
      "Enter a name: Rui\n",
      "Enter a name: Shao\n",
      "['Jia', 'Rui', 'Shao']\n"
     ]
    }
   ],
   "source": [
    "# Construct a list with names of three favorite movies\n",
    "\n",
    "listNames = []\n",
    "count=0\n",
    "while count < 3:\n",
    "    listNames.append(input(\"Enter a name: \"))\n",
    "    count += 1\n",
    "print(listNames)\n"
   ]
  },
  {
   "cell_type": "markdown",
   "metadata": {},
   "source": [
    "##### Exercise: \n",
    "Take a positive integer as an input from the user; construct a list containing n elements (all numbers) with user input. <br> \n",
    "Modify the program to compute average of numbers in the list.<br>"
   ]
  },
  {
   "cell_type": "code",
   "execution_count": 30,
   "metadata": {},
   "outputs": [
    {
     "name": "stdout",
     "output_type": "stream",
     "text": [
      "[0, 1, 4, 9, 16]\n"
     ]
    }
   ],
   "source": [
    "# List Comprehension\n",
    "\n",
    "lis = [x**2 for x in range(5)]\n",
    "print(lis)"
   ]
  },
  {
   "cell_type": "code",
   "execution_count": 31,
   "metadata": {},
   "outputs": [
    {
     "name": "stdout",
     "output_type": "stream",
     "text": [
      "[0, 10, 40, 90, 160]\n"
     ]
    }
   ],
   "source": [
    "# List Comprehension\n",
    "\n",
    "lis1 = [x*10 for x in lis]\n",
    "print(lis1)"
   ]
  },
  {
   "cell_type": "code",
   "execution_count": 34,
   "metadata": {},
   "outputs": [
    {
     "name": "stdout",
     "output_type": "stream",
     "text": [
      "['0', '10', '40', '90', '160']\n"
     ]
    }
   ],
   "source": [
    "#Use loop\n",
    "lis=[0,1,4,9,16]\n",
    "for x in range (len(lis)):\n",
    "    lis[x]=str(int(lis[x])*10)\n",
    "print(lis)"
   ]
  },
  {
   "cell_type": "code",
   "execution_count": 36,
   "metadata": {},
   "outputs": [
    {
     "name": "stdout",
     "output_type": "stream",
     "text": [
      "[90]\n",
      "[0, 1, 4, 9, 16]\n"
     ]
    }
   ],
   "source": [
    "# List Comprehension syntax: \n",
    "# lis = [expression, for loop in list, condition (optional)]\n",
    "lis = [x**2 for x in range(5)]\n",
    "lis2 = [x*10 for x in lis if x==9]\n",
    "print(lis2)\n",
    "print(lis)"
   ]
  },
  {
   "cell_type": "code",
   "execution_count": 39,
   "metadata": {},
   "outputs": [
    {
     "name": "stdout",
     "output_type": "stream",
     "text": [
      "[0, 1, 16, 81, 256, 625, 1296, 2401, 4096, 6561, 10000]\n",
      "[0, 1, 16, 81, 256, 625, 1296, 2401, 4096, 6561, 10000]\n"
     ]
    }
   ],
   "source": [
    "lst = [ x**2 for x in [x**2 for x in range(11)]]\n",
    "lst2=[x**4 for x in range(11)]\n",
    "print(lst)\n",
    "print(lst2)"
   ]
  },
  {
   "cell_type": "markdown",
   "metadata": {},
   "source": [
    "enumerate function"
   ]
  },
  {
   "cell_type": "code",
   "execution_count": 40,
   "metadata": {},
   "outputs": [
    {
     "name": "stdout",
     "output_type": "stream",
     "text": [
      "0 4\n",
      "1 6\n",
      "2 8\n",
      "3 9\n",
      "4 10\n"
     ]
    }
   ],
   "source": [
    "lis = [4,6,8,9,10]\n",
    "\n",
    "for index, value in enumerate(lis):\n",
    "    print(index, value)"
   ]
  },
  {
   "cell_type": "code",
   "execution_count": null,
   "metadata": {},
   "outputs": [],
   "source": [
    "lis=['john','jane','ram']\n",
    "for index, value in enumerate(lis):\n",
    "    print(index,value)"
   ]
  },
  {
   "cell_type": "code",
   "execution_count": null,
   "metadata": {},
   "outputs": [],
   "source": [
    "# use enumerate to generate both the index and the value associated with it\n",
    "\n",
    "lis = [1, 2, 3, 4, 5]\n",
    "\n",
    "for index, value in enumerate(lis):\n",
    "    lis[index] = value**2\n",
    "\n",
    "print(lis) "
   ]
  }
 ],
 "metadata": {
  "kernelspec": {
   "display_name": "Python 3",
   "language": "python",
   "name": "python3"
  },
  "language_info": {
   "codemirror_mode": {
    "name": "ipython",
    "version": 3
   },
   "file_extension": ".py",
   "mimetype": "text/x-python",
   "name": "python",
   "nbconvert_exporter": "python",
   "pygments_lexer": "ipython3",
   "version": "3.6.4"
  }
 },
 "nbformat": 4,
 "nbformat_minor": 1
}
