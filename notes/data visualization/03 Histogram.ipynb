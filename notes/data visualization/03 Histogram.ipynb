{
 "cells": [
  {
   "cell_type": "markdown",
   "metadata": {},
   "source": [
    "# Histogram\n",
    "A histogram is a diagram, consisting of rectangles (bins), whose area is proportional to the frequency of a variable and whose width is equal to the class interval. <br/>\n",
    " \n",
    "[Histogram examples](https://matplotlib.org/examples/statistics/histogram_demo_multihist.html)\n",
    "\n",
    "### Histogram types:\n",
    "histtype : {‘bar’, ‘barstacked’, ‘step’, ‘stepfilled’}, optional \n",
    "\n",
    "The type of histogram to draw.\n",
    "- 'bar' is a traditional bar-type histogram. If multiple data are given the bars are arranged side by side.  \n",
    "\n",
    "- 'barstacked' is a bar-type histogram where multiple data are stacked on top of each other.  \n",
    "\n",
    "- 'step' generates a lineplot that is by default unfilled.  \n",
    "\n",
    "- 'stepfilled' generates a lineplot that is by default filled.  \n",
    "\n",
    "Default is 'bar'\n",
    "\n",
    "https://matplotlib.org/3.1.0/api/_as_gen/matplotlib.pyplot.hist.html"
   ]
  },
  {
   "cell_type": "code",
   "execution_count": 1,
   "metadata": {},
   "outputs": [],
   "source": [
    "import matplotlib.pyplot as plt\n",
    "import numpy as np"
   ]
  },
  {
   "cell_type": "code",
   "execution_count": 24,
   "metadata": {},
   "outputs": [],
   "source": [
    "#get help\n",
    "np.random.randn?"
   ]
  },
  {
   "cell_type": "code",
   "execution_count": 3,
   "metadata": {},
   "outputs": [
    {
     "data": {
      "text/plain": [
       "array([-1.32020843,  0.09596919, -2.40960603,  0.43064332, -0.28104853])"
      ]
     },
     "execution_count": 3,
     "metadata": {},
     "output_type": "execute_result"
    }
   ],
   "source": [
    "# randn returns an array, sampled from a normal distribution\n",
    "a = np.random.randn(5)\n",
    "a"
   ]
  },
  {
   "cell_type": "code",
   "execution_count": 4,
   "metadata": {},
   "outputs": [
    {
     "data": {
      "text/plain": [
       "array([ -6.60104217,   0.47984593, -12.04803013,   2.15321658,\n",
       "        -1.40524266])"
      ]
     },
     "execution_count": 4,
     "metadata": {},
     "output_type": "execute_result"
    }
   ],
   "source": [
    "a * 5"
   ]
  },
  {
   "cell_type": "code",
   "execution_count": 22,
   "metadata": {},
   "outputs": [
    {
     "data": {
      "image/png": "[encoded data removed]",
      "text/plain": [
       "<Figure size 432x288 with 1 Axes>"
      ]
     },
     "metadata": {
      "needs_background": "light"
     },
     "output_type": "display_data"
    }
   ],
   "source": [
    "# x = np.random.randn(1000)\n",
    "x = 200 * np.random.randn(1000)\n",
    "bin_number = 100\n",
    "plt.hist(x, \n",
    "         bin_number, \n",
    "         range=(-500, 500), \n",
    "         histtype='bar', \n",
    "         align='mid', \n",
    "         color='orange', \n",
    "         label='Test Data')\n",
    "plt.legend()\n",
    "plt.title('My Histogram')\n",
    "plt.show()"
   ]
  },
  {
   "cell_type": "code",
   "execution_count": null,
   "metadata": {},
   "outputs": [],
   "source": []
  }
 ],
 "metadata": {
  "kernelspec": {
   "display_name": "Python 3",
   "language": "python",
   "name": "python3"
  },
  "language_info": {
   "codemirror_mode": {
    "name": "ipython",
    "version": 3
   },
   "file_extension": ".py",
   "mimetype": "text/x-python",
   "name": "python",
   "nbconvert_exporter": "python",
   "pygments_lexer": "ipython3",
   "version": "3.6.8"
  }
 },
 "nbformat": 4,
 "nbformat_minor": 2
}
