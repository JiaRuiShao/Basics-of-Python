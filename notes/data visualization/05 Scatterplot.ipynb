{
 "cells": [
  {
   "cell_type": "code",
   "execution_count": 1,
   "metadata": {},
   "outputs": [],
   "source": [
    "import numpy as np\n",
    "import matplotlib.pyplot as plt\n",
    "import matplotlib.pylab as plb"
   ]
  },
  {
   "cell_type": "markdown",
   "metadata": {},
   "source": [
    "### np.random.rand() - Random values in a given shape.\n",
    "\n",
    "Create an array of the given shape and populate it with random samples from a uniform distribution over [0, 1).\n",
    "\n",
    "https://docs.scipy.org/doc/numpy/reference/generated/numpy.random.rand.html#numpy-random-rand\n"
   ]
  },
  {
   "cell_type": "code",
   "execution_count": 2,
   "metadata": {},
   "outputs": [
    {
     "data": {
      "text/plain": [
       "array([0.28024711, 0.43387724, 0.94744314])"
      ]
     },
     "execution_count": 2,
     "metadata": {},
     "output_type": "execute_result"
    }
   ],
   "source": [
    "a =  np.random.rand(3)\n",
    "a"
   ]
  },
  {
   "cell_type": "code",
   "execution_count": 3,
   "metadata": {},
   "outputs": [
    {
     "data": {
      "text/plain": [
       "array([2.80247113, 4.33877236, 9.47443136])"
      ]
     },
     "execution_count": 3,
     "metadata": {},
     "output_type": "execute_result"
    }
   ],
   "source": [
    "10 * a"
   ]
  },
  {
   "cell_type": "code",
   "execution_count": 4,
   "metadata": {},
   "outputs": [
    {
     "data": {
      "text/plain": [
       "array([102.80247113, 104.33877236, 109.47443136])"
      ]
     },
     "execution_count": 4,
     "metadata": {},
     "output_type": "execute_result"
    }
   ],
   "source": [
    "10 * a + 100"
   ]
  },
  {
   "cell_type": "code",
   "execution_count": 6,
   "metadata": {},
   "outputs": [
    {
     "name": "stdout",
     "output_type": "stream",
     "text": [
      "[4.45984713 3.59309901 0.81411537 1.63050158 2.3434604  0.12983513\n",
      " 4.51142087 3.5055613  4.12380521 3.6432177  3.67111841 4.33141625\n",
      " 0.98904622 3.70976475 2.81257569 4.93840041 3.27473777 4.18487504\n",
      " 2.11110795 3.00137965 0.5845346  3.04898099 3.770974   4.62908531\n",
      " 1.24985841 3.10611971 4.67870422 0.27601836 3.31062176 0.68697144\n",
      " 2.07646816 3.48553131 0.68395853 4.38060235 0.92241505 0.20012039\n",
      " 3.27395337 0.06419567 2.28102912 2.18128223 2.95613344 2.90614638\n",
      " 0.51735894 2.3088462  3.44726516 4.49230169 1.41488103 3.43895593\n",
      " 4.92491631 3.82349043]\n",
      "[29.97736765 29.39195023 28.30739722 25.30210866 26.29865917 28.68696973\n",
      " 26.55242196 25.48218908 25.68937682 28.48908322 26.76235691 28.40915619\n",
      " 27.11890583 25.18893862 27.46717615 28.61307548 27.9867712  26.05851997\n",
      " 28.44857808 28.18575868 25.32904138 28.2149935  26.86674318 26.0144599\n",
      " 28.99333755 28.35717557 27.65908727 28.62485926 26.89382331 27.56963484\n",
      " 25.9532048  28.07915985 26.42646494 26.7868859  28.95932029 28.98681433\n",
      " 26.63632163 28.29469418 29.63252377 29.54306314 25.40109958 28.19375051\n",
      " 29.9619301  28.38613114 28.09619697 29.85269121 27.61708326 26.09480491\n",
      " 29.59128709 26.28192869]\n",
      "[14.60779969 28.07535387  2.48503385 18.86402696 21.77849001 13.80031677\n",
      "  9.12485694  5.99722181  4.71545463 16.40291681 11.4850779  17.63300626\n",
      " 24.21197419  5.63946448 13.0923838  15.99361212 17.76143302  0.94084638\n",
      " 17.50559464 14.59111292  7.68962581  6.63897203  7.35456915 27.92292942\n",
      " 20.36096828]\n"
     ]
    }
   ],
   "source": [
    "x1 = 5 * np.random.rand(50)\n",
    "x2 = 5 * np.random.rand(50) + 25\n",
    "x3 = 30 * np.random.rand(25)\n",
    "\n",
    "print(x1)\n",
    "print(x2)\n",
    "print(x3)"
   ]
  },
  {
   "cell_type": "markdown",
   "metadata": {},
   "source": [
    "### Basic list operations"
   ]
  },
  {
   "cell_type": "code",
   "execution_count": 5,
   "metadata": {},
   "outputs": [
    {
     "data": {
      "text/plain": [
       "[1, 2, 3, 1, 2, 3]"
      ]
     },
     "execution_count": 5,
     "metadata": {},
     "output_type": "execute_result"
    }
   ],
   "source": [
    "li = [1, 2, 3]\n",
    "li * 2"
   ]
  },
  {
   "cell_type": "markdown",
   "metadata": {},
   "source": [
    "# Creating Advanced Scatterplots\n",
    "## Depicting groups"
   ]
  },
  {
   "cell_type": "markdown",
   "metadata": {},
   "source": [
    "# Matplotlib Scatterplot\n",
    "\n",
    "https://matplotlib.org/api/_as_gen/matplotlib.pyplot.scatter.html#matplotlib-pyplot-scatter"
   ]
  },
  {
   "cell_type": "code",
   "execution_count": 7,
   "metadata": {},
   "outputs": [
    {
     "data": {
      "image/png": "[encoded data removed]",
      "text/plain": [
       "<Figure size 432x288 with 1 Axes>"
      ]
     },
     "metadata": {
      "needs_background": "light"
     },
     "output_type": "display_data"
    }
   ],
   "source": [
    "x1 = 5 * np.random.rand(50)\n",
    "x2 = 5 * np.random.rand(50) + 25\n",
    "x3 = 30 * np.random.rand(25)\n",
    "x = np.concatenate((x1, x2, x3))\n",
    "\n",
    "y1 = 5 * np.random.rand(50)\n",
    "y2 = 5 * np.random.rand(50) + 25\n",
    "y3 = 30 * np.random.rand(25)\n",
    "y = np.concatenate((y1, y2, y3))\n",
    "\n",
    "\n",
    "plt.scatter(x, y, s=50, marker='D')\n",
    "plt.show()"
   ]
  },
  {
   "cell_type": "code",
   "execution_count": 13,
   "metadata": {},
   "outputs": [
    {
     "data": {
      "image/png": "[encoded data removed]",
      "text/plain": [
       "<Figure size 432x288 with 1 Axes>"
      ]
     },
     "metadata": {
      "needs_background": "light"
     },
     "output_type": "display_data"
    }
   ],
   "source": [
    "x1 = 5 * np.random.rand(50)\n",
    "x2 = 5 * np.random.rand(50) + 25\n",
    "x3 = 30 * np.random.rand(25)\n",
    "x = np.concatenate((x1, x2, x3))\n",
    "\n",
    "y1 = 5 * np.random.rand(50)\n",
    "y2 = 5 * np.random.rand(50) + 25\n",
    "y3 = 30 * np.random.rand(25)\n",
    "y = np.concatenate((y1, y2, y3))\n",
    "\n",
    "color_list = ['b'] * 50 + ['g'] * 50 + ['r'] * 25\n",
    "#print(color_list)\n",
    "\n",
    "plt.scatter(x, y, s=50, marker='D', c=color_list)\n",
    "plt.show()"
   ]
  },
  {
   "cell_type": "markdown",
   "metadata": {},
   "source": [
    "## Showing correlations\n",
    "Adding a trendline means calling the NumPy polyfit() function with the data, which returns a vector of coefficients, p, that minimizes the least squares error. (Least square regression is a method for finding a line that summarizes the relationship between two variables, x and y in this case, at least within the domain of the explanatory variable x. The third polyfit() parameter expresses the degree of the polynomial fit.)   \n",
    "\n",
    "The vector output of polyfit() is used as input to poly1d(), which calculates the actual y-axis data points. "
   ]
  },
  {
   "cell_type": "code",
   "execution_count": 14,
   "metadata": {},
   "outputs": [
    {
     "data": {
      "image/png": "[encoded data removed]",
      "text/plain": [
       "<Figure size 432x288 with 1 Axes>"
      ]
     },
     "metadata": {
      "needs_background": "light"
     },
     "output_type": "display_data"
    }
   ],
   "source": [
    "plt.scatter(x, y, s=[50], marker='D', c=color_list)\n",
    "\n",
    "# returns a vector of coefficients p that minimizes the squared error.\n",
    "z = np.polyfit(x, y, 1) \n",
    "\n",
    "p = np.poly1d(z)\n",
    "\n",
    "plb.plot(x, p(x), 'm-')\n",
    "\n",
    "plt.show()"
   ]
  }
 ],
 "metadata": {
  "kernelspec": {
   "display_name": "Python 3",
   "language": "python",
   "name": "python3"
  },
  "language_info": {
   "codemirror_mode": {
    "name": "ipython",
    "version": 3
   },
   "file_extension": ".py",
   "mimetype": "text/x-python",
   "name": "python",
   "nbconvert_exporter": "python",
   "pygments_lexer": "ipython3",
   "version": "3.6.8"
  }
 },
 "nbformat": 4,
 "nbformat_minor": 2
}
