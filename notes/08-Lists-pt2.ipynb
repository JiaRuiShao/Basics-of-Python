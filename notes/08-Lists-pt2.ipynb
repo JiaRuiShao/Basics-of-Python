{
 "cells": [
  {
   "cell_type": "markdown",
   "metadata": {
    "collapsed": true
   },
   "source": [
    "#Aliasing and Functions\n",
    "#Recursion \n",
    "#Nested lists, Matrices\n",
    "#Accessing elements in Nested List"
   ]
  },
  {
   "cell_type": "code",
   "execution_count": 4,
   "metadata": {},
   "outputs": [
    {
     "name": "stdout",
     "output_type": "stream",
     "text": [
      "None\n",
      "[1, 2, 3]\n"
     ]
    }
   ],
   "source": [
    "def modlst(a):\n",
    "    a=a[1:]\n",
    "    #return a\n",
    "\n",
    "x=[1,2,3]\n",
    "print (modlst(x))\n",
    "print (x)    # x has not changed"
   ]
  },
  {
   "cell_type": "code",
   "execution_count": 5,
   "metadata": {},
   "outputs": [
    {
     "name": "stdout",
     "output_type": "stream",
     "text": [
      "[2, 3]\n",
      "[1, 2, 3]\n"
     ]
    }
   ],
   "source": [
    "def modlst(a):\n",
    "    b=a[1:]\n",
    "    return b\n",
    "\n",
    "x=[1,2,3]\n",
    "print (modlst(x))\n",
    "print (x)     # x has not changed"
   ]
  },
  {
   "cell_type": "code",
   "execution_count": 6,
   "metadata": {},
   "outputs": [
    {
     "name": "stdout",
     "output_type": "stream",
     "text": [
      "None\n",
      "[2, 3]\n"
     ]
    }
   ],
   "source": [
    "def modlst(a):\n",
    "    del a[0]\n",
    "    #a.append(4)\n",
    "    #a[0]=5\n",
    "\n",
    "x=[1,2,3]\n",
    "print (modlst(x))\n",
    "print (x)    # x has changed"
   ]
  },
  {
   "cell_type": "code",
   "execution_count": 7,
   "metadata": {},
   "outputs": [
    {
     "name": "stdout",
     "output_type": "stream",
     "text": [
      "[3]\n",
      "[2, 3]\n"
     ]
    }
   ],
   "source": [
    "def modlst(a):\n",
    "    del a[0]\n",
    "    b=a[1:]\n",
    "    return b\n",
    "\n",
    "x=[1,2,3]\n",
    "print (modlst(x))\n",
    "print (x)    # x has changed"
   ]
  },
  {
   "cell_type": "markdown",
   "metadata": {},
   "source": [
    "Exercise: <br>\n",
    "1) Write a function takes in a list and a multiplication factor as arguments and multipies each element of the original list by the multiplication factor.  For example, [1,2,3] becomes [10,20,30] if the multiplication factor is 10.<br>\n",
    "2) Write a function takes in a list and a multiplication factor as arguments and returns a list with the elements of the original list multiplied by the multiplication factor without modifying the original list.  <br>"
   ]
  },
  {
   "cell_type": "code",
   "execution_count": null,
   "metadata": {},
   "outputs": [],
   "source": [
    "# solution for exercise above\n",
    "\n",
    "def mulst(lis, f):\n",
    "    for index, value in enumerate(lis):\n",
    "        lis[index]*=f\n",
    "    return lis\n",
    "\n",
    "x=[1,2,3]\n",
    "print (mulst(x, 10))\n",
    "print (x)"
   ]
  },
  {
   "cell_type": "code",
   "execution_count": 10,
   "metadata": {},
   "outputs": [
    {
     "name": "stdout",
     "output_type": "stream",
     "text": [
      "[10, 20, 30]\n",
      "[1, 2, 3]\n"
     ]
    }
   ],
   "source": [
    "# solution for exercise above\n",
    "\n",
    "def mulst(lis, f):\n",
    "    newlis=[]\n",
    "    for val in lis:\n",
    "        newlis.append(f*val)\n",
    "    return newlis\n",
    "\n",
    "x=[1,2,3]\n",
    "print (mulst(x, 10))\n",
    "print (x)"
   ]
  },
  {
   "cell_type": "code",
   "execution_count": 11,
   "metadata": {},
   "outputs": [
    {
     "name": "stdout",
     "output_type": "stream",
     "text": [
      "[[1, 2, 3], [4, 5, 6], [7, 8, 9]]\n",
      "[4, 5, 6]\n",
      "6\n"
     ]
    }
   ],
   "source": [
    "# Nested lists can be thought of us matrices (rows and columns)\n",
    "\n",
    "mx=[[1,2,3],[4,5,6],[7,8,9]]\n",
    "# mx has three rows and three columns\n",
    "# each list can be thought of as a row\n",
    "\n",
    "print (mx)\n",
    "print(mx[1])  # access rows\n",
    "print (mx[1][2]) # access a specific element - item on the second row, third column"
   ]
  },
  {
   "cell_type": "code",
   "execution_count": 12,
   "metadata": {},
   "outputs": [
    {
     "name": "stdout",
     "output_type": "stream",
     "text": [
      "[[1, 2, 3], [4, 5, 6], [7, 8, 9]]\n"
     ]
    }
   ],
   "source": [
    "# mx can also by entered as shown below to make it read better.\n",
    "\n",
    "mx=[[1,2,3],\n",
    "    [4,5,6],\n",
    "    [7,8,9]]\n",
    "print(mx)"
   ]
  },
  {
   "cell_type": "code",
   "execution_count": 14,
   "metadata": {},
   "outputs": [
    {
     "name": "stdout",
     "output_type": "stream",
     "text": [
      "[[86, 96, 66], [23, 61, 31], [66, 5, 11]]\n"
     ]
    }
   ],
   "source": [
    "# nested list\n",
    "\n",
    "import random\n",
    "\n",
    "ROW=3\n",
    "COL=3\n",
    "\n",
    "val=[[0,0,0],[0,0,0],[0,0,0]]\n",
    "\n",
    "for i in range(ROW):\n",
    "    for j in range(COL):\n",
    "        val[i][j]=random.randint(1,100)\n",
    "\n",
    "print(val)"
   ]
  },
  {
   "cell_type": "code",
   "execution_count": 15,
   "metadata": {},
   "outputs": [
    {
     "name": "stdout",
     "output_type": "stream",
     "text": [
      "[[53, 20, 37, 37], [97, 10, 43, 11], [86, 49, 74, 76]]\n"
     ]
    }
   ],
   "source": [
    "# nested list\n",
    "\n",
    "import random\n",
    "\n",
    "ROW=3\n",
    "COL=4\n",
    "\n",
    "val=[[],[],[]]\n",
    "\n",
    "for i in range(ROW):\n",
    "    for j in range(COL):\n",
    "        val[i].append(random.randint(1,100))\n",
    "\n",
    "print(val)"
   ]
  },
  {
   "cell_type": "code",
   "execution_count": 16,
   "metadata": {},
   "outputs": [
    {
     "ename": "IndexError",
     "evalue": "list index out of range",
     "output_type": "error",
     "traceback": [
      "\u001b[1;31m---------------------------------------------------------------------------\u001b[0m",
      "\u001b[1;31mIndexError\u001b[0m                                Traceback (most recent call last)",
      "\u001b[1;32m<ipython-input-16-5ef8517523ff>\u001b[0m in \u001b[0;36m<module>\u001b[1;34m()\u001b[0m\n\u001b[0;32m     10\u001b[0m \u001b[1;32mfor\u001b[0m \u001b[0mi\u001b[0m \u001b[1;32min\u001b[0m \u001b[0mrange\u001b[0m\u001b[1;33m(\u001b[0m\u001b[0mROW\u001b[0m\u001b[1;33m)\u001b[0m\u001b[1;33m:\u001b[0m\u001b[1;33m\u001b[0m\u001b[0m\n\u001b[0;32m     11\u001b[0m     \u001b[1;32mfor\u001b[0m \u001b[0mj\u001b[0m \u001b[1;32min\u001b[0m \u001b[0mrange\u001b[0m\u001b[1;33m(\u001b[0m\u001b[0mCOL\u001b[0m\u001b[1;33m)\u001b[0m\u001b[1;33m:\u001b[0m\u001b[1;33m\u001b[0m\u001b[0m\n\u001b[1;32m---> 12\u001b[1;33m         \u001b[0mval\u001b[0m\u001b[1;33m[\u001b[0m\u001b[0mi\u001b[0m\u001b[1;33m]\u001b[0m\u001b[1;33m[\u001b[0m\u001b[0mj\u001b[0m\u001b[1;33m]\u001b[0m\u001b[1;33m.\u001b[0m\u001b[0mappend\u001b[0m\u001b[1;33m(\u001b[0m\u001b[0mrandom\u001b[0m\u001b[1;33m.\u001b[0m\u001b[0mrandint\u001b[0m\u001b[1;33m(\u001b[0m\u001b[1;36m1\u001b[0m\u001b[1;33m,\u001b[0m\u001b[1;36m100\u001b[0m\u001b[1;33m)\u001b[0m\u001b[1;33m)\u001b[0m\u001b[1;33m\u001b[0m\u001b[0m\n\u001b[0m\u001b[0;32m     13\u001b[0m \u001b[1;33m\u001b[0m\u001b[0m\n\u001b[0;32m     14\u001b[0m \u001b[0mprint\u001b[0m\u001b[1;33m(\u001b[0m\u001b[0mval\u001b[0m\u001b[1;33m)\u001b[0m\u001b[1;33m\u001b[0m\u001b[0m\n",
      "\u001b[1;31mIndexError\u001b[0m: list index out of range"
     ]
    }
   ],
   "source": [
    "# nested list\n",
    "\n",
    "import random\n",
    "\n",
    "ROW=3\n",
    "COL=4\n",
    "\n",
    "val=[[],[],[]]\n",
    "\n",
    "for i in range(ROW):\n",
    "    for j in range(COL):\n",
    "        val[i][j].append(random.randint(1,100))\n",
    "\n",
    "print(val)"
   ]
  },
  {
   "cell_type": "code",
   "execution_count": 17,
   "metadata": {},
   "outputs": [
    {
     "name": "stdout",
     "output_type": "stream",
     "text": [
      "[[63, 22, 73, 25, 30], [4, 83, 15, 41, 55], [8, 23, 96, 3, 97], [93, 24, 29, 74, 2]]\n"
     ]
    }
   ],
   "source": [
    "# nested list\n",
    "\n",
    "import random\n",
    "\n",
    "ROW=4\n",
    "COL=5\n",
    "\n",
    "val=[]\n",
    "\n",
    "for i in range(ROW):\n",
    "    temp=[]\n",
    "    for j in range(COL):\n",
    "        temp.append(random.randint(1,100))\n",
    "    val.append(temp)\n",
    "\n",
    "print(val)"
   ]
  }
 ],
 "metadata": {
  "kernelspec": {
   "display_name": "Python 3",
   "language": "python",
   "name": "python3"
  },
  "language_info": {
   "codemirror_mode": {
    "name": "ipython",
    "version": 3
   },
   "file_extension": ".py",
   "mimetype": "text/x-python",
   "name": "python",
   "nbconvert_exporter": "python",
   "pygments_lexer": "ipython3",
   "version": "3.6.4"
  }
 },
 "nbformat": 4,
 "nbformat_minor": 1
}
