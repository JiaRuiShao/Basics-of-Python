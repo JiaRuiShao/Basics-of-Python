{
 "cells": [
  {
   "cell_type": "markdown",
   "metadata": {},
   "source": [
    "__Add underscore before the concept--make it private???__"
   ]
  },
  {
   "cell_type": "markdown",
   "metadata": {},
   "source": [
    "when writing an object is writing into a file, u can creat a binary file"
   ]
  },
  {
   "cell_type": "code",
   "execution_count": 13,
   "metadata": {},
   "outputs": [
    {
     "name": "stdout",
     "output_type": "stream",
     "text": [
      "Tails  is the side up when we started\n",
      "now tossing...\n",
      "Heads  is the side up after the toss\n"
     ]
    }
   ],
   "source": [
    "import random\n",
    "\n",
    "class Coin:\n",
    "    \n",
    "    def __init__(self):\n",
    "        if random.randint(0,1)==0:\n",
    "            self.sideUp='Heads'\n",
    "        else:\n",
    "            self.sideUp='Tails'\n",
    "    \n",
    "    def toss(self):\n",
    "        if random.randint(0,1)==0:\n",
    "            self.sideUp='Heads'\n",
    "        else:\n",
    "            self.sideUp='Tails'\n",
    "    \n",
    "    def get_sideUp(self):\n",
    "        return self.sideUp\n",
    "\n",
    "    \n",
    "def main():\n",
    "    myCoin=Coin()\n",
    "    print(myCoin.get_sideUp(),' is the side up when we started')\n",
    "    print('now tossing...')   \n",
    "    myCoin.toss()\n",
    "    print(myCoin.get_sideUp(),' is the side up after the toss')\n",
    "    \n",
    "main()"
   ]
  },
  {
   "cell_type": "code",
   "execution_count": 10,
   "metadata": {},
   "outputs": [
    {
     "name": "stdout",
     "output_type": "stream",
     "text": [
      "Tails  is the side up when we start\n",
      "now tossing...\n",
      "My side is the side up after the toss\n"
     ]
    }
   ],
   "source": [
    "import random\n",
    "\n",
    "class Coin:\n",
    "    def __init__(self):\n",
    "        if random.randint(0,1)==0:\n",
    "            self.sideUp='Heads'\n",
    "        else:\n",
    "            self.sideUp='Tails'\n",
    "    \n",
    "    def toss(self):\n",
    "        if random.randint(0,1)==0:\n",
    "            self.sideUp='Heads'\n",
    "        else:\n",
    "            self.sideUp='Tails'\n",
    "    \n",
    "    def get_sideUp(self):\n",
    "        return self.sideUp\n",
    "    \n",
    "def main():\n",
    "    myCoin=Coin()\n",
    "    print(myCoin.get_sideUp(),' is the side up when we start')\n",
    "    print('now tossing...')   \n",
    "    myCoin.toss()\n",
    "    \n",
    "    myCoin.sideUp='My side' #NOT a good method to add a value here becasue it's harder for u to access and change the data\n",
    "    print(myCoin.sideUp,'is the side up after the toss')\n",
    "\n",
    "    \n",
    "main()"
   ]
  },
  {
   "cell_type": "markdown",
   "metadata": {},
   "source": [
    "facade\n",
    "Any a"
   ]
  },
  {
   "cell_type": "code",
   "execution_count": 22,
   "metadata": {},
   "outputs": [
    {
     "name": "stdout",
     "output_type": "stream",
     "text": [
      "Tails  is the side up\n",
      "now tossing...\n",
      "Tails  is the side up\n"
     ]
    }
   ],
   "source": [
    "import random\n",
    "\n",
    "class Coin:\n",
    "    def __init__(self):\n",
    "        if random.randint(0,1)==0:\n",
    "            self.__sideUp='Heads'\n",
    "        else:\n",
    "            self.__sideUp='Tails'\n",
    "    \n",
    "    def toss(self):\n",
    "        if random.randint(0,1)==0:\n",
    "            self.__sideUp='Heads'\n",
    "        else:\n",
    "            self.__sideUp='Tails'\n",
    "    \n",
    "    def get_sideUp(self):\n",
    "        return self.__sideUp\n",
    "    \n",
    "def main():\n",
    "    myCoin=Coin()\n",
    "    print(myCoin.get_sideUp(),' is the side up')\n",
    "    print('now tossing...')   \n",
    "    myCoin.toss()\n",
    "    print(myCoin.get_sideUp(),' is the side up')\n",
    "\n",
    "    \n",
    "main()"
   ]
  },
  {
   "cell_type": "code",
   "execution_count": 25,
   "metadata": {},
   "outputs": [
    {
     "name": "stdout",
     "output_type": "stream",
     "text": [
      "Heads  is the side up\n",
      "now tossing...\n",
      "The current state is: Heads is up now\n"
     ]
    }
   ],
   "source": [
    "import random\n",
    "\n",
    "class Coin:\n",
    "    def __init__(self):\n",
    "        if random.randint(0,1)==0:\n",
    "            self.__sideUp='Heads'\n",
    "        else:\n",
    "            self.__sideUp='Tails'\n",
    "\n",
    "    \n",
    "    def toss(self):\n",
    "        if random.randint(0,1)==0:\n",
    "            self.__sideUp='Heads'\n",
    "        else:\n",
    "            self.__sideUp='Tails'\n",
    "        \n",
    "\n",
    "    \n",
    "    def get_sideUp(self):\n",
    "        return self.__sideUp\n",
    "    \n",
    "    def __str__(self): #when u print the object, it will be called naturally\n",
    "        return 'The current state is: '+ self.__sideUp + ' is up now'\n",
    "    \n",
    "def main():\n",
    "    myCoin=Coin()\n",
    "    print(myCoin.get_sideUp(),' is the side up')\n",
    "    print('now tossing...')   \n",
    "    myCoin.toss()\n",
    "\n",
    "    print(myCoin)\n",
    "    \n",
    "main()"
   ]
  },
  {
   "cell_type": "code",
   "execution_count": null,
   "metadata": {},
   "outputs": [
    {
     "name": "stdout",
     "output_type": "stream",
     "text": [
      "Enter make: 1\n",
      "Enter model: 2\n",
      "Enter year: 3\n",
      "Would you like to add more? y\n"
     ]
    }
   ],
   "source": [
    "class Car:\n",
    "    def __init__(self,make,model,year):\n",
    "        self.__make=make\n",
    "        self.__model=model\n",
    "        self.__year=year\n",
    "        \n",
    "    def get_make(self):\n",
    "        return self.__make\n",
    "    \n",
    "    def get_model(self):\n",
    "        return self.__model\n",
    "    \n",
    "    def get_year(self):\n",
    "        return self.__year\n",
    "    \n",
    "    def set_make(self,make):\n",
    "        self.__make=make\n",
    "        \n",
    "    def set_model(self, model):\n",
    "        self.__model=model\n",
    "        \n",
    "    def set_year(self, year):\n",
    "        self.__year=year\n",
    "        \n",
    "    def __str__(self):\n",
    "        return 'make: ' + self.__make + '\\nmodel: ' + self.__model + '\\nyear: ' + self.__year\n",
    "\n",
    "import pickle #binary \n",
    "\n",
    "def main():\n",
    "    choice='y'\n",
    "    dcCar={}\n",
    "    carFile=open('Cars.dat','wb')\n",
    "    while choice=='y':\n",
    "        make=input('Enter make: ')\n",
    "        model=input('Enter model: ')\n",
    "        year=input('Enter year: ')\n",
    "        myCar=Car(make,model,year)\n",
    "        dcCar[make]=myCar\n",
    "    \n",
    "        choice=input('Would you like to add more? ')\n",
    "    pickle.dump(dcCar,carFile) #write into a binary file\n",
    "    carFile.close()\n",
    "    \n",
    "main()\n",
    "        "
   ]
  },
  {
   "cell_type": "code",
   "execution_count": 27,
   "metadata": {},
   "outputs": [
    {
     "name": "stdout",
     "output_type": "stream",
     "text": [
      "{'make': <__main__.Car object at 0x0000022ECEF43278>}\n",
      "value -  make: make\n",
      "model: model\n",
      "year: 2018\n",
      "Make:\t make\n",
      "Model:\t model\n",
      "Year:\t 2018\n",
      "\n"
     ]
    }
   ],
   "source": [
    "def readCarFile():\n",
    "    fob=open('Cars.dat','rb')\n",
    "\n",
    "    dc=pickle.load(fob)\n",
    "    print(dc) #binary dictionary doesn't make sense\n",
    "    for key, value in dc.items():\n",
    "        print('value - ',value)\n",
    "        print('Make:\\t', value.get_make())\n",
    "        print('Model:\\t',value.get_model())\n",
    "        print('Year:\\t',value.get_year())\n",
    "        print()\n",
    "\n",
    "    \n",
    "    fob.close()\n",
    "\n",
    "readCarFile()"
   ]
  },
  {
   "cell_type": "code",
   "execution_count": 1,
   "metadata": {},
   "outputs": [
    {
     "name": "stdout",
     "output_type": "stream",
     "text": [
      "Enter make to find: make\n"
     ]
    },
    {
     "ename": "NameError",
     "evalue": "name 'pickle' is not defined",
     "output_type": "error",
     "traceback": [
      "\u001b[1;31m---------------------------------------------------------------------------\u001b[0m",
      "\u001b[1;31mNameError\u001b[0m                                 Traceback (most recent call last)",
      "\u001b[1;32m<ipython-input-1-131a30ca0e4a>\u001b[0m in \u001b[0;36m<module>\u001b[1;34m()\u001b[0m\n\u001b[0;32m     13\u001b[0m     \u001b[0mfob\u001b[0m\u001b[1;33m.\u001b[0m\u001b[0mclose\u001b[0m\u001b[1;33m(\u001b[0m\u001b[1;33m)\u001b[0m\u001b[1;33m\u001b[0m\u001b[0m\n\u001b[0;32m     14\u001b[0m \u001b[1;33m\u001b[0m\u001b[0m\n\u001b[1;32m---> 15\u001b[1;33m \u001b[0mgetCarData\u001b[0m\u001b[1;33m(\u001b[0m\u001b[1;33m)\u001b[0m\u001b[1;33m\u001b[0m\u001b[0m\n\u001b[0m",
      "\u001b[1;32m<ipython-input-1-131a30ca0e4a>\u001b[0m in \u001b[0;36mgetCarData\u001b[1;34m()\u001b[0m\n\u001b[0;32m      4\u001b[0m     \u001b[0mmake\u001b[0m\u001b[1;33m=\u001b[0m\u001b[0minput\u001b[0m\u001b[1;33m(\u001b[0m\u001b[1;34m'Enter make to find: '\u001b[0m\u001b[1;33m)\u001b[0m\u001b[1;33m\u001b[0m\u001b[0m\n\u001b[0;32m      5\u001b[0m \u001b[1;33m\u001b[0m\u001b[0m\n\u001b[1;32m----> 6\u001b[1;33m     \u001b[0mdc\u001b[0m\u001b[1;33m=\u001b[0m\u001b[0mpickle\u001b[0m\u001b[1;33m.\u001b[0m\u001b[0mload\u001b[0m\u001b[1;33m(\u001b[0m\u001b[0mfob\u001b[0m\u001b[1;33m)\u001b[0m\u001b[1;33m\u001b[0m\u001b[0m\n\u001b[0m\u001b[0;32m      7\u001b[0m     \u001b[0mmyCar\u001b[0m\u001b[1;33m=\u001b[0m\u001b[0mdc\u001b[0m\u001b[1;33m.\u001b[0m\u001b[0mget\u001b[0m\u001b[1;33m(\u001b[0m\u001b[0mmake\u001b[0m\u001b[1;33m,\u001b[0m\u001b[1;36m0\u001b[0m\u001b[1;33m)\u001b[0m\u001b[1;33m\u001b[0m\u001b[0m\n\u001b[0;32m      8\u001b[0m     \u001b[1;32mif\u001b[0m \u001b[0misinstance\u001b[0m\u001b[1;33m(\u001b[0m\u001b[0mmyCar\u001b[0m\u001b[1;33m,\u001b[0m\u001b[0mCar\u001b[0m\u001b[1;33m)\u001b[0m\u001b[1;33m:\u001b[0m\u001b[1;33m\u001b[0m\u001b[0m\n",
      "\u001b[1;31mNameError\u001b[0m: name 'pickle' is not defined"
     ]
    }
   ],
   "source": [
    "def getCarData():\n",
    "    \n",
    "    fob=open('Cars.dat','rb')\n",
    "    make=input('Enter make to find: ')\n",
    "    \n",
    "    dc=pickle.load(fob)\n",
    "    myCar=dc.get(make,0)\n",
    "    if isinstance(myCar,Car):\n",
    "        print('Model:\\t',myCar.get_model())\n",
    "        print('Year:\\t',myCar.get_year())\n",
    "    else:\n",
    "        print('Not found')\n",
    "    fob.close()\n",
    "\n",
    "getCarData()"
   ]
  },
  {
   "cell_type": "code",
   "execution_count": null,
   "metadata": {},
   "outputs": [],
   "source": [
    "%reset"
   ]
  },
  {
   "cell_type": "code",
   "execution_count": null,
   "metadata": {},
   "outputs": [],
   "source": []
  }
 ],
 "metadata": {
  "kernelspec": {
   "display_name": "Python 3",
   "language": "python",
   "name": "python3"
  },
  "language_info": {
   "codemirror_mode": {
    "name": "ipython",
    "version": 3
   },
   "file_extension": ".py",
   "mimetype": "text/x-python",
   "name": "python",
   "nbconvert_exporter": "python",
   "pygments_lexer": "ipython3",
   "version": "3.6.4"
  }
 },
 "nbformat": 4,
 "nbformat_minor": 2
}
