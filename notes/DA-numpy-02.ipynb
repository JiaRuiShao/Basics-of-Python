{
 "cells": [
  {
   "cell_type": "markdown",
   "metadata": {},
   "source": [
    "##### Processing arrays: More...\n"
   ]
  },
  {
   "cell_type": "code",
   "execution_count": 1,
   "metadata": {
    "collapsed": true
   },
   "outputs": [],
   "source": [
    "import numpy as np\n",
    "\n",
    "mx1=np.arange(80).reshape((8,10))"
   ]
  },
  {
   "cell_type": "code",
   "execution_count": 2,
   "metadata": {},
   "outputs": [
    {
     "data": {
      "text/plain": [
       "array([[ 0,  1,  2,  3,  4,  5,  6,  7,  8,  9],\n",
       "       [10, 11, 12, 13, 14, 15, 16, 17, 18, 19],\n",
       "       [20, 21, 22, 23, 24, 25, 26, 27, 28, 29],\n",
       "       [30, 31, 32, 33, 34, 35, 36, 37, 38, 39],\n",
       "       [40, 41, 42, 43, 44, 45, 46, 47, 48, 49],\n",
       "       [50, 51, 52, 53, 54, 55, 56, 57, 58, 59],\n",
       "       [60, 61, 62, 63, 64, 65, 66, 67, 68, 69],\n",
       "       [70, 71, 72, 73, 74, 75, 76, 77, 78, 79]])"
      ]
     },
     "execution_count": 2,
     "metadata": {},
     "output_type": "execute_result"
    }
   ],
   "source": [
    "mx1"
   ]
  },
  {
   "cell_type": "code",
   "execution_count": 3,
   "metadata": {},
   "outputs": [
    {
     "name": "stdout",
     "output_type": "stream",
     "text": [
      "[[ 0  1  2  3  4  5  6  7  8  9 10 11 12 13 14 15]\n",
      " [16 17 18 19 20 21 22 23 24 25 26 27 28 29 30 31]\n",
      " [32 33 34 35 36 37 38 39 40 41 42 43 44 45 46 47]\n",
      " [48 49 50 51 52 53 54 55 56 57 58 59 60 61 62 63]\n",
      " [64 65 66 67 68 69 70 71 72 73 74 75 76 77 78 79]]\n"
     ]
    }
   ],
   "source": [
    "mx2=np.arange(80).reshape((5,16))\n",
    "print(mx2)"
   ]
  },
  {
   "cell_type": "code",
   "execution_count": 4,
   "metadata": {},
   "outputs": [
    {
     "data": {
      "text/plain": [
       "array([[ 0, 16, 32, 48, 64],\n",
       "       [ 1, 17, 33, 49, 65],\n",
       "       [ 2, 18, 34, 50, 66],\n",
       "       [ 3, 19, 35, 51, 67],\n",
       "       [ 4, 20, 36, 52, 68],\n",
       "       [ 5, 21, 37, 53, 69],\n",
       "       [ 6, 22, 38, 54, 70],\n",
       "       [ 7, 23, 39, 55, 71],\n",
       "       [ 8, 24, 40, 56, 72],\n",
       "       [ 9, 25, 41, 57, 73],\n",
       "       [10, 26, 42, 58, 74],\n",
       "       [11, 27, 43, 59, 75],\n",
       "       [12, 28, 44, 60, 76],\n",
       "       [13, 29, 45, 61, 77],\n",
       "       [14, 30, 46, 62, 78],\n",
       "       [15, 31, 47, 63, 79]])"
      ]
     },
     "execution_count": 4,
     "metadata": {},
     "output_type": "execute_result"
    }
   ],
   "source": [
    "# Transpose\n",
    "mx2.T"
   ]
  },
  {
   "cell_type": "code",
   "execution_count": 5,
   "metadata": {},
   "outputs": [
    {
     "name": "stdout",
     "output_type": "stream",
     "text": [
      "[[1 2]\n",
      " [3 4]] \n",
      "\n",
      "[[2 3]\n",
      " [4 5]] \n",
      "\n",
      "[[10 13]\n",
      " [22 29]] \n",
      "\n",
      "[[3 5]\n",
      " [7 9]]\n"
     ]
    }
   ],
   "source": [
    "#Dot product of two arrays.\n",
    "\n",
    "m=np.arange(1,5).reshape(2,2)\n",
    "n=np.arange(2,6).reshape(2,2)\n",
    "k=np.dot(m,n)\n",
    "j=np.add(m,n)\n",
    "print(m,'\\n')\n",
    "print(n,'\\n')\n",
    "print(k,'\\n')\n",
    "\n",
    "print(j)\n"
   ]
  },
  {
   "cell_type": "code",
   "execution_count": 6,
   "metadata": {},
   "outputs": [
    {
     "name": "stdout",
     "output_type": "stream",
     "text": [
      "[[-0.3753997   0.10754652  0.61538213  0.1752293 ]\n",
      " [ 0.06367911  0.11068864 -0.05952282  0.82851349]\n",
      " [ 0.45189021 -1.49281776 -0.86044798 -0.01299777]\n",
      " [ 0.0517911   0.90067149  0.10957192  0.42984978]\n",
      " [ 0.32687056  0.30266236 -0.03021675  0.30328036]]\n",
      "\n",
      "[[ 0.36472634 -1.6715313  -0.51323117 -0.1531284 ]\n",
      " [ 1.04133056 -0.44165097 -0.38171548 -0.93352892]\n",
      " [-0.15934533 -1.1350301  -0.63445403 -0.32316811]\n",
      " [ 1.20865693  1.36165322  0.60820537  2.23356657]\n",
      " [-1.09176387  0.92615192  0.41496511  0.63381563]]\n"
     ]
    }
   ],
   "source": [
    "# create two random arrays that follow a normal distribution\n",
    "\n",
    "a1=np.random.randn(20).reshape((5,4))\n",
    "a2=np.random.randn(20).reshape((5,4))\n",
    "print(a1,a2, sep='\\n\\n')"
   ]
  },
  {
   "cell_type": "code",
   "execution_count": 7,
   "metadata": {},
   "outputs": [
    {
     "name": "stdout",
     "output_type": "stream",
     "text": [
      "[[ 0.72043597  2.25908912 -0.31905     1.67815513]\n",
      " [ 0.38606807  0.5651792  -0.47516146 -0.07584226]\n",
      " [-0.91295242 -0.0270247  -0.63326809  0.79510039]\n",
      " [ 1.52707884 -0.71380048 -1.04092773  1.33602865]\n",
      " [ 1.03015746 -0.60011656  1.30473044 -0.67811389]]\n"
     ]
    }
   ],
   "source": [
    "from numpy.random import randn\n",
    "\n",
    "a3=randn(5,4)\n",
    "print(a3)"
   ]
  },
  {
   "cell_type": "code",
   "execution_count": 8,
   "metadata": {},
   "outputs": [
    {
     "data": {
      "text/plain": [
       "True"
      ]
     },
     "execution_count": 8,
     "metadata": {},
     "output_type": "execute_result"
    }
   ],
   "source": [
    "# for more universal functions \n",
    "import webbrowser\n",
    "url = \"http://docs.scipy.org/doc/numpy/reference/ufuncs.html#available-ufuncs\"\n",
    "webbrowser.open(url)"
   ]
  },
  {
   "cell_type": "code",
   "execution_count": 9,
   "metadata": {},
   "outputs": [
    {
     "data": {
      "text/plain": [
       "array([[ 0,  1,  2,  3,  4,  5,  6,  7,  8,  9],\n",
       "       [10, 11, 12, 13, 14, 15, 16, 17, 18, 19],\n",
       "       [20, 21, 22, 23, 24, 25, 26, 27, 28, 29],\n",
       "       [30, 31, 32, 33, 34, 35, 36, 37, 38, 39],\n",
       "       [40, 41, 42, 43, 44, 45, 46, 47, 48, 49],\n",
       "       [50, 51, 52, 53, 54, 55, 56, 57, 58, 59],\n",
       "       [60, 61, 62, 63, 64, 65, 66, 67, 68, 69],\n",
       "       [70, 71, 72, 73, 74, 75, 76, 77, 78, 79]])"
      ]
     },
     "execution_count": 9,
     "metadata": {},
     "output_type": "execute_result"
    }
   ],
   "source": [
    "mx1"
   ]
  },
  {
   "cell_type": "code",
   "execution_count": 10,
   "metadata": {
    "collapsed": true
   },
   "outputs": [],
   "source": [
    "np.savetxt('mx_data.txt', mx1, delimiter=',')"
   ]
  },
  {
   "cell_type": "code",
   "execution_count": 11,
   "metadata": {},
   "outputs": [
    {
     "name": "stdout",
     "output_type": "stream",
     "text": [
      "[[  0.   1.   2.   3.   4.   5.   6.   7.   8.   9.]\n",
      " [ 10.  11.  12.  13.  14.  15.  16.  17.  18.  19.]\n",
      " [ 20.  21.  22.  23.  24.  25.  26.  27.  28.  29.]\n",
      " [ 30.  31.  32.  33.  34.  35.  36.  37.  38.  39.]\n",
      " [ 40.  41.  42.  43.  44.  45.  46.  47.  48.  49.]\n",
      " [ 50.  51.  52.  53.  54.  55.  56.  57.  58.  59.]\n",
      " [ 60.  61.  62.  63.  64.  65.  66.  67.  68.  69.]\n",
      " [ 70.  71.  72.  73.  74.  75.  76.  77.  78.  79.]]\n"
     ]
    }
   ],
   "source": [
    "mx10=np.loadtxt('mx_data.txt', delimiter=',')\n",
    "print(mx10)"
   ]
  },
  {
   "cell_type": "code",
   "execution_count": null,
   "metadata": {
    "collapsed": true
   },
   "outputs": [],
   "source": [
    "# import data from csv files\n",
    "# you can then manipulate the data\n",
    "\n",
    "import numpy as np\n",
    "\n",
    "d1=np.genfromtxt('sample.csv', delimiter=',', names=True)\n",
    "print(d1,'\\n')\n",
    "#print (d1[9])"
   ]
  },
  {
   "cell_type": "code",
   "execution_count": null,
   "metadata": {
    "collapsed": true
   },
   "outputs": [],
   "source": []
  }
 ],
 "metadata": {
  "kernelspec": {
   "display_name": "Python 3",
   "language": "python",
   "name": "python3"
  },
  "language_info": {
   "codemirror_mode": {
    "name": "ipython",
    "version": 3
   },
   "file_extension": ".py",
   "mimetype": "text/x-python",
   "name": "python",
   "nbconvert_exporter": "python",
   "pygments_lexer": "ipython3",
   "version": "3.6.3"
  }
 },
 "nbformat": 4,
 "nbformat_minor": 1
}
