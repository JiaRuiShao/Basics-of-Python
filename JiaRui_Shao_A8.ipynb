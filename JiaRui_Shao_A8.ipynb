{
 "cells": [
  {
   "cell_type": "markdown",
   "metadata": {},
   "source": [
    "1. Ask the user to input a year. Check if this is a leap year or not.  \n",
    "To determine whether a year is a leap year, follow these steps:\n",
    "If the year is evenly divisible by 4, go to step 2. ...\n",
    "If the year is evenly divisible by 100, go to step 3. ...\n",
    "If the year is evenly divisible by 400, go to step 4. ...\n",
    "The year is a leap year (it has 366 days).\n",
    "The year is not a leap year (it has 365 days)."
   ]
  },
  {
   "cell_type": "code",
   "execution_count": 6,
   "metadata": {},
   "outputs": [
    {
     "name": "stdout",
     "output_type": "stream",
     "text": [
      "Input a year: 2019\n",
      "This year is not a leap year.\n"
     ]
    }
   ],
   "source": [
    "year=int(input(\"Input a year: \"))\n",
    "if year % 4 == 0 and year % 100 == 0 and year % 400 == 0:\n",
    "    print(\"This year is a leap year.\")\n",
    "else:\n",
    "    print(\"This year is not a leap year.\")"
   ]
  },
  {
   "cell_type": "markdown",
   "metadata": {},
   "source": [
    "2.Ask the user to input a number. Check if this number is even or odd. "
   ]
  },
  {
   "cell_type": "code",
   "execution_count": 7,
   "metadata": {},
   "outputs": [
    {
     "name": "stdout",
     "output_type": "stream",
     "text": [
      "Input a number: -2\n",
      "This number is even.\n"
     ]
    }
   ],
   "source": [
    "number= int(input(\"Input a number: \"))\n",
    "if number % 2 == 0 or number == 0:\n",
    "    print(\"This number is even.\")\n",
    "else:\n",
    "    print(\"This number is odd:\")"
   ]
  },
  {
   "cell_type": "markdown",
   "metadata": {},
   "source": [
    "3.HbA1c of 6.5% or higher indicates diabetes. 5.7 to 6.4 indicates pre-diabetes. HbA1c less than 5.7 is considered normal. \n",
    "Ask the user for their HbA1c level and display if their they are in the normal range, pre-diabetic, or diabetic.  "
   ]
  },
  {
   "cell_type": "code",
   "execution_count": 10,
   "metadata": {},
   "outputs": [
    {
     "name": "stdout",
     "output_type": "stream",
     "text": [
      "What is your HbAlc level (in percentage): 6.0\n",
      "pre-diabetes\n"
     ]
    }
   ],
   "source": [
    "hbalc_level=float(input(\"What is your HbAlc level (in percentage): \"))\n",
    "if hbalc_level >= 6.5:\n",
    "    print(\"diabetes\")\n",
    "elif 5.7 <= hbalc_level <= 6.4:\n",
    "    print(\"pre-diabetes\")\n",
    "else:\n",
    "    print(\"normal\")"
   ]
  },
  {
   "cell_type": "markdown",
   "metadata": {},
   "source": [
    "4.Ask the user to input a character and check if it is a vowel.  "
   ]
  },
  {
   "cell_type": "code",
   "execution_count": 14,
   "metadata": {},
   "outputs": [
    {
     "name": "stdout",
     "output_type": "stream",
     "text": [
      "put a character: e\n",
      "e is a vowel.\n"
     ]
    }
   ],
   "source": [
    "number=input(\"put a character: \")\n",
    "if number=='a' or number=='A' or number=='e' or number=='E' or number=='i' or number=='I' or number=='o' or number=='O' or number=='u' or number=='U':\n",
    "    print(number, \"is a vowel.\")\n",
    "else:\n",
    "    print(number, \"is not a vowel.\")"
   ]
  },
  {
   "cell_type": "code",
   "execution_count": null,
   "metadata": {
    "collapsed": true
   },
   "outputs": [],
   "source": [
    "5.In assignment 7 you completed, check if Joe made a profit or incurred a loss. "
   ]
  },
  {
   "cell_type": "code",
   "execution_count": 15,
   "metadata": {},
   "outputs": [
    {
     "name": "stdout",
     "output_type": "stream",
     "text": [
      "profit\n"
     ]
    }
   ],
   "source": [
    "paid_stock=2000*40\n",
    "paid_commission_buy=paid_stock*0.03\n",
    "sold_stock=2000*42.75\n",
    "sold_commission=sold_stock*0.03\n",
    "earned=sold_stock-paid_stock-paid_commission_buy-sold_commission\n",
    "if earned >= 0:\n",
    "    print(\"profit\")\n",
    "else:\n",
    "    print(\"loss\")"
   ]
  },
  {
   "cell_type": "code",
   "execution_count": null,
   "metadata": {
    "collapsed": true
   },
   "outputs": [],
   "source": [
    "6.Ask the user for three numbers and find the highest of the three numbers.  "
   ]
  },
  {
   "cell_type": "code",
   "execution_count": 16,
   "metadata": {},
   "outputs": [
    {
     "name": "stdout",
     "output_type": "stream",
     "text": [
      "Put a number: 3\n",
      "Put a number: 4\n",
      "Put a number: 5\n",
      "5.0 is the highest number.\n"
     ]
    }
   ],
   "source": [
    "number1=float(input(\"Put a number: \"))\n",
    "number2=float(input(\"Put a number: \"))\n",
    "number3=float(input(\"Put a number: \"))\n",
    "if number1 >= number2 and number1 >= number3:\n",
    "    print(number1,\"is the highest number.\")\n",
    "if number2 >= number3 and number2 >= number1:\n",
    "    print(number2,\"is the highest number.\")\n",
    "if number3 >= number2 and number3 >= number1:\n",
    "    print(number3,\"is the highest number.\")"
   ]
  },
  {
   "cell_type": "markdown",
   "metadata": {},
   "source": [
    "7.On a roulette wheel, the pockets are numbered from 0 to 36. The colors of the pockets are as follows: \n",
    "Pocket 0 is green.  \n",
    "For pockets 1 through 10, the odd-numbered pockets are red and the even-numbered pockets are black.  \n",
    "For pockets 11 through 18, the odd-numbered pockets are black and the even-numbered pockets are red.  \n",
    "For pockets 19 through 28, the odd-numbered pockets are red and the even-numbered pockets are black.  \n",
    "For pockets 29 through 36, the odd-numbered pockets are black and the even-numbered pockets are red. \n",
    "\n",
    "Write a program that asks the user to enter a pocket number and displays whether the pocket is green, red, or black. The program should display an error message if the user enters a number that is outside the range of 0 through 36. "
   ]
  },
  {
   "cell_type": "code",
   "execution_count": 12,
   "metadata": {},
   "outputs": [
    {
     "name": "stdout",
     "output_type": "stream",
     "text": [
      "Put a number: 3\n",
      "The pocket is red.\n"
     ]
    }
   ],
   "source": [
    "pocket_number=int(input(\"Put a number: \"))\n",
    "if pocket_number == 0:\n",
    "    print(\"The pocket is green.\")\n",
    "elif 1<=pocket_number<=10 and pocket_number % 2 ==0:\n",
    "    print(\"The pocket is black.\")\n",
    "elif 1<=pocket_number<=10 and pocket_number % 2 !=0:\n",
    "    print(\"The pocket is red.\")\n",
    "elif 11<=pocket_number<=18 and pocket_number % 2 !=0:\n",
    "    print(\"The pocket is black.\")\n",
    "elif 11<=pocket_number<=18 and pocket_number % 2 ==0:\n",
    "    print(\"The pocket is red.\")\n",
    "elif 19<=pocket_number<=28 and pocket_number % 2 ==0:\n",
    "    print(\"The pocket is black.\")\n",
    "elif 19<=pocket_number<=28 and pocket_number % 2 !=0:\n",
    "    print(\"The pocket is red.\")\n",
    "elif 29<=pocket_number<=36 and pocket_number % 2 !=0:\n",
    "    print(\"The pocket is black.\")\n",
    "elif 29<=pocket_number<=36 and pocket_number % 2 ==0:\n",
    "    print(\"The pocket is red.\")\n",
    "else:\n",
    "    print(\"error\")"
   ]
  },
  {
   "cell_type": "markdown",
   "metadata": {},
   "source": [
    "8.To enter the Zicklin school of business, students need to complete at least 45 credits with an overall Baruch GPA of 2.25 or higher. Ask the user the number of credits they have completed and their overall GPA and display whether they are eligible to get into Zicklin or not.  \n",
    " \n",
    "Check the Baruch/CUNY Pathways requirements for college option - http://www.baruch.cuny.edu/genedreqs/pathwaysatbaruch/pathwaysoptions_baruch.htm  \n",
    "Ask the user the right questions and do the right checks to display the coursework that the user needs to complete. "
   ]
  },
  {
   "cell_type": "code",
   "execution_count": null,
   "metadata": {
    "collapsed": true
   },
   "outputs": [],
   "source": [
    "#donna have enough time"
   ]
  },
  {
   "cell_type": "code",
   "execution_count": null,
   "metadata": {
    "collapsed": true
   },
   "outputs": [],
   "source": []
  },
  {
   "cell_type": "code",
   "execution_count": null,
   "metadata": {
    "collapsed": true
   },
   "outputs": [],
   "source": []
  },
  {
   "cell_type": "code",
   "execution_count": null,
   "metadata": {
    "collapsed": true
   },
   "outputs": [],
   "source": []
  },
  {
   "cell_type": "code",
   "execution_count": null,
   "metadata": {
    "collapsed": true
   },
   "outputs": [],
   "source": []
  },
  {
   "cell_type": "code",
   "execution_count": null,
   "metadata": {
    "collapsed": true
   },
   "outputs": [],
   "source": []
  }
 ],
 "metadata": {
  "kernelspec": {
   "display_name": "Python 3",
   "language": "python",
   "name": "python3"
  },
  "language_info": {
   "codemirror_mode": {
    "name": "ipython",
    "version": 3
   },
   "file_extension": ".py",
   "mimetype": "text/x-python",
   "name": "python",
   "nbconvert_exporter": "python",
   "pygments_lexer": "ipython3",
   "version": "3.6.3"
  }
 },
 "nbformat": 4,
 "nbformat_minor": 2
}
