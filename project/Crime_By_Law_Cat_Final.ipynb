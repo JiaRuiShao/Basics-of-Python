{
 "cells": [
  {
   "cell_type": "code",
   "execution_count": 1,
   "metadata": {
    "collapsed": true
   },
   "outputs": [],
   "source": [
    "import pandas as pd\n",
    "import numpy as np\n",
    "import matplotlib.pyplot as plt\n",
    "import seaborn "
   ]
  },
  {
   "cell_type": "code",
   "execution_count": 2,
   "metadata": {},
   "outputs": [
    {
     "name": "stdout",
     "output_type": "stream",
     "text": [
      "Index(['CMPLNT_NUM', 'CMPLNT_FR_DT', 'CMPLNT_FR_TM', 'CMPLNT_TO_DT',\n",
      "       'CMPLNT_TO_TM', 'RPT_DT', 'KY_CD', 'OFNS_DESC', 'PD_CD', 'PD_DESC',\n",
      "       'CRM_ATPT_CPTD_CD', 'LAW_CAT_CD', 'JURIS_DESC', 'BORO_NM',\n",
      "       'ADDR_PCT_CD', 'LOC_OF_OCCUR_DESC', 'PREM_TYP_DESC', 'PARKS_NM',\n",
      "       'HADEVELOPT', 'X_COORD_CD', 'Y_COORD_CD', 'Latitude', 'Longitude',\n",
      "       'Lat_Lon'],\n",
      "      dtype='object')\n"
     ]
    }
   ],
   "source": [
    "data_NY = pd.read_csv('NY_2015-2017.csv', low_memory=False)\n",
    "print(data_NY.columns)"
   ]
  },
  {
   "cell_type": "code",
   "execution_count": 37,
   "metadata": {},
   "outputs": [],
   "source": [
    "df_NY=pd.DataFrame(data_NY, columns=['LAW_CAT_CD', 'BORO_NM'])"
   ]
  },
  {
   "cell_type": "code",
   "execution_count": 38,
   "metadata": {},
   "outputs": [
    {
     "name": "stdout",
     "output_type": "stream",
     "text": [
      "LAW_CAT_CD   BORO_NM      \n",
      "FELONY       BRONX            28616\n",
      "             BROOKLYN         43968\n",
      "             MANHATTAN        35178\n",
      "             QUEENS           29247\n",
      "             STATEN ISLAND     4747\n",
      "MISDEMEANOR  BRONX            59251\n",
      "             BROOKLYN         73563\n",
      "             MANHATTAN        65697\n",
      "             QUEENS           47874\n",
      "             STATEN ISLAND    11896\n",
      "VIOLATION    BRONX            15351\n",
      "             BROOKLYN         19752\n",
      "             MANHATTAN        13229\n",
      "             QUEENS           14246\n",
      "             STATEN ISLAND     4619\n",
      "dtype: int64\n"
     ]
    }
   ],
   "source": [
    "#Crime count by Boroughs under each Law Category\n",
    "\n",
    "crime_by_law_cat=df_NY.groupby(['LAW_CAT_CD', 'BORO_NM']).size()\n",
    "print(crime_by_law_cat)\n"
   ]
  },
  {
   "cell_type": "code",
   "execution_count": 5,
   "metadata": {},
   "outputs": [
    {
     "name": "stdout",
     "output_type": "stream",
     "text": [
      "LAW_CAT_CD\n",
      "MISDEMEANOR    258281\n",
      "FELONY         141756\n",
      "VIOLATION       67197\n",
      "dtype: int64\n"
     ]
    }
   ],
   "source": [
    "#law categories overall count\n",
    "\n",
    "crime_by_law_cat_largest=df_NY.groupby(['LAW_CAT_CD']).size().nlargest(3)\n",
    "print(crime_by_immediate_location_largest)"
   ]
  },
  {
   "cell_type": "code",
   "execution_count": 6,
   "metadata": {},
   "outputs": [
    {
     "data": {
      "text/plain": [
       "[Text(0,0,'MISDEMEANOR'), Text(0,0,'FELONY'), Text(0,0,'VIOLATION')]"
      ]
     },
     "execution_count": 6,
     "metadata": {},
     "output_type": "execute_result"
    },
    {
     "data": {
      "image/png": "[encoded data removed]",
      "text/plain": [
       "<matplotlib.figure.Figure at 0x26b58550828>"
      ]
     },
     "metadata": {},
     "output_type": "display_data"
    }
   ],
   "source": [
    "#Visual Representation of the Severity of crimes committed on total\n",
    "%matplotlib inline\n",
    "g_NY_district=seaborn.countplot(x='LAW_CAT_CD', data=df_NY,order=df_NY['LAW_CAT_CD'].value_counts().iloc[:3].index)\n",
    "g_NY_district.set_xticklabels(g_NY_district.get_xticklabels())"
   ]
  },
  {
   "cell_type": "code",
   "execution_count": null,
   "metadata": {
    "collapsed": true
   },
   "outputs": [],
   "source": []
  }
 ],
 "metadata": {
  "kernelspec": {
   "display_name": "Python 3",
   "language": "python",
   "name": "python3"
  },
  "language_info": {
   "codemirror_mode": {
    "name": "ipython",
    "version": 3
   },
   "file_extension": ".py",
   "mimetype": "text/x-python",
   "name": "python",
   "nbconvert_exporter": "python",
   "pygments_lexer": "ipython3",
   "version": "3.6.3"
  }
 },
 "nbformat": 4,
 "nbformat_minor": 2
}
