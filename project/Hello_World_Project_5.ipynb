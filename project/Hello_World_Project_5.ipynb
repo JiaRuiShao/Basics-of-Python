{
 "cells": [
  {
   "cell_type": "code",
   "execution_count": 59,
   "metadata": {
    "collapsed": true
   },
   "outputs": [],
   "source": [
    "import pandas\n",
    "import numpy\n",
    "import matplotlib.pyplot as plt\n",
    "import seaborn"
   ]
  },
  {
   "cell_type": "code",
   "execution_count": 60,
   "metadata": {},
   "outputs": [],
   "source": [
    "data=pandas.read_csv('CH.csv', low_memory=False)    # Chicago\n",
    "\n",
    "data1=pandas.read_csv('NY1.csv', low_memory=False)  # New York"
   ]
  },
  {
   "cell_type": "code",
   "execution_count": 63,
   "metadata": {
    "collapsed": true
   },
   "outputs": [],
   "source": [
    "dfb=pandas.DataFrame(data, columns=['year', 'primary_type'])                       #Chicago\n",
    "dfb1=pandas.DataFrame(data1, columns=['years', 'primary_types'])     #NY"
   ]
  },
  {
   "cell_type": "code",
   "execution_count": 64,
   "metadata": {},
   "outputs": [
    {
     "name": "stdout",
     "output_type": "stream",
     "text": [
      "Frequency Distribution:\n",
      "THEFT                                237461\n",
      "BATTERY                              197005\n",
      "CRIMINAL DAMAGE                      118744\n",
      "NARCOTICS                             77092\n",
      "ASSAULT                               71516\n",
      "OTHER OFFENSE                         67957\n",
      "DECEPTIVE PRACTICE                    53972\n",
      "BURGLARY                              53313\n",
      "MOTOR VEHICLE THEFT                   44491\n",
      "ROBBERY                               42182\n",
      "CRIMINAL TRESPASS                     27896\n",
      "WEAPONS VIOLATION                     14032\n",
      "OFFENSE INVOLVING CHILDREN             8543\n",
      "PUBLIC PEACE VIOLATION                 6629\n",
      "PROSTITUTION                           6357\n",
      "CRIM SEXUAL ASSAULT                    5485\n",
      "SEX OFFENSE                            4261\n",
      "INTERFERENCE WITH PUBLIC OFFICER       3419\n",
      "ARSON                                  1778\n",
      "LIQUOR LAW VIOLATION                   1430\n",
      "GAMBLING                               1329\n",
      "HOMICIDE                               1015\n",
      "KIDNAPPING                              961\n",
      "STALKING                                601\n",
      "INTIMIDATION                            568\n",
      "OBSCENITY                               187\n",
      "CONCEALED CARRY LICENSE VIOLATION       146\n",
      "NON-CRIMINAL                             89\n",
      "PUBLIC INDECENCY                         38\n",
      "HUMAN TRAFFICKING                        25\n",
      "OTHER NARCOTIC VIOLATION                 24\n",
      "NON - CRIMINAL                           23\n",
      "NON-CRIMINAL (SUBJECT SPECIFIED)          3\n",
      "RITUALISM                                 3\n",
      "Name: primary_type, dtype: int64\n"
     ]
    }
   ],
   "source": [
    "chas_count = dfb['primary_type'].value_counts()    #Chicago\n",
    "print('Frequency Distribution:', chas_count, sep='\\n')"
   ]
  },
  {
   "cell_type": "code",
   "execution_count": 65,
   "metadata": {},
   "outputs": [
    {
     "name": "stdout",
     "output_type": "stream",
     "text": [
      "Frequency Distribution:\n",
      "PETIT LARCENY                           180029\n",
      "HARRASSMENT 2                           133006\n",
      "ASSAULT 3 & RELATED OFFENSES            114378\n",
      "CRIMINAL MISCHIEF & RELATED OF          102666\n",
      "GRAND LARCENY                            95634\n",
      "DANGEROUS DRUGS                          56853\n",
      "OFF. AGNST PUB ORD SENSBLTY &            44599\n",
      "FELONY ASSAULT                           43894\n",
      "ROBBERY                                  36781\n",
      "BURGLARY                                 34961\n",
      "MISCELLANEOUS PENAL LAW                  29181\n",
      "DANGEROUS WEAPONS                        22945\n",
      "OFFENSES AGAINST PUBLIC ADMINI           21348\n",
      "GRAND LARCENY OF MOTOR VEHICLE           16214\n",
      "INTOXICATED & IMPAIRED DRIVING           15168\n",
      "VEHICLE AND TRAFFIC LAWS                 13043\n",
      "SEX CRIMES                               11068\n",
      "FORGERY                                  10553\n",
      "CRIMINAL TRESPASS                        10290\n",
      "THEFT-FRAUD                               9875\n",
      "FRAUDS                                    7667\n",
      "POSSESSION OF STOLEN PROPERTY             4924\n",
      "UNAUTHORIZED USE OF A VEHICLE             3551\n",
      "OTHER OFFENSES RELATED TO THEF            3074\n",
      "OFFENSES INVOLVING FRAUD                  2964\n",
      "OFFENSES AGAINST THE PERSON               2802\n",
      "RAPE                                      2681\n",
      "ARSON                                     2471\n",
      "ADMINISTRATIVE CODE                       2331\n",
      "THEFT OF SERVICES                          992\n",
      "                                         ...  \n",
      "PROSTITUTION & RELATED OFFENSES            240\n",
      "OFFENSES AGAINST PUBLIC SAFETY             184\n",
      "ALCOHOLIC BEVERAGE CONTROL LAW             161\n",
      "PETIT LARCENY OF MOTOR VEHICLE             155\n",
      "DISORDERLY CONDUCT                         123\n",
      "AGRICULTURE & MRKTS LAW-UNCLASSIFIED        83\n",
      "JOSTLING                                    80\n",
      "CHILD ABANDONMENT/NON SUPPORT               61\n",
      "ENDAN WELFARE INCOMP                        52\n",
      "OTHER STATE LAWS                            31\n",
      "NEW YORK CITY HEALTH CODE                   25\n",
      "ESCAPE 3                                    25\n",
      "LOITERING/GAMBLING (CARDS, DIC              19\n",
      "INTOXICATED/IMPAIRED DRIVING                18\n",
      "DISRUPTION OF A RELIGIOUS SERV              13\n",
      "ANTICIPATORY OFFENSES                        9\n",
      "UNLAWFUL POSS. WEAP. ON SCHOOL               8\n",
      "HOMICIDE-NEGLIGENT,UNCLASSIFIE               8\n",
      "HOMICIDE-NEGLIGENT-VEHICLE                   7\n",
      "NYS LAWS-UNCLASSIFIED VIOLATION              6\n",
      "OTHER TRAFFIC INFRACTION                     3\n",
      "LOITERING                                    2\n",
      "UNDER THE INFLUENCE OF DRUGS                 2\n",
      "ABORTION                                     2\n",
      "ADMINISTRATIVE CODES                         2\n",
      "KIDNAPPING                                   2\n",
      "OTHER STATE LAWS (NON PENAL LAW)             1\n",
      "LOITERING FOR DRUG PURPOSES                  1\n",
      "FORTUNE TELLING                              1\n",
      "KIDNAPPING AND RELATED OFFENSES              1\n",
      "Name: primary_types, Length: 68, dtype: int64\n"
     ]
    }
   ],
   "source": [
    "chas_count1 = dfb1['primary_types'].value_counts()    #NY\n",
    "print('Frequency Distribution:', chas_count1, sep='\\n')"
   ]
  },
  {
   "cell_type": "code",
   "execution_count": 69,
   "metadata": {},
   "outputs": [
    {
     "data": {
      "text/plain": [
       "[Text(0,0,'THEFT'),\n",
       " Text(0,0,'BATTERY'),\n",
       " Text(0,0,'CRIMINAL DAMAGE'),\n",
       " Text(0,0,'NARCOTICS'),\n",
       " Text(0,0,'ASSAULT'),\n",
       " Text(0,0,'OTHER OFFENSE'),\n",
       " Text(0,0,'DECEPTIVE PRACTICE'),\n",
       " Text(0,0,'BURGLARY'),\n",
       " Text(0,0,'MOTOR VEHICLE THEFT'),\n",
       " Text(0,0,'ROBBERY')]"
      ]
     },
     "execution_count": 69,
     "metadata": {},
     "output_type": "execute_result"
    },
    {
     "data": {
      "image/png": "[encoded data removed]",
      "text/plain": [
       "<matplotlib.figure.Figure at 0x23d5a8ff358>"
      ]
     },
     "metadata": {},
     "output_type": "display_data"
    }
   ],
   "source": [
    "#Chicago\n",
    "%matplotlib inline      \n",
    "g=seaborn.countplot(x='primary_type', data=dfb,order=dfb['primary_type'].value_counts().iloc[:10].index)\n",
    "g.set_xticklabels(g.get_xticklabels(),rotation=90)"
   ]
  },
  {
   "cell_type": "code",
   "execution_count": 68,
   "metadata": {},
   "outputs": [
    {
     "data": {
      "text/plain": [
       "[Text(0,0,'PETIT LARCENY'),\n",
       " Text(0,0,'HARRASSMENT 2'),\n",
       " Text(0,0,'ASSAULT 3 & RELATED OFFENSES'),\n",
       " Text(0,0,'CRIMINAL MISCHIEF & RELATED OF'),\n",
       " Text(0,0,'GRAND LARCENY'),\n",
       " Text(0,0,'DANGEROUS DRUGS'),\n",
       " Text(0,0,'OFF. AGNST PUB ORD SENSBLTY &'),\n",
       " Text(0,0,'FELONY ASSAULT'),\n",
       " Text(0,0,'ROBBERY'),\n",
       " Text(0,0,'BURGLARY')]"
      ]
     },
     "execution_count": 68,
     "metadata": {},
     "output_type": "execute_result"
    },
    {
     "data": {
      "image/png": "[encoded data removed]",
      "text/plain": [
       "<matplotlib.figure.Figure at 0x23d56f7d5f8>"
      ]
     },
     "metadata": {},
     "output_type": "display_data"
    }
   ],
   "source": [
    "#New York\n",
    "%matplotlib inline\n",
    "g1=seaborn.countplot(x='primary_types', data=dfb1,order=dfb1['primary_types'].value_counts().iloc[:10].index)\n",
    "g1.set_xticklabels(g1.get_xticklabels(),rotation=90)"
   ]
  },
  {
   "cell_type": "code",
   "execution_count": null,
   "metadata": {},
   "outputs": [],
   "source": []
  },
  {
   "cell_type": "code",
   "execution_count": null,
   "metadata": {
    "collapsed": true
   },
   "outputs": [],
   "source": []
  }
 ],
 "metadata": {
  "kernelspec": {
   "display_name": "Python 3",
   "language": "python",
   "name": "python3"
  },
  "language_info": {
   "codemirror_mode": {
    "name": "ipython",
    "version": 3
   },
   "file_extension": ".py",
   "mimetype": "text/x-python",
   "name": "python",
   "nbconvert_exporter": "python",
   "pygments_lexer": "ipython3",
   "version": "3.6.3"
  }
 },
 "nbformat": 4,
 "nbformat_minor": 2
}
