{
 "cells": [
  {
   "cell_type": "markdown",
   "metadata": {},
   "source": [
    "Write a program that lets the user play the game of Rock, Paper, Scissors against the computer. The program should work as follows:\n",
    "\n",
    "When the program begins, a random number in the range of 1 through 3 is generated. If the number is 1, then the computer has chosen rock. If the number is 2, then the com- puter has chosen paper. If the number is 3, then the computer has chosen scissors. (Don’t display the computer’s choice yet.)\n",
    "The user enters his or her choice of “rock,” “paper,” or “scissors” at the keyboard.\n",
    "The computer’s choice and the winner are displayed."
   ]
  },
  {
   "cell_type": "code",
   "execution_count": 7,
   "metadata": {},
   "outputs": [
    {
     "name": "stdout",
     "output_type": "stream",
     "text": [
      "Choose from 1-rock, 2-paper and 3-scissors3\n",
      "The computer's choice is: 1\n",
      "The winner is the computer.\n"
     ]
    }
   ],
   "source": [
    "import random\n",
    "rock=1\n",
    "paper=2\n",
    "scissors=3\n",
    "\n",
    "choice=int(input(\"Choose from 1-rock, 2-paper and 3-scissors\"))\n",
    "computer_choice=random.randint(1,3)\n",
    "print(\"The computer's choice is:\",computer_choice)\n",
    "\n",
    "if choice==1 and computer_choice==2:\n",
    "    print(\"The winner is the computer.\")\n",
    "elif choice==1 and computer_choice==3:\n",
    "    print(\"The winner is you.\")\n",
    "elif choice==1 and computer_choice==1:\n",
    "    print(\"There's no winner.\")\n",
    "if choice==2 and computer_choice==3:\n",
    "    print(\"The winner is the computer.\")\n",
    "elif choice==2 and computer_choice==1:\n",
    "    print(\"The winner is you.\")\n",
    "elif choice==2 and computer_choice==2:\n",
    "    print(\"There's no winner.\")\n",
    "if choice==3 and computer_choice==1:\n",
    "    print(\"The winner is the computer.\")\n",
    "elif choice==3 and computer_choice==2:\n",
    "    print(\"The winner is you.\")\n",
    "elif choice==3 and computer_choice==3:\n",
    "    print(\"There's no winner.\")"
   ]
  }
 ],
 "metadata": {
  "kernelspec": {
   "display_name": "Python 3",
   "language": "python",
   "name": "python3"
  },
  "language_info": {
   "codemirror_mode": {
    "name": "ipython",
    "version": 3
   },
   "file_extension": ".py",
   "mimetype": "text/x-python",
   "name": "python",
   "nbconvert_exporter": "python",
   "pygments_lexer": "ipython3",
   "version": "3.6.3"
  }
 },
 "nbformat": 4,
 "nbformat_minor": 2
}
