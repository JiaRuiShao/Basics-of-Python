{
 "cells": [
  {
   "cell_type": "markdown",
   "metadata": {},
   "source": [
    "Write a program that displays a table of the Celsius temperatures 0 through 20 and their Fahrenheit equivalents. The formula for converting a temperature from Celsius to Fahrenheit is"
   ]
  },
  {
   "cell_type": "code",
   "execution_count": 4,
   "metadata": {},
   "outputs": [
    {
     "name": "stdout",
     "output_type": "stream",
     "text": [
      "Celsius temperatures\tFahrenheit equivalents\n",
      "-------------------------------------------------\n",
      "0 \t\t\t\t 32.0\n",
      "1 \t\t\t\t 33.8\n",
      "2 \t\t\t\t 35.6\n",
      "3 \t\t\t\t 37.4\n",
      "4 \t\t\t\t 39.2\n",
      "5 \t\t\t\t 41.0\n",
      "6 \t\t\t\t 42.8\n",
      "7 \t\t\t\t 44.6\n",
      "8 \t\t\t\t 46.4\n",
      "9 \t\t\t\t 48.2\n",
      "10 \t\t\t\t 50.0\n",
      "11 \t\t\t\t 51.8\n",
      "12 \t\t\t\t 53.6\n",
      "13 \t\t\t\t 55.4\n",
      "14 \t\t\t\t 57.2\n",
      "15 \t\t\t\t 59.0\n",
      "16 \t\t\t\t 60.8\n",
      "17 \t\t\t\t 62.6\n",
      "18 \t\t\t\t 64.4\n",
      "19 \t\t\t\t 66.2\n",
      "20 \t\t\t\t 68.0\n"
     ]
    }
   ],
   "source": [
    "print(\"Celsius temperatures\\tFahrenheit equivalents\")\n",
    "print(\"-------------------------------------------------\")\n",
    "for temperature_C in range(21):\n",
    "    print(temperature_C,'\\t\\t\\t\\t',temperature_C*9/5+32)"
   ]
  },
  {
   "cell_type": "markdown",
   "metadata": {},
   "source": [
    "Write a program that lets the user enter a non-negative integer and then uses a loop to calculate the factorial of that number. Display the factorial."
   ]
  },
  {
   "cell_type": "code",
   "execution_count": 7,
   "metadata": {},
   "outputs": [
    {
     "name": "stdout",
     "output_type": "stream",
     "text": [
      "Put a non-negative number: 5\n",
      "120\n"
     ]
    }
   ],
   "source": [
    "num = int(input(\"Put a non-negative number: \"))\n",
    "total = 1\n",
    "for i in range (1,num + 1):\n",
    "    total *= i\n",
    "print(format(total,',d'))"
   ]
  }
 ],
 "metadata": {
  "kernelspec": {
   "display_name": "Python 3",
   "language": "python",
   "name": "python3"
  },
  "language_info": {
   "codemirror_mode": {
    "name": "ipython",
    "version": 3
   },
   "file_extension": ".py",
   "mimetype": "text/x-python",
   "name": "python",
   "nbconvert_exporter": "python",
   "pygments_lexer": "ipython3",
   "version": "3.6.3"
  }
 },
 "nbformat": 4,
 "nbformat_minor": 2
}
