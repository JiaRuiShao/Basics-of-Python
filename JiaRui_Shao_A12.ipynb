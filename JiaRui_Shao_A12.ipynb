{
 "cells": [
  {
   "cell_type": "code",
   "execution_count": 7,
   "metadata": {},
   "outputs": [
    {
     "name": "stdout",
     "output_type": "stream",
     "text": [
      "Put the starting number of organisms: 2\n",
      "Average daily increase: 0.3\n",
      "Number of days to multiply:10\n",
      "Day approximate\tPopulation\n",
      "1 \t 2.00\n",
      "2 \t 2.60\n",
      "3 \t 3.38\n",
      "4 \t 4.39\n",
      "5 \t 5.71\n",
      "6 \t 7.43\n",
      "7 \t 9.65\n",
      "8 \t 12.55\n",
      "9 \t 16.31\n",
      "10 \t 21.21\n"
     ]
    }
   ],
   "source": [
    "starting_num = int(input(\"Put the starting number of organisms: \"))\n",
    "increase = float(input(\"Average daily increase: \"))\n",
    "days = int(input(\"Number of days to multiply:\"))\n",
    "\n",
    "print(\"Day approximate\\tPopulation\")\n",
    "for i in range (days):\n",
    "    print(i+1,'\\t',format(starting_num * (1 + increase) ** i,'.2f'))"
   ]
  }
 ],
 "metadata": {
  "kernelspec": {
   "display_name": "Python 3",
   "language": "python",
   "name": "python3"
  },
  "language_info": {
   "codemirror_mode": {
    "name": "ipython",
    "version": 3
   },
   "file_extension": ".py",
   "mimetype": "text/x-python",
   "name": "python",
   "nbconvert_exporter": "python",
   "pygments_lexer": "ipython3",
   "version": "3.6.3"
  }
 },
 "nbformat": 4,
 "nbformat_minor": 2
}
