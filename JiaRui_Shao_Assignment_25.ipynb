{
 "cells": [
  {
   "cell_type": "markdown",
   "metadata": {},
   "source": [
    "**JiaRui Shao**"
   ]
  },
  {
   "cell_type": "markdown",
   "metadata": {},
   "source": [
    "Here is a txt file that has a list of US states and capitals (USStatesCapitals.txt). Write a program that reads this file and creates a dictionary with states and capitals as key-value pairs. The program should then randomly quiz the user by displaying the name of a state and asking the user to enter that state’s capital.\n",
    "\n",
    "Hint: For getting a key-value pair randomly from a dictionary, check the random.sample() function from the random module."
   ]
  },
  {
   "cell_type": "code",
   "execution_count": 20,
   "metadata": {},
   "outputs": [
    {
     "name": "stdout",
     "output_type": "stream",
     "text": [
      "Georgia\n",
      "What is the capital of this state: Atlanta\n",
      "Ur answer is right!\n"
     ]
    }
   ],
   "source": [
    "import random\n",
    "\n",
    "ask_state={}\n",
    "open_file=open('USStatesCapitals.txt','r')\n",
    "for lines in open_file:\n",
    "    lines=lines.split(',')\n",
    "    key=lines[0]\n",
    "    word=lines[1].rstrip('\\n')\n",
    "    ask_state[key]=word\n",
    "open_file.close()\n",
    "\n",
    "random_state=list(ask_state.keys())\n",
    "mystate=random.choice(random_state)\n",
    "capital=ask_state.get(mystate,0)\n",
    "print(mystate)\n",
    "mycapital=input(\"What is the capital of this state: \")\n",
    "if mycapital == capital:\n",
    "    print(\"Ur answer is right!\")\n",
    "else:\n",
    "    print(\"Sorry, ur answer is wrong.\")"
   ]
  }
 ],
 "metadata": {
  "kernelspec": {
   "display_name": "Python 3",
   "language": "python",
   "name": "python3"
  },
  "language_info": {
   "codemirror_mode": {
    "name": "ipython",
    "version": 3
   },
   "file_extension": ".py",
   "mimetype": "text/x-python",
   "name": "python",
   "nbconvert_exporter": "python",
   "pygments_lexer": "ipython3",
   "version": "3.6.4"
  }
 },
 "nbformat": 4,
 "nbformat_minor": 2
}
