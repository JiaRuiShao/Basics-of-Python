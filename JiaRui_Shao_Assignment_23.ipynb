{
 "cells": [
  {
   "cell_type": "markdown",
   "metadata": {},
   "source": [
    "__JiaRui Shao__"
   ]
  },
  {
   "cell_type": "markdown",
   "metadata": {},
   "source": [
    "In a program, write a function that accepts two arguments: a list, and a number n. Assume that the list contains numbers. The function should display all of the numbers in the list that are greater than the number n. Then test this by calling the function and passing a list and a number."
   ]
  },
  {
   "cell_type": "code",
   "execution_count": 11,
   "metadata": {},
   "outputs": [
    {
     "name": "stdout",
     "output_type": "stream",
     "text": [
      "How many numbers do you want: 11\n",
      "Enter a number n: 555\n",
      "(555, [561, 569, 768, 573, 708])\n"
     ]
    }
   ],
   "source": [
    "import random\n",
    "def greater_num(n,list2):\n",
    "    mystring=[]\n",
    "    for lines in list2:\n",
    "        if lines > n:\n",
    "            mystring.append(lines)\n",
    "    return(n,mystring)\n",
    "\n",
    "def main():\n",
    "    num=int(input(\"How many numbers do you want: \"))\n",
    "    n=int(input(\"Enter a number n: \"))\n",
    "    list1=[]\n",
    "    for i in range (num):\n",
    "        list1.append(random.randint(1,1000))\n",
    "    print(greater_num(n,list1))\n",
    "    return\n",
    "\n",
    "main()"
   ]
  }
 ],
 "metadata": {
  "kernelspec": {
   "display_name": "Python 3",
   "language": "python",
   "name": "python3"
  },
  "language_info": {
   "codemirror_mode": {
    "name": "ipython",
    "version": 3
   },
   "file_extension": ".py",
   "mimetype": "text/x-python",
   "name": "python",
   "nbconvert_exporter": "python",
   "pygments_lexer": "ipython3",
   "version": "3.6.4"
  }
 },
 "nbformat": 4,
 "nbformat_minor": 2
}
