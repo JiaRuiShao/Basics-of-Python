{
 "cells": [
  {
   "cell_type": "markdown",
   "metadata": {},
   "source": [
    "**JiaRui Shao**"
   ]
  },
  {
   "cell_type": "markdown",
   "metadata": {},
   "source": [
    "Use this 311 data (this is from 11/26 12AM to 11/27 12AM). Please do not try to download the whole 311 dataset (that would be a lot of data). Instead just use the data I filtered and provided here.\n",
    "\n",
    "Display the frequency distribution of the top 10 complaint types (both as raw data and as a plot)."
   ]
  },
  {
   "cell_type": "code",
   "execution_count": 1,
   "metadata": {},
   "outputs": [],
   "source": [
    "import pandas\n",
    "import numpy\n",
    "import matplotlib.pyplot as plt"
   ]
  },
  {
   "cell_type": "code",
   "execution_count": 11,
   "metadata": {},
   "outputs": [],
   "source": [
    "import seaborn"
   ]
  },
  {
   "cell_type": "code",
   "execution_count": 3,
   "metadata": {},
   "outputs": [
    {
     "name": "stdout",
     "output_type": "stream",
     "text": [
      "481\n",
      "53\n"
     ]
    }
   ],
   "source": [
    "data=pandas.read_csv('311.csv', low_memory=False)\n",
    "print(len(data))\n",
    "print(len(data.columns))"
   ]
  },
  {
   "cell_type": "code",
   "execution_count": 4,
   "metadata": {},
   "outputs": [
    {
     "data": {
      "text/html": [
       "<div>\n",
       "<style scoped>\n",
       "    .dataframe tbody tr th:only-of-type {\n",
       "        vertical-align: middle;\n",
       "    }\n",
       "\n",
       "    .dataframe tbody tr th {\n",
       "        vertical-align: top;\n",
       "    }\n",
       "\n",
       "    .dataframe thead th {\n",
       "        text-align: right;\n",
       "    }\n",
       "</style>\n",
       "<table border=\"1\" class=\"dataframe\">\n",
       "  <thead>\n",
       "    <tr style=\"text-align: right;\">\n",
       "      <th></th>\n",
       "      <th>Unique Key</th>\n",
       "      <th>Created Date</th>\n",
       "      <th>Closed Date</th>\n",
       "      <th>Agency</th>\n",
       "      <th>Agency Name</th>\n",
       "      <th>Complaint Type</th>\n",
       "      <th>Descriptor</th>\n",
       "      <th>Location Type</th>\n",
       "      <th>Incident Zip</th>\n",
       "      <th>Incident Address</th>\n",
       "      <th>...</th>\n",
       "      <th>Bridge Highway Name</th>\n",
       "      <th>Bridge Highway Direction</th>\n",
       "      <th>Road Ramp</th>\n",
       "      <th>Bridge Highway Segment</th>\n",
       "      <th>Garage Lot Name</th>\n",
       "      <th>Ferry Direction</th>\n",
       "      <th>Ferry Terminal Name</th>\n",
       "      <th>Latitude</th>\n",
       "      <th>Longitude</th>\n",
       "      <th>Location</th>\n",
       "    </tr>\n",
       "  </thead>\n",
       "  <tbody>\n",
       "    <tr>\n",
       "      <th>0</th>\n",
       "      <td>37777723</td>\n",
       "      <td>11/26/2017 12:00:01 AM</td>\n",
       "      <td>NaN</td>\n",
       "      <td>NYPD</td>\n",
       "      <td>New York City Police Department</td>\n",
       "      <td>Derelict Vehicle</td>\n",
       "      <td>With License Plate</td>\n",
       "      <td>Street/Sidewalk</td>\n",
       "      <td>11423.0</td>\n",
       "      <td>188-36 87 DRIVE</td>\n",
       "      <td>...</td>\n",
       "      <td>NaN</td>\n",
       "      <td>NaN</td>\n",
       "      <td>NaN</td>\n",
       "      <td>NaN</td>\n",
       "      <td>NaN</td>\n",
       "      <td>NaN</td>\n",
       "      <td>NaN</td>\n",
       "      <td>40.715943</td>\n",
       "      <td>-73.773424</td>\n",
       "      <td>(40.71594280617094, -73.77342431359324)</td>\n",
       "    </tr>\n",
       "    <tr>\n",
       "      <th>1</th>\n",
       "      <td>37780103</td>\n",
       "      <td>11/26/2017 12:01:40 AM</td>\n",
       "      <td>NaN</td>\n",
       "      <td>CHALL</td>\n",
       "      <td>CHALL</td>\n",
       "      <td>Opinion for the Mayor</td>\n",
       "      <td>HOMELESS</td>\n",
       "      <td>NaN</td>\n",
       "      <td>NaN</td>\n",
       "      <td>NaN</td>\n",
       "      <td>...</td>\n",
       "      <td>NaN</td>\n",
       "      <td>NaN</td>\n",
       "      <td>NaN</td>\n",
       "      <td>1-1-1492152161</td>\n",
       "      <td>NaN</td>\n",
       "      <td>NaN</td>\n",
       "      <td>NaN</td>\n",
       "      <td>NaN</td>\n",
       "      <td>NaN</td>\n",
       "      <td>NaN</td>\n",
       "    </tr>\n",
       "    <tr>\n",
       "      <th>2</th>\n",
       "      <td>37780960</td>\n",
       "      <td>11/26/2017 12:01:41 AM</td>\n",
       "      <td>NaN</td>\n",
       "      <td>NYPD</td>\n",
       "      <td>New York City Police Department</td>\n",
       "      <td>Blocked Driveway</td>\n",
       "      <td>Partial Access</td>\n",
       "      <td>Street/Sidewalk</td>\n",
       "      <td>11429.0</td>\n",
       "      <td>219-10 104 AVENUE</td>\n",
       "      <td>...</td>\n",
       "      <td>NaN</td>\n",
       "      <td>NaN</td>\n",
       "      <td>NaN</td>\n",
       "      <td>NaN</td>\n",
       "      <td>NaN</td>\n",
       "      <td>NaN</td>\n",
       "      <td>NaN</td>\n",
       "      <td>40.711794</td>\n",
       "      <td>-73.735358</td>\n",
       "      <td>(40.7117938404706, -73.7353582163342)</td>\n",
       "    </tr>\n",
       "    <tr>\n",
       "      <th>3</th>\n",
       "      <td>37777917</td>\n",
       "      <td>11/26/2017 12:01:51 AM</td>\n",
       "      <td>11/26/2017 01:28:28 AM</td>\n",
       "      <td>NYPD</td>\n",
       "      <td>New York City Police Department</td>\n",
       "      <td>Noise - Street/Sidewalk</td>\n",
       "      <td>Loud Talking</td>\n",
       "      <td>Street/Sidewalk</td>\n",
       "      <td>10030.0</td>\n",
       "      <td>205 WEST 140 STREET</td>\n",
       "      <td>...</td>\n",
       "      <td>NaN</td>\n",
       "      <td>NaN</td>\n",
       "      <td>NaN</td>\n",
       "      <td>NaN</td>\n",
       "      <td>NaN</td>\n",
       "      <td>NaN</td>\n",
       "      <td>NaN</td>\n",
       "      <td>40.818719</td>\n",
       "      <td>-73.941955</td>\n",
       "      <td>(40.81871935683112, -73.94195537320263)</td>\n",
       "    </tr>\n",
       "    <tr>\n",
       "      <th>4</th>\n",
       "      <td>37782315</td>\n",
       "      <td>11/26/2017 12:01:53 AM</td>\n",
       "      <td>11/26/2017 12:52:29 AM</td>\n",
       "      <td>NYPD</td>\n",
       "      <td>New York City Police Department</td>\n",
       "      <td>Noise - Residential</td>\n",
       "      <td>Loud Music/Party</td>\n",
       "      <td>Residential Building/House</td>\n",
       "      <td>10455.0</td>\n",
       "      <td>702 EAGLE AVENUE</td>\n",
       "      <td>...</td>\n",
       "      <td>NaN</td>\n",
       "      <td>NaN</td>\n",
       "      <td>NaN</td>\n",
       "      <td>NaN</td>\n",
       "      <td>NaN</td>\n",
       "      <td>NaN</td>\n",
       "      <td>NaN</td>\n",
       "      <td>40.818002</td>\n",
       "      <td>-73.910148</td>\n",
       "      <td>(40.81800179923491, -73.91014848433313)</td>\n",
       "    </tr>\n",
       "  </tbody>\n",
       "</table>\n",
       "<p>5 rows × 53 columns</p>\n",
       "</div>"
      ],
      "text/plain": [
       "   Unique Key            Created Date             Closed Date Agency  \\\n",
       "0    37777723  11/26/2017 12:00:01 AM                     NaN   NYPD   \n",
       "1    37780103  11/26/2017 12:01:40 AM                     NaN  CHALL   \n",
       "2    37780960  11/26/2017 12:01:41 AM                     NaN   NYPD   \n",
       "3    37777917  11/26/2017 12:01:51 AM  11/26/2017 01:28:28 AM   NYPD   \n",
       "4    37782315  11/26/2017 12:01:53 AM  11/26/2017 12:52:29 AM   NYPD   \n",
       "\n",
       "                       Agency Name           Complaint Type  \\\n",
       "0  New York City Police Department         Derelict Vehicle   \n",
       "1                            CHALL    Opinion for the Mayor   \n",
       "2  New York City Police Department         Blocked Driveway   \n",
       "3  New York City Police Department  Noise - Street/Sidewalk   \n",
       "4  New York City Police Department      Noise - Residential   \n",
       "\n",
       "           Descriptor               Location Type  Incident Zip  \\\n",
       "0  With License Plate             Street/Sidewalk       11423.0   \n",
       "1            HOMELESS                         NaN           NaN   \n",
       "2      Partial Access             Street/Sidewalk       11429.0   \n",
       "3        Loud Talking             Street/Sidewalk       10030.0   \n",
       "4    Loud Music/Party  Residential Building/House       10455.0   \n",
       "\n",
       "      Incident Address                   ...                     \\\n",
       "0      188-36 87 DRIVE                   ...                      \n",
       "1                  NaN                   ...                      \n",
       "2    219-10 104 AVENUE                   ...                      \n",
       "3  205 WEST 140 STREET                   ...                      \n",
       "4     702 EAGLE AVENUE                   ...                      \n",
       "\n",
       "  Bridge Highway Name Bridge Highway Direction Road Ramp  \\\n",
       "0                 NaN                      NaN       NaN   \n",
       "1                 NaN                      NaN       NaN   \n",
       "2                 NaN                      NaN       NaN   \n",
       "3                 NaN                      NaN       NaN   \n",
       "4                 NaN                      NaN       NaN   \n",
       "\n",
       "  Bridge Highway Segment Garage Lot Name Ferry Direction Ferry Terminal Name  \\\n",
       "0                    NaN             NaN             NaN                 NaN   \n",
       "1         1-1-1492152161             NaN             NaN                 NaN   \n",
       "2                    NaN             NaN             NaN                 NaN   \n",
       "3                    NaN             NaN             NaN                 NaN   \n",
       "4                    NaN             NaN             NaN                 NaN   \n",
       "\n",
       "    Latitude  Longitude                                 Location  \n",
       "0  40.715943 -73.773424  (40.71594280617094, -73.77342431359324)  \n",
       "1        NaN        NaN                                      NaN  \n",
       "2  40.711794 -73.735358    (40.7117938404706, -73.7353582163342)  \n",
       "3  40.818719 -73.941955  (40.81871935683112, -73.94195537320263)  \n",
       "4  40.818002 -73.910148  (40.81800179923491, -73.91014848433313)  \n",
       "\n",
       "[5 rows x 53 columns]"
      ]
     },
     "execution_count": 4,
     "metadata": {},
     "output_type": "execute_result"
    }
   ],
   "source": [
    "data.head()"
   ]
  },
  {
   "cell_type": "code",
   "execution_count": 7,
   "metadata": {},
   "outputs": [
    {
     "data": {
      "text/html": [
       "<div>\n",
       "<style scoped>\n",
       "    .dataframe tbody tr th:only-of-type {\n",
       "        vertical-align: middle;\n",
       "    }\n",
       "\n",
       "    .dataframe tbody tr th {\n",
       "        vertical-align: top;\n",
       "    }\n",
       "\n",
       "    .dataframe thead th {\n",
       "        text-align: right;\n",
       "    }\n",
       "</style>\n",
       "<table border=\"1\" class=\"dataframe\">\n",
       "  <thead>\n",
       "    <tr style=\"text-align: right;\">\n",
       "      <th></th>\n",
       "      <th>Complaint Type</th>\n",
       "    </tr>\n",
       "  </thead>\n",
       "  <tbody>\n",
       "    <tr>\n",
       "      <th>0</th>\n",
       "      <td>Derelict Vehicle</td>\n",
       "    </tr>\n",
       "    <tr>\n",
       "      <th>1</th>\n",
       "      <td>Opinion for the Mayor</td>\n",
       "    </tr>\n",
       "    <tr>\n",
       "      <th>2</th>\n",
       "      <td>Blocked Driveway</td>\n",
       "    </tr>\n",
       "    <tr>\n",
       "      <th>3</th>\n",
       "      <td>Noise - Street/Sidewalk</td>\n",
       "    </tr>\n",
       "    <tr>\n",
       "      <th>4</th>\n",
       "      <td>Noise - Residential</td>\n",
       "    </tr>\n",
       "  </tbody>\n",
       "</table>\n",
       "</div>"
      ],
      "text/plain": [
       "            Complaint Type\n",
       "0         Derelict Vehicle\n",
       "1    Opinion for the Mayor\n",
       "2         Blocked Driveway\n",
       "3  Noise - Street/Sidewalk\n",
       "4      Noise - Residential"
      ]
     },
     "execution_count": 7,
     "metadata": {},
     "output_type": "execute_result"
    }
   ],
   "source": [
    "ComplaintType=pandas.DataFrame(data, columns=['Complaint Type'])\n",
    "ComplaintType.head()"
   ]
  },
  {
   "cell_type": "code",
   "execution_count": 25,
   "metadata": {},
   "outputs": [
    {
     "name": "stdout",
     "output_type": "stream",
     "text": [
      "Frequency Distribution:\n",
      "Noise - Residential                    253\n",
      "Noise - Commercial                      68\n",
      "Noise - Street/Sidewalk                 48\n",
      "Blocked Driveway                        31\n",
      "Illegal Parking                         21\n",
      "Noise - Vehicle                         12\n",
      "Request Large Bulky Item Collection      8\n",
      "Street Condition                         5\n",
      "Homeless Person Assistance               4\n",
      "Derelict Vehicle                         4\n",
      "Name: Complaint Type, dtype: int64\n"
     ]
    }
   ],
   "source": [
    "print('Frequency Distribution:',end='\\n')\n",
    "complaint_count = ComplaintType['Complaint Type'].value_counts()[:10] #Slicing to filter\n",
    "print(complaint_count)"
   ]
  },
  {
   "cell_type": "code",
   "execution_count": 30,
   "metadata": {},
   "outputs": [
    {
     "data": {
      "text/plain": [
       "[Text(0,0,'Noise - Residential'),\n",
       " Text(0,0,'Noise - Commercial'),\n",
       " Text(0,0,'Noise - Street/Sidewalk'),\n",
       " Text(0,0,'Blocked Driveway'),\n",
       " Text(0,0,'Illegal Parking'),\n",
       " Text(0,0,'Noise - Vehicle'),\n",
       " Text(0,0,'Request Large Bulky Item Collection'),\n",
       " Text(0,0,'Street Condition'),\n",
       " Text(0,0,'Homeless Person Assistance'),\n",
       " Text(0,0,'Derelict Vehicle')]"
      ]
     },
     "execution_count": 30,
     "metadata": {},
     "output_type": "execute_result"
    },
    {
     "data": {
      "image/png": "[encoded data removed]",
      "text/plain": [
       "<matplotlib.figure.Figure at 0x2468e4c6c18>"
      ]
     },
     "metadata": {},
     "output_type": "display_data"
    }
   ],
   "source": [
    "%matplotlib inline\n",
    "x=seaborn.countplot(x='Complaint Type',data=ComplaintType,order=ComplaintType['Complaint Type'].value_counts().iloc[:10].index)\n",
    "plt.xlabel(\"Complaint Type\")\n",
    "plt.title(\"Top 10 Complaint Types\")\n",
    "x.set_xticklabels(x.get_xticklabels(),rotation=90)"
   ]
  }
 ],
 "metadata": {
  "kernelspec": {
   "display_name": "Python 3",
   "language": "python",
   "name": "python3"
  },
  "language_info": {
   "codemirror_mode": {
    "name": "ipython",
    "version": 3
   },
   "file_extension": ".py",
   "mimetype": "text/x-python",
   "name": "python",
   "nbconvert_exporter": "python",
   "pygments_lexer": "ipython3",
   "version": "3.6.4"
  }
 },
 "nbformat": 4,
 "nbformat_minor": 2
}
