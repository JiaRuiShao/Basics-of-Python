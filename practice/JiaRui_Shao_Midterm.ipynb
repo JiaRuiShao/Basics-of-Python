{
 "cells": [
  {
   "cell_type": "markdown",
   "metadata": {},
   "source": [
    "JiaRui Shao"
   ]
  },
  {
   "cell_type": "markdown",
   "metadata": {},
   "source": [
    "Write code to get a number from the user and calculate the output as described below. If user enters 10, calculate ((1/2)+(2/3)+(3/4)+….+(10/11))2 = 3025. (10 points)"
   ]
  },
  {
   "cell_type": "code",
   "execution_count": 7,
   "metadata": {
    "collapsed": false
   },
   "outputs": [
    {
     "name": "stdout",
     "output_type": "stream",
     "text": [
      "Enter a number: 10\n",
      "63.68235759080186\n"
     ]
    }
   ],
   "source": [
    "def claculate(n):\n",
    "    total=0\n",
    "    for i in range (1,n+1):\n",
    "        total += i/(i+1)\n",
    "    return total**2\n",
    "\n",
    "def main():\n",
    "    n=int(input(\"Enter a number: \"))\n",
    "    print(claculate(n))\n",
    "    return\n",
    "\n",
    "main()"
   ]
  },
  {
   "cell_type": "markdown",
   "metadata": {},
   "source": [
    "Use scores.txt file provided to answer this question. Find and list all the odd numbers from that file. (10 points)\n"
   ]
  },
  {
   "cell_type": "code",
   "execution_count": 6,
   "metadata": {
    "collapsed": false
   },
   "outputs": [
    {
     "name": "stdout",
     "output_type": "stream",
     "text": [
      "C:\\Users\\j.shao2\n"
     ]
    }
   ],
   "source": [
    "import os\n",
    "print(os.getcwd())"
   ]
  },
  {
   "cell_type": "code",
   "execution_count": 22,
   "metadata": {
    "collapsed": false
   },
   "outputs": [
    {
     "name": "stdout",
     "output_type": "stream",
     "text": [
      "129\n",
      "125\n",
      "137\n",
      "129\n",
      "149\n",
      "131\n",
      "155\n",
      "177\n",
      "121\n",
      "151\n",
      "147\n",
      "161\n"
     ]
    }
   ],
   "source": [
    "infile=open('scores.txt','r')\n",
    "for i in infile:\n",
    "    if int(i)%2 != 0:\n",
    "        print(i,end='')\n",
    "infile.close()"
   ]
  },
  {
   "cell_type": "markdown",
   "metadata": {},
   "source": [
    "Ask the user for a number. Compute the sum of squares of the digits of that number. For example, if the user enters 428, compute 42+22+82. (20 points)"
   ]
  },
  {
   "cell_type": "code",
   "execution_count": 21,
   "metadata": {
    "collapsed": false
   },
   "outputs": [
    {
     "name": "stdout",
     "output_type": "stream",
     "text": [
      "Enter a number: 428\n",
      "84\n"
     ]
    }
   ],
   "source": [
    "def find_square(n):\n",
    "    mystring=str(n)\n",
    "    mylength=len(mystring)\n",
    "    total=0\n",
    "    for x in range (mylength):\n",
    "        total += int(mystring[x])**2\n",
    "    return total\n",
    "\n",
    "def main():\n",
    "    n=int(input(\"Enter a number: \"))\n",
    "    print(find_square(n))\n",
    "    return\n",
    "\n",
    "main()"
   ]
  },
  {
   "cell_type": "markdown",
   "metadata": {},
   "source": [
    "Find all perfect numbers under 1000.  (20 points)"
   ]
  },
  {
   "cell_type": "code",
   "execution_count": 24,
   "metadata": {
    "collapsed": false
   },
   "outputs": [
    {
     "name": "stdout",
     "output_type": "stream",
     "text": [
      "6 is a perfect number.\n",
      "28 is a perfect number.\n",
      "496 is a perfect number.\n"
     ]
    }
   ],
   "source": [
    "for n in range(1,1000):\n",
    "    total=0\n",
    "    for i in range(2,n+1):\n",
    "        if n%i == 0:\n",
    "            total += n/i\n",
    "    if total == n:\n",
    "        print(n,\"is a perfect number.\")"
   ]
  },
  {
   "cell_type": "markdown",
   "metadata": {},
   "source": [
    "Find all prime numbers under 1000 that are also palindromic. (40 points)"
   ]
  },
  {
   "cell_type": "code",
   "execution_count": 20,
   "metadata": {
    "collapsed": false
   },
   "outputs": [
    {
     "name": "stdout",
     "output_type": "stream",
     "text": [
      "2 is a palprime.\n",
      "3 is a palprime.\n",
      "5 is a palprime.\n",
      "7 is a palprime.\n",
      "11 is a palprime.\n",
      "101 is a palprime.\n",
      "131 is a palprime.\n",
      "151 is a palprime.\n",
      "181 is a palprime.\n",
      "191 is a palprime.\n",
      "313 is a palprime.\n",
      "353 is a palprime.\n",
      "373 is a palprime.\n",
      "383 is a palprime.\n",
      "727 is a palprime.\n",
      "757 is a palprime.\n",
      "787 is a palprime.\n",
      "797 is a palprime.\n",
      "919 is a palprime.\n",
      "929 is a palprime.\n"
     ]
    }
   ],
   "source": [
    "#find palindromic number\n",
    "for n in range(1,1000):\n",
    "    if str(n)==str(n)[::-1]:\n",
    "        #is palindromic number\n",
    "        #then find prime number\n",
    "        is_prime=True\n",
    "        if n < 2:\n",
    "            is_prime=False\n",
    "        elif n >= 2:\n",
    "            for i in range (2,n):\n",
    "                if n%i == 0:\n",
    "                    is_prime=False\n",
    "        if is_prime:\n",
    "            print(n,'is a palprime.')"
   ]
  }
 ],
 "metadata": {
  "kernelspec": {
   "display_name": "Python 3",
   "language": "python",
   "name": "python3"
  },
  "language_info": {
   "codemirror_mode": {
    "name": "ipython",
    "version": 3
   },
   "file_extension": ".py",
   "mimetype": "text/x-python",
   "name": "python",
   "nbconvert_exporter": "python",
   "pygments_lexer": "ipython3",
   "version": "3.6.0"
  }
 },
 "nbformat": 4,
 "nbformat_minor": 2
}
