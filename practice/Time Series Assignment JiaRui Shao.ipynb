{
 "cells": [
  {
   "cell_type": "markdown",
   "metadata": {},
   "source": [
    "### Time Series Assignment JiaRui Shao"
   ]
  },
  {
   "cell_type": "markdown",
   "metadata": {},
   "source": [
    "1. Please display current DateTime in the following format: 'Monday, November 04, 2019 17:10PM'\n",
    "\n",
    "2. Thanksgiving is coming up on November 28 this year.\n",
    "Till Thanksgiving, please display 'XX days till Thanksgiving' where xx is the actual number of days.\n",
    "On Thanksgiving, display 'Happy Thanksgiving!'.\n",
    "After Thanksgiving, display 'Winter holidays next'.\n",
    "\n",
    "Hint: it's an if statement\n",
    "\n",
    "3. Please generate the following visual - see attached. It has our lectures from now till Thanksgiving on x-axis and lecture / exam hours on y-axis. Please use the material covered in class to generate.  You should be able to create your index with the help of the date_range() function, do not hardcode the exact dates: Nov 4, Nov 6, Nov 11, etc."
   ]
  },
  {
   "cell_type": "code",
   "execution_count": 1,
   "metadata": {},
   "outputs": [
    {
     "data": {
      "text/plain": [
       "'Monday, November 04, 2019 21:19PM'"
      ]
     },
     "execution_count": 1,
     "metadata": {},
     "output_type": "execute_result"
    }
   ],
   "source": [
    "from datetime import datetime\n",
    "import pandas as pd\n",
    "\n",
    "now = datetime.now()\n",
    "now.strftime('%A, %B %d, %Y %H:%M%p')"
   ]
  },
  {
   "cell_type": "code",
   "execution_count": 2,
   "metadata": {},
   "outputs": [
    {
     "data": {
      "text/plain": [
       "23"
      ]
     },
     "execution_count": 2,
     "metadata": {},
     "output_type": "execute_result"
    }
   ],
   "source": [
    "delta = datetime(2019, 11, 28) - now\n",
    "days = delta.days\n",
    "days"
   ]
  },
  {
   "cell_type": "code",
   "execution_count": 3,
   "metadata": {},
   "outputs": [
    {
     "name": "stdout",
     "output_type": "stream",
     "text": [
      "23 days till Thanksgiving.\n"
     ]
    }
   ],
   "source": [
    "if days > 0:\n",
    "    print(days, \"days till Thanksgiving.\")\n",
    "elif days == 0:\n",
    "    print(\"Happy Thanksgiving!\")\n",
    "else:\n",
    "    print(\"Winter holidays next.\")"
   ]
  },
  {
   "cell_type": "code",
   "execution_count": 4,
   "metadata": {},
   "outputs": [
    {
     "data": {
      "text/plain": [
       "DatetimeIndex(['2019-11-04', '2019-11-05', '2019-11-06', '2019-11-07',\n",
       "               '2019-11-08', '2019-11-09', '2019-11-10', '2019-11-11',\n",
       "               '2019-11-12', '2019-11-13', '2019-11-14', '2019-11-15',\n",
       "               '2019-11-16', '2019-11-17', '2019-11-18', '2019-11-19',\n",
       "               '2019-11-20', '2019-11-21', '2019-11-22', '2019-11-23',\n",
       "               '2019-11-24', '2019-11-25', '2019-11-26', '2019-11-27',\n",
       "               '2019-11-28'],\n",
       "              dtype='datetime64[ns]', freq='D')"
      ]
     },
     "execution_count": 4,
     "metadata": {},
     "output_type": "execute_result"
    }
   ],
   "source": [
    "index = pd.date_range('2019-11-04', '2019-11-28')\n",
    "index"
   ]
  },
  {
   "cell_type": "code",
   "execution_count": 5,
   "metadata": {
    "scrolled": true
   },
   "outputs": [
    {
     "data": {
      "text/plain": [
       "2019-11-04    75.0\n",
       "2019-11-05    75.0\n",
       "2019-11-06    50.0\n",
       "2019-11-07    75.0\n",
       "2019-11-08    75.0\n",
       "2019-11-09    75.0\n",
       "2019-11-10    75.0\n",
       "2019-11-11    75.0\n",
       "2019-11-12    75.0\n",
       "2019-11-13    75.0\n",
       "2019-11-14    75.0\n",
       "2019-11-15    75.0\n",
       "2019-11-16    75.0\n",
       "2019-11-17    75.0\n",
       "2019-11-18    75.0\n",
       "2019-11-19    75.0\n",
       "2019-11-20    75.0\n",
       "2019-11-21    75.0\n",
       "2019-11-22    75.0\n",
       "2019-11-23    75.0\n",
       "2019-11-24    75.0\n",
       "2019-11-25    75.0\n",
       "2019-11-26    75.0\n",
       "2019-11-27    75.0\n",
       "2019-11-28    75.0\n",
       "Freq: D, dtype: float64"
      ]
     },
     "execution_count": 5,
     "metadata": {},
     "output_type": "execute_result"
    }
   ],
   "source": [
    "import numpy as np\n",
    "\n",
    "array =  np.empty(days+2)\n",
    "array.fill(75)\n",
    "\n",
    "ts = pd.Series(array, index)\n",
    "ts['2019-11-06'] = 50\n",
    "ts"
   ]
  },
  {
   "cell_type": "code",
   "execution_count": 7,
   "metadata": {},
   "outputs": [
    {
     "data": {
      "image/png": "[encoded data removed]",
      "text/plain": [
       "<matplotlib.figure.Figure at 0x27531ed27f0>"
      ]
     },
     "metadata": {},
     "output_type": "display_data"
    }
   ],
   "source": [
    "import matplotlib.pyplot as plt\n",
    "\n",
    "fig, ax = plt.subplots(figsize=(6, 4))\n",
    "ax.plot(ts)\n",
    "\n",
    "ax.tick_params(axis='x', rotation=30)\n",
    "ax.set_title('My Fall Semester')\n",
    "ax.set_xlabel('My Calendar')\n",
    "ax.set_ylabel('Lecture / Exam hours')\n",
    "\n",
    "plt.show()"
   ]
  }
 ],
 "metadata": {
  "kernelspec": {
   "display_name": "Python 3",
   "language": "python",
   "name": "python3"
  },
  "language_info": {
   "codemirror_mode": {
    "name": "ipython",
    "version": 3
   },
   "file_extension": ".py",
   "mimetype": "text/x-python",
   "name": "python",
   "nbconvert_exporter": "python",
   "pygments_lexer": "ipython3",
   "version": "3.6.4"
  }
 },
 "nbformat": 4,
 "nbformat_minor": 2
}
