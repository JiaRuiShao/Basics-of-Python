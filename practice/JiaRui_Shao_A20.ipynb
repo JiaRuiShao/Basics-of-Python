{
 "cells": [
  {
   "cell_type": "code",
   "execution_count": 12,
   "metadata": {},
   "outputs": [
    {
     "name": "stdout",
     "output_type": "stream",
     "text": [
      "Enter a string: name%%%\n",
      "The number of vowels in the string is 2\n",
      "The number of consonants in the string is 2\n"
     ]
    },
    {
     "data": {
      "text/plain": [
       "'name%%%'"
      ]
     },
     "execution_count": 12,
     "metadata": {},
     "output_type": "execute_result"
    }
   ],
   "source": [
    "def test_vowel_num(s):\n",
    "    count_vowel=0\n",
    "    vowels='aeiou'\n",
    "    for a in s:\n",
    "        if a.lower() in vowels:\n",
    "            if a.isalpha():\n",
    "                count_vowel += 1\n",
    "    return count_vowel\n",
    "\n",
    "def test_consonant_num(s):\n",
    "    count_consonant=0\n",
    "    vowels='aeiou'\n",
    "    for b in s:\n",
    "        if b.lower() not in vowels:\n",
    "            if b.isalpha():\n",
    "                count_consonant += 1\n",
    "    return count_consonant\n",
    "\n",
    "def main():\n",
    "    string=input(\"Enter a string: \")\n",
    "    print(\"The number of vowels in the string is\",test_vowel_num(string))\n",
    "    print(\"The number of consonants in the string is\",test_consonant_num(string))\n",
    "    return(string)\n",
    "\n",
    "main()"
   ]
  }
 ],
 "metadata": {
  "kernelspec": {
   "display_name": "Python 3",
   "language": "python",
   "name": "python3"
  },
  "language_info": {
   "codemirror_mode": {
    "name": "ipython",
    "version": 3
   },
   "file_extension": ".py",
   "mimetype": "text/x-python",
   "name": "python",
   "nbconvert_exporter": "python",
   "pygments_lexer": "ipython3",
   "version": "3.6.3"
  }
 },
 "nbformat": 4,
 "nbformat_minor": 2
}
