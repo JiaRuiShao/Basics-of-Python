{
 "cells": [
  {
   "cell_type": "markdown",
   "metadata": {},
   "source": [
    "Names.txt has a list of names. Names_copy.txt has a list of names with some names repeating. Create a new file called namesWithCount.txt that has the list of names along with a count of how many times each name appears in the names_copy.txt. "
   ]
  },
  {
   "cell_type": "code",
   "execution_count": 3,
   "metadata": {
    "collapsed": true
   },
   "outputs": [],
   "source": [
    "#count is 0\n",
    "def count_name():\n",
    "    infile=open(\"names_copy.txt\",'r')\n",
    "    file=open(\"namesWithCount\",'w')\n",
    "    \n",
    "    newfile=[]\n",
    "    for line in infile:\n",
    "        if line not in newfile:\n",
    "            newfile.append(line)\n",
    "    \n",
    "    for lines in newfile:\n",
    "        count=0\n",
    "        for i in infile:\n",
    "            #print(i)      #can't print i???\n",
    "            if i == lines:\n",
    "                count+=1\n",
    "        string=lines + \" \" + str(count)\n",
    "        #print(string)\n",
    "        file.write(string)\n",
    "    \n",
    "    infile.close()\n",
    "    file.close()\n",
    "    return\n",
    "\n",
    "count_name()"
   ]
  }
 ],
 "metadata": {
  "kernelspec": {
   "display_name": "Python 3",
   "language": "python",
   "name": "python3"
  },
  "language_info": {
   "codemirror_mode": {
    "name": "ipython",
    "version": 3
   },
   "file_extension": ".py",
   "mimetype": "text/x-python",
   "name": "python",
   "nbconvert_exporter": "python",
   "pygments_lexer": "ipython3",
   "version": "3.6.3"
  }
 },
 "nbformat": 4,
 "nbformat_minor": 2
}
