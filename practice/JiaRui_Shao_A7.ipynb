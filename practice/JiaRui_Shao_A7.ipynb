{
 "cells": [
  {
   "cell_type": "markdown",
   "metadata": {},
   "source": [
    "TASK\n",
    "Last month Joe purchased some stock in Acme Software, Inc. Here are the details of the purchase:\n",
    "The number of shares that Joe purchased was 2,000.\n",
    "When Joe purchased the stock, he paid $40.00 per share.\n",
    "Joe paid his stockbroker a commission that amounted to 3 percent of the amount he paid for the stock.\n",
    "Two weeks later Joe sold the stock. Here are the details of the sale:\n",
    "The number of shares that Joe sold was 2,000.\n",
    "He sold the stock for $42.75 per share.\n",
    "He paid his stockbroker another commission that amounted to 3 percent of the amount\n",
    "he received for the stock.\n",
    "Write a program that displays the following information:\n",
    "The amount of money Joe paid for the stock.\n",
    "The amount of commission Joe paid his broker when he bought the stock.\n",
    "The amount that Joe sold the stock for.\n",
    "The amount of commission Joe paid his broker when he sold the stock.\n",
    "Display the amount of money that Joe had left when he sold the stock and paid his\n",
    "broker (both times)."
   ]
  },
  {
   "cell_type": "code",
   "execution_count": 18,
   "metadata": {},
   "outputs": [
    {
     "name": "stdout",
     "output_type": "stream",
     "text": [
      "80,000\n",
      "2,400\n",
      "85,500\n",
      "2,565\n",
      "535\n"
     ]
    }
   ],
   "source": [
    "paid_stock=2000*40\n",
    "print(format(paid_stock,',d'))\n",
    "paid_commission_buy=paid_stock*0.03\n",
    "print(format(int(paid_commission_buy),',d'))\n",
    "sold_stock=2000*42.75\n",
    "print(format(int(sold_stock),',d'))\n",
    "sold_commission=sold_stock*0.03\n",
    "print(format(int(sold_commission),',d'))\n",
    "earned=sold_stock-paid_stock-paid_commission_buy-sold_commission\n",
    "print(format(int(earned),',d'))\n",
    "#or it can be ,format(xxx,.2f)"
   ]
  },
  {
   "cell_type": "code",
   "execution_count": null,
   "metadata": {
    "collapsed": true
   },
   "outputs": [],
   "source": []
  },
  {
   "cell_type": "code",
   "execution_count": null,
   "metadata": {
    "collapsed": true
   },
   "outputs": [],
   "source": []
  },
  {
   "cell_type": "code",
   "execution_count": null,
   "metadata": {
    "collapsed": true
   },
   "outputs": [],
   "source": []
  },
  {
   "cell_type": "code",
   "execution_count": null,
   "metadata": {
    "collapsed": true
   },
   "outputs": [],
   "source": []
  },
  {
   "cell_type": "code",
   "execution_count": null,
   "metadata": {
    "collapsed": true
   },
   "outputs": [],
   "source": []
  },
  {
   "cell_type": "code",
   "execution_count": null,
   "metadata": {
    "collapsed": true
   },
   "outputs": [],
   "source": []
  },
  {
   "cell_type": "code",
   "execution_count": null,
   "metadata": {
    "collapsed": true
   },
   "outputs": [],
   "source": []
  },
  {
   "cell_type": "code",
   "execution_count": null,
   "metadata": {
    "collapsed": true
   },
   "outputs": [],
   "source": []
  },
  {
   "cell_type": "code",
   "execution_count": null,
   "metadata": {
    "collapsed": true
   },
   "outputs": [],
   "source": []
  },
  {
   "cell_type": "code",
   "execution_count": null,
   "metadata": {
    "collapsed": true
   },
   "outputs": [],
   "source": []
  },
  {
   "cell_type": "code",
   "execution_count": null,
   "metadata": {
    "collapsed": true
   },
   "outputs": [],
   "source": []
  },
  {
   "cell_type": "code",
   "execution_count": null,
   "metadata": {
    "collapsed": true
   },
   "outputs": [],
   "source": []
  },
  {
   "cell_type": "code",
   "execution_count": null,
   "metadata": {
    "collapsed": true
   },
   "outputs": [],
   "source": []
  },
  {
   "cell_type": "code",
   "execution_count": null,
   "metadata": {
    "collapsed": true
   },
   "outputs": [],
   "source": []
  },
  {
   "cell_type": "code",
   "execution_count": null,
   "metadata": {
    "collapsed": true
   },
   "outputs": [],
   "source": []
  },
  {
   "cell_type": "code",
   "execution_count": null,
   "metadata": {
    "collapsed": true
   },
   "outputs": [],
   "source": []
  }
 ],
 "metadata": {
  "kernelspec": {
   "display_name": "Python 3",
   "language": "python",
   "name": "python3"
  },
  "language_info": {
   "codemirror_mode": {
    "name": "ipython",
    "version": 3
   },
   "file_extension": ".py",
   "mimetype": "text/x-python",
   "name": "python",
   "nbconvert_exporter": "python",
   "pygments_lexer": "ipython3",
   "version": "3.6.3"
  }
 },
 "nbformat": 4,
 "nbformat_minor": 2
}
