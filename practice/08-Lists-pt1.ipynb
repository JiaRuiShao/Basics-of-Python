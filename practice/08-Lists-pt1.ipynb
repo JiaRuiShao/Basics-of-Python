{
 "cells": [
  {
   "cell_type": "markdown",
   "metadata": {},
   "source": [
    "#### Lists\n",
    "##### Agenda\n",
    "What are Lists?<br>\n",
    "Strings Vs. Lists<br>\n",
    "Creating, Indexing and Slicing Lists <br>\n",
    "List Methods <br>\n",
    "Other List Operations <hr>"
   ]
  },
  {
   "cell_type": "markdown",
   "metadata": {
    "collapsed": true
   },
   "source": [
    "A List is a sequence that can hold different types of data. <br>\n",
    "A String is also a sequence, but it holds only one type of data - characters!<br>\n",
    "Unlike strings, lists are mutable <br>\n",
    "Be careful about mutating lists as well as using the List Methods (unintended consequences; more on this later) <br>"
   ]
  },
  {
   "cell_type": "code",
   "execution_count": null,
   "metadata": {},
   "outputs": [],
   "source": [
    "numbers=[1,2,3]\n",
    "print(numbers)\n",
    "print(type(numbers))"
   ]
  },
  {
   "cell_type": "code",
   "execution_count": null,
   "metadata": {},
   "outputs": [],
   "source": [
    "my_list=[]\n",
    "movies=['Big Lebowski', 'State and Main']\n",
    "print (my_list, movies, sep='\\n')"
   ]
  },
  {
   "cell_type": "code",
   "execution_count": null,
   "metadata": {},
   "outputs": [],
   "source": [
    "my_list+=movies\n",
    "print(my_list)"
   ]
  },
  {
   "cell_type": "code",
   "execution_count": null,
   "metadata": {},
   "outputs": [],
   "source": [
    "my_list+=numbers\n",
    "print(my_list)\n",
    "print(my_list[0])\n",
    "\n",
    "# indexing and slicing lists\n",
    "# Grab  second element (index 1) and everything past it\n",
    "# Grab everything upto the 4th element"
   ]
  },
  {
   "cell_type": "code",
   "execution_count": null,
   "metadata": {},
   "outputs": [],
   "source": [
    "# accessing items of a list\n",
    "for item in movies:\n",
    "    print (item)"
   ]
  },
  {
   "cell_type": "markdown",
   "metadata": {},
   "source": [
    "##### Exercise: \n",
    "1) Take a positive integer as an input from the user; construct a list of numbers upto n. <br>\n",
    "2) Write piece of iterative code to mutiply the elements of a given list by 10 (assume that the list already exists).<br>"
   ]
  },
  {
   "cell_type": "code",
   "execution_count": null,
   "metadata": {},
   "outputs": [],
   "source": [
    "# Strings and Lists; Mutability; Index out of Range...\n",
    "s='cheese'\n",
    "print (s[0])\n",
    "# s[0]=k  is not a valid statement as strings are immutable"
   ]
  },
  {
   "cell_type": "code",
   "execution_count": null,
   "metadata": {},
   "outputs": [],
   "source": [
    "# Strings and Lists; Mutability; Index out of Range...\n",
    "numbers=[1,2,3]\n",
    "print(numbers[1])\n",
    "numbers[1]=20\n",
    "print(numbers)\n",
    "\n",
    "# making copies of lists (especially if changing the values in the list) - see more below\n",
    "# change the last two items in the list above"
   ]
  },
  {
   "cell_type": "code",
   "execution_count": null,
   "metadata": {},
   "outputs": [],
   "source": [
    "# Type Conversion\n",
    "\n",
    "cheese='brie'\n",
    "ch=list(cheese)\n",
    "print (cheese, ch)"
   ]
  },
  {
   "cell_type": "code",
   "execution_count": null,
   "metadata": {},
   "outputs": [],
   "source": [
    "# More on Lists and Strings\n",
    "\n",
    "movie=\" The Big Lebowski \"\n",
    "words=movie.split()\n",
    "print (words)"
   ]
  },
  {
   "cell_type": "code",
   "execution_count": null,
   "metadata": {},
   "outputs": [],
   "source": [
    "delim='*'  #Empty string as delimiter\n",
    "mov=delim.join(words)\n",
    "print(mov)"
   ]
  },
  {
   "cell_type": "code",
   "execution_count": null,
   "metadata": {},
   "outputs": [],
   "source": [
    "# List Methods: append, extend\n",
    "# return values of list methods\n",
    "\n",
    "x=[1,2,3]\n",
    "x.append(4) # add the data object at the end of the list;\n",
    "print (x)\n",
    "\n",
    "z=[4,5,6,5]\n",
    "x.extend(z) # add elements of the list z at the end\n",
    "print (x)\n",
    "\n",
    "# please note that both methods return none type; \n",
    "# if you write y=x.append(4), y will be assigned None.\n",
    "# try x.append([4, 5]); x.extend([4, 5]); "
   ]
  },
  {
   "cell_type": "code",
   "execution_count": null,
   "metadata": {},
   "outputs": [],
   "source": [
    "x.append([8,5,3])\n",
    "print(x)"
   ]
  },
  {
   "cell_type": "code",
   "execution_count": null,
   "metadata": {},
   "outputs": [],
   "source": [
    "# List Methods: pop, remove; Also del operator\n",
    "\n",
    "x=[1,2,3,4,5,6]\n",
    "y=x.pop(1)    # The popped element at index position 1 will be assigned to y\n",
    "print (x, y, sep=\"\\n\") "
   ]
  },
  {
   "cell_type": "code",
   "execution_count": null,
   "metadata": {},
   "outputs": [],
   "source": [
    "x=[1,2,3,4,5,6]\n",
    "del x[3]\n",
    "print(x)"
   ]
  },
  {
   "cell_type": "code",
   "execution_count": null,
   "metadata": {},
   "outputs": [],
   "source": [
    "x=[1,2,3,4,5,6]\n",
    "del x[3:]\n",
    "print(x)"
   ]
  },
  {
   "cell_type": "code",
   "execution_count": null,
   "metadata": {},
   "outputs": [],
   "source": [
    "x=[1,2,3,4,5,6,3]\n",
    "x.remove(3)  \n",
    "print(x)\n",
    "x.remove(3) \n",
    "print(x)"
   ]
  },
  {
   "cell_type": "code",
   "execution_count": null,
   "metadata": {},
   "outputs": [],
   "source": [
    "x=['JOHN','JANE','jOE','Kumar']\n",
    "del x[3]\n",
    "print(x)"
   ]
  },
  {
   "cell_type": "code",
   "execution_count": null,
   "metadata": {},
   "outputs": [],
   "source": [
    "# List Methods: Sort, Count\n",
    "\n",
    "x=[4, 3, 5, 2, 6, 1,2]\n",
    "x.sort()  # sorts the elements in a list\n",
    "print(x)\n",
    "\n",
    "a=x.count(2)  # How many times is the item 2 in the list?\n",
    "print (a)"
   ]
  },
  {
   "cell_type": "code",
   "execution_count": null,
   "metadata": {},
   "outputs": [],
   "source": [
    "y=['beta','alpha','gamma']\n",
    "print(y)\n",
    "y.sort()\n",
    "print(y)"
   ]
  },
  {
   "cell_type": "code",
   "execution_count": null,
   "metadata": {},
   "outputs": [],
   "source": [
    "# List Methods: index, insert\n",
    "\n",
    "x=[4, 3, 5, 2, 6, 5, 1]\n",
    "b=x.index(5)  # Find index of first item 5 in the list\n",
    "print (b)\n",
    "\n",
    "x.insert(2,'inserted')  # Insert 'inserted' at index position 2\n",
    "print (x)\n",
    "\n",
    "x.reverse()\n",
    "print(x)"
   ]
  },
  {
   "cell_type": "code",
   "execution_count": null,
   "metadata": {},
   "outputs": [],
   "source": [
    "# Lists Built-in Functions: Len, max, min, sum\n",
    "\n",
    "x=[100,121,22,43]\n",
    "y=len(x) # max, min and sum can be used on the list to perform operations\n",
    "z=max(x)\n",
    "print (x, y, z, sep=\"\\n\")"
   ]
  },
  {
   "cell_type": "code",
   "execution_count": null,
   "metadata": {},
   "outputs": [],
   "source": [
    "# Construct a list with names of three favorite movies\n",
    "\n",
    "listNames = []\n",
    "count=0\n",
    "while count < 3:\n",
    "    listNames.append(input(\"Enter a name: \"))\n",
    "    count += 1\n",
    "print(listNames)\n"
   ]
  },
  {
   "cell_type": "markdown",
   "metadata": {},
   "source": [
    "##### Exercise: \n",
    "Take a positive integer as an input from the user; construct a list containing n elements (all numbers) with user input. <br> \n",
    "Modify the program to compute average of numbers in the list.<br>"
   ]
  },
  {
   "cell_type": "code",
   "execution_count": null,
   "metadata": {},
   "outputs": [],
   "source": [
    "# List Comprehension\n",
    "\n",
    "lis = [x**2 for x in range(5)]\n",
    "print(lis)"
   ]
  },
  {
   "cell_type": "code",
   "execution_count": null,
   "metadata": {},
   "outputs": [],
   "source": [
    "# List Comprehension\n",
    "\n",
    "lis1 = [x*10 for x in lis]\n",
    "print(lis1)"
   ]
  },
  {
   "cell_type": "code",
   "execution_count": null,
   "metadata": {},
   "outputs": [],
   "source": [
    "# List Comprehension syntax: \n",
    "# lis = [expression, for loop in list, condition (optional)]\n",
    "\n",
    "lis2 = [x*10 for x in lis if x==9]\n",
    "print(lis2)\n",
    "print(lis)"
   ]
  },
  {
   "cell_type": "code",
   "execution_count": null,
   "metadata": {},
   "outputs": [],
   "source": [
    "lst = [ x**2 for x in [x**2 for x in range(11)]]\n",
    "print(lst)"
   ]
  },
  {
   "cell_type": "code",
   "execution_count": null,
   "metadata": {},
   "outputs": [],
   "source": [
    "lis = [4,6,8,9,10]\n",
    "\n",
    "for index, value in enumerate(lis):\n",
    "    print(index, value)"
   ]
  },
  {
   "cell_type": "code",
   "execution_count": null,
   "metadata": {},
   "outputs": [],
   "source": [
    "lis=['john','jane','ram']\n",
    "for index, value in enumerate(lis):\n",
    "    print(index,value)"
   ]
  },
  {
   "cell_type": "code",
   "execution_count": null,
   "metadata": {},
   "outputs": [],
   "source": [
    "# use enumerate to generate both the index and the value associated with it\n",
    "\n",
    "lis = [1, 2, 3, 4, 5]\n",
    "\n",
    "for index, value in enumerate(lis):\n",
    "    lis[index] = value**2\n",
    "\n",
    "print(lis) "
   ]
  },
  {
   "cell_type": "code",
   "execution_count": null,
   "metadata": {
    "collapsed": true
   },
   "outputs": [],
   "source": []
  }
 ],
 "metadata": {
  "kernelspec": {
   "display_name": "Python 3",
   "language": "python",
   "name": "python3"
  },
  "language_info": {
   "codemirror_mode": {
    "name": "ipython",
    "version": 3
   },
   "file_extension": ".py",
   "mimetype": "text/x-python",
   "name": "python",
   "nbconvert_exporter": "python",
   "pygments_lexer": "ipython3",
   "version": "3.6.3"
  }
 },
 "nbformat": 4,
 "nbformat_minor": 1
}
