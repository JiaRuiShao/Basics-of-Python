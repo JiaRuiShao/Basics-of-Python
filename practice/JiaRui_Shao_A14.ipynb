{
 "cells": [
  {
   "cell_type": "markdown",
   "metadata": {},
   "source": [
    "Write a function (and call it isPrime) that receives a number as a parameter and checks if the number if prime or not. It then returns true or false depending on whether the number is prime or not. Create a main function. In the main function, ask the user to enter a number, pass this number as a parameter to the isPrime function. Then display the outcome."
   ]
  },
  {
   "cell_type": "code",
   "execution_count": 8,
   "metadata": {},
   "outputs": [
    {
     "name": "stdout",
     "output_type": "stream",
     "text": [
      "Enter a number: 31\n",
      "31 is a prime\n"
     ]
    }
   ],
   "source": [
    "def is_prime(number):\n",
    "    prime=True\n",
    "    if number<=1:\n",
    "        prime=False\n",
    "    elif number>1:\n",
    "        for i in range (2,number):\n",
    "            if number%i==0:\n",
    "                prime=False\n",
    "    if prime:\n",
    "        print(number,\"is a prime\")\n",
    "    if prime==False:\n",
    "        print(number,\"is not a prime\")\n",
    "def main():\n",
    "    number=int(input(\"Enter a number: \"))\n",
    "    is_prime(number)\n",
    "\n",
    "main()"
   ]
  }
 ],
 "metadata": {
  "kernelspec": {
   "display_name": "Python 3",
   "language": "python",
   "name": "python3"
  },
  "language_info": {
   "codemirror_mode": {
    "name": "ipython",
    "version": 3
   },
   "file_extension": ".py",
   "mimetype": "text/x-python",
   "name": "python",
   "nbconvert_exporter": "python",
   "pygments_lexer": "ipython3",
   "version": "3.6.3"
  }
 },
 "nbformat": 4,
 "nbformat_minor": 2
}
