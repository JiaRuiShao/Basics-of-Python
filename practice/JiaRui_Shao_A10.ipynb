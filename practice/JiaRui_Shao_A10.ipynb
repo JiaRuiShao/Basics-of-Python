{
 "cells": [
  {
   "attachments": {},
   "cell_type": "markdown",
   "metadata": {},
   "source": [
    "A software company sells a package that retails for $99. Quantity discounts are given according to the following table:\n",
    "Quantity    Discount\n",
    "10-19       10%\n",
    "20-49       20%\n",
    "50-99       30%\n",
    "100 or more 40%\n",
    "\n",
    "Write a program that asks the user to enter the number of packages purchased. The program should then display the amount of the discount (if any) and the total amount of the purchase after the discount."
   ]
  },
  {
   "cell_type": "code",
   "execution_count": 1,
   "metadata": {},
   "outputs": [
    {
     "name": "stdout",
     "output_type": "stream",
     "text": [
      "the amount you want to purchase: 11\n",
      "Discount: 108.9\n",
      "Purchase amount: 980.1\n"
     ]
    }
   ],
   "source": [
    "number=int(input(\"the amount you want to purchase: \"))\n",
    "if number < 0:\n",
    "    print(\"error\")\n",
    "elif 0 <= number < 10:\n",
    "    discount=0\n",
    "elif 10 <= number < 20:\n",
    "    discount=0.1*number*99\n",
    "elif 20 <= number < 50:\n",
    "    discount=0.2*number*99\n",
    "elif 50 <= number < 100:\n",
    "    discount=0.3*number*99\n",
    "else:\n",
    "    discount=0.4*number*99\n",
    "purchase_amount=number*99-discount\n",
    "print(\"Discount:\",discount)\n",
    "print(\"Purchase amount:\",purchase_amount)"
   ]
  }
 ],
 "metadata": {
  "kernelspec": {
   "display_name": "Python 3",
   "language": "python",
   "name": "python3"
  },
  "language_info": {
   "codemirror_mode": {
    "name": "ipython",
    "version": 3
   },
   "file_extension": ".py",
   "mimetype": "text/x-python",
   "name": "python",
   "nbconvert_exporter": "python",
   "pygments_lexer": "ipython3",
   "version": "3.6.3"
  }
 },
 "nbformat": 4,
 "nbformat_minor": 2
}
