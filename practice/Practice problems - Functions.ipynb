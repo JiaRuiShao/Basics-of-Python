{
 "cells": [
  {
   "cell_type": "markdown",
   "metadata": {},
   "source": [
    "Kilometer Converter \n",
    "Write a program that asks the user to enter a distance in kilometers, and then converts that distance to miles. The conversion formula is as follows: Miles =Kilometers * 0.6214 "
   ]
  },
  {
   "cell_type": "code",
   "execution_count": 6,
   "metadata": {},
   "outputs": [
    {
     "name": "stdout",
     "output_type": "stream",
     "text": [
      "Enter the distance in kilometers: 34\n",
      "21.127599999999997\n"
     ]
    }
   ],
   "source": [
    "def km_to_mile(km):\n",
    "    mile=km*0.6214\n",
    "    print(mile)\n",
    "    \n",
    "def main():\n",
    "    km=float(input(\"Enter the distance in kilometers: \"))\n",
    "    km_to_mile(km)\n",
    "\n",
    "main()"
   ]
  },
  {
   "cell_type": "markdown",
   "metadata": {},
   "source": [
    "Property Tax \n",
    "\n",
    "A county collects property taxes on the assessment value of property, which is 60 percent of the property’s actual value. For example, if an acre of land is valued at $10,000, its assessment value is $6,000. The property tax is then 72¢ for each $100 of the assessment value. The tax for the acre assessed at $6,000 will be $43.20. Write a program that asks for the actual value of a piece of property and displays the assessment value and property tax. "
   ]
  },
  {
   "cell_type": "code",
   "execution_count": 9,
   "metadata": {},
   "outputs": [
    {
     "name": "stdout",
     "output_type": "stream",
     "text": [
      "Enter the value of a property: 1000\n"
     ]
    },
    {
     "data": {
      "text/plain": [
       "4.32"
      ]
     },
     "execution_count": 9,
     "metadata": {},
     "output_type": "execute_result"
    }
   ],
   "source": [
    "#How to connect the value variable between two function group?\n",
    "def calculate_tax():\n",
    "    value=float(input(\"Enter the value of a property: \"))\n",
    "    assessment_value=0.6*value\n",
    "    tax=assessment_value*0.72/100\n",
    "    return tax\n",
    "\n",
    "calculate_tax()"
   ]
  },
  {
   "cell_type": "markdown",
   "metadata": {},
   "source": [
    "Feet to Inches\n",
    "\n",
    "One foot equals 12 inches. Write a function named feet_to_inches that accepts a number of feet as an argument and returns the number of inches in that many feet. Use the function in a program that prompts the user to enter a number of feet and then displays the number of inches in that many feet. "
   ]
  },
  {
   "cell_type": "code",
   "execution_count": 10,
   "metadata": {},
   "outputs": [
    {
     "name": "stdout",
     "output_type": "stream",
     "text": [
      "Enter the feet number: 40\n"
     ]
    },
    {
     "data": {
      "text/plain": [
       "480.0"
      ]
     },
     "execution_count": 10,
     "metadata": {},
     "output_type": "execute_result"
    }
   ],
   "source": [
    "def feet_to_inches():\n",
    "    #get the feet\n",
    "    feet_num=float(input(\"Enter the feet number: \"))\n",
    "    #covert feet to inch\n",
    "    inch=feet_num*12\n",
    "    return inch\n",
    "\n",
    "feet_to_inches()"
   ]
  },
  {
   "cell_type": "markdown",
   "metadata": {},
   "source": [
    "Math Quiz \n",
    "\n",
    "Write a program that gives simple math quizzes. The program should display two random numbers that are to be added, such as: \n",
    "247 + 129 \n",
    "\n",
    "The program should allow the student to enter the answer. If the answer is correct, a message of congratulations should be displayed. If the answer is incorrect, a message showing the correct answer should be displayed. "
   ]
  },
  {
   "cell_type": "code",
   "execution_count": 18,
   "metadata": {},
   "outputs": [
    {
     "name": "stdout",
     "output_type": "stream",
     "text": [
      "265\n",
      "855\n",
      "Enter the numer that equals to number1 add number2: 1120\n",
      "Congratulations! Your answer is right!\n"
     ]
    }
   ],
   "source": [
    "import random\n",
    "def math_quiz():\n",
    "    num1=random.randint(1,1000)\n",
    "    print(num1)\n",
    "    num2=random.randint(1,1000)\n",
    "    print(num2)\n",
    "    summary=num1+num2\n",
    "    answer=int(input(\"Enter the numer that equals to number1 add number2: \"))\n",
    "    if answer==summary:\n",
    "        print(\"Congratulations! Your answer is right!\")\n",
    "    if answer!=summary:\n",
    "        print(\"Sorry, Your answer is wrong.\")\n",
    "    return\n",
    "\n",
    "math_quiz()"
   ]
  },
  {
   "cell_type": "markdown",
   "metadata": {},
   "source": [
    "Kinetic Energy \n",
    "\n",
    "An object that is in motion is said to have kinetic energy. The following formula can be used to determine a moving object’s kinetic energy: \n",
    "KE=1/2 MV**2\n",
    "\n",
    "The variables in the formula are as follows: \n",
    "KE is the kinetic energy, \n",
    "m is the object’s mass in kilograms, and \n",
    "v is the object’s velocity in meters per second. \n",
    "Write a function named kinetic_energy that accepts an object’s mass (in kilograms) and velocity (in meters per second) as arguments. The function should return the amount of kinetic energy that the object has. "
   ]
  },
  {
   "cell_type": "code",
   "execution_count": 21,
   "metadata": {},
   "outputs": [
    {
     "name": "stdout",
     "output_type": "stream",
     "text": [
      "Enter an object's mass in kilograms: 100\n",
      "Enter the object's velocity in meters per second: 2\n"
     ]
    },
    {
     "data": {
      "text/plain": [
       "200.0"
      ]
     },
     "execution_count": 21,
     "metadata": {},
     "output_type": "execute_result"
    }
   ],
   "source": [
    "def kinetic_energy():\n",
    "    mass=int(input(\"Enter an object's mass in kilograms: \"))\n",
    "    velocity=int(input(\"Enter the object's velocity in meters per second: \"))\n",
    "    kinetic_energy = 0.5*mass*velocity**2\n",
    "    return(kinetic_energy)\n",
    "\n",
    "kinetic_energy()"
   ]
  },
  {
   "cell_type": "markdown",
   "metadata": {},
   "source": [
    "Prime Number\n",
    "\n",
    "Write a Boolean function named is_prime which takes an integer as an argument and returns true if the argument is a prime number, or false otherwise. Use the function in a program that prompts the user to enter a number and then displays a message indicating whether the number is prime. "
   ]
  },
  {
   "cell_type": "code",
   "execution_count": 28,
   "metadata": {},
   "outputs": [
    {
     "name": "stdout",
     "output_type": "stream",
     "text": [
      "Enter an integer: 11\n",
      "11 is a prime.\n"
     ]
    }
   ],
   "source": [
    "def is_prime():\n",
    "    num=int(input(\"Enter an integer: \"))\n",
    "    if num<2:\n",
    "        print(num,\"is not a prime.\")\n",
    "    else:\n",
    "        is_prime=True\n",
    "        for i in range (2,num):\n",
    "            if num%i==0:\n",
    "                is_prime=False\n",
    "        if is_prime==True:\n",
    "            print(num,\"is a prime.\")\n",
    "        else:\n",
    "            print(num,\"is not a prime.\")\n",
    "    return\n",
    "\n",
    "is_prime()"
   ]
  },
  {
   "cell_type": "markdown",
   "metadata": {},
   "source": [
    "Perfect Number \n",
    "\n",
    "Find the first n perfect numbers (get n from the user). \n"
   ]
  },
  {
   "cell_type": "code",
   "execution_count": 3,
   "metadata": {},
   "outputs": [
    {
     "name": "stdout",
     "output_type": "stream",
     "text": [
      "Enter a positive integer: 4\n",
      "6\n",
      "28\n",
      "496\n",
      "8128\n"
     ]
    }
   ],
   "source": [
    "#ERROR!!! The Output is always 6 no matter what n is\n",
    "n=int(input(\"Enter a positive integer: \"))\n",
    "\n",
    "count=1\n",
    "i=2\n",
    "while(count<=n):\n",
    "    total=0\n",
    "    for j in range (1,i):\n",
    "        if i%j==0:\n",
    "            total+=j\n",
    "    if total==i:\n",
    "        count+=1\n",
    "        print(i)\n",
    "    i+=1"
   ]
  },
  {
   "cell_type": "markdown",
   "metadata": {},
   "source": [
    "Prime Fibonacci \n",
    "\n",
    "Identify the prime numbers from the first n Fibonacci numbers. "
   ]
  },
  {
   "cell_type": "code",
   "execution_count": 2,
   "metadata": {},
   "outputs": [
    {
     "name": "stdout",
     "output_type": "stream",
     "text": [
      "Enter a positive integer: 30\n",
      "2 is a prime fibonacci.\n",
      "3 is a prime fibonacci.\n",
      "5 is a prime fibonacci.\n",
      "13 is a prime fibonacci.\n",
      "89 is a prime fibonacci.\n",
      "233 is a prime fibonacci.\n",
      "1597 is a prime fibonacci.\n",
      "28657 is a prime fibonacci.\n",
      "514229 is a prime fibonacci.\n"
     ]
    }
   ],
   "source": [
    "def prime_fibonacci():\n",
    "    i=0\n",
    "    j=1\n",
    "    count=0\n",
    "    \n",
    "    while count<n:\n",
    "        i+=j\n",
    "        j=i-j\n",
    "        if j>=2:\n",
    "            is_prime=True\n",
    "            for h in range (2,j):\n",
    "                if j%h==0:\n",
    "                    is_prime=False\n",
    "            if is_prime:\n",
    "                print(j,\"is a prime fibonacci.\")        \n",
    "        count+=1\n",
    "    return\n",
    "\n",
    "n=int(input(\"Enter a positive integer: \"))\n",
    "prime_fibonacci()"
   ]
  },
  {
   "cell_type": "markdown",
   "metadata": {},
   "source": [
    "Digits \n",
    "\n",
    "Ask a number from the user and display according to what the example shows below. \n",
    "Say the user enters 498, your output should be: \n",
    "8 \n",
    "98 \n",
    "498 "
   ]
  },
  {
   "cell_type": "code",
   "execution_count": 9,
   "metadata": {},
   "outputs": [
    {
     "name": "stdout",
     "output_type": "stream",
     "text": [
      "Enter a number: 379\n",
      "9 79 379\n"
     ]
    }
   ],
   "source": [
    "def show_digits():\n",
    "    num=int(input('Enter a number: '))\n",
    "    a=num%10\n",
    "    b=num%100\n",
    "    c=num%1000\n",
    "    print(a,b,c)\n",
    "\n",
    "show_digits()"
   ]
  }
 ],
 "metadata": {
  "kernelspec": {
   "display_name": "Python 3",
   "language": "python",
   "name": "python3"
  },
  "language_info": {
   "codemirror_mode": {
    "name": "ipython",
    "version": 3
   },
   "file_extension": ".py",
   "mimetype": "text/x-python",
   "name": "python",
   "nbconvert_exporter": "python",
   "pygments_lexer": "ipython3",
   "version": "3.6.3"
  }
 },
 "nbformat": 4,
 "nbformat_minor": 2
}
