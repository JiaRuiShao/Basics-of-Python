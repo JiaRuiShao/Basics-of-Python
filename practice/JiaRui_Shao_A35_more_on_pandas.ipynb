{
 "cells": [
  {
   "cell_type": "markdown",
   "metadata": {},
   "source": [
    "__JiaRui Shao__"
   ]
  },
  {
   "cell_type": "markdown",
   "metadata": {},
   "source": [
    "Use the NYCR.csv file. Display the total score for each restaurant.\n",
    "\n",
    "Note that CAMIS uniquely identifies each restaurant. score gives you the score for each violation in each inspection for each restaurant.import pandas\n",
    "import numpy\n",
    "import matplotlib.pyplot as plt"
   ]
  },
  {
   "cell_type": "code",
   "execution_count": 1,
   "metadata": {},
   "outputs": [],
   "source": [
    "import pandas\n",
    "import numpy\n",
    "import matplotlib.pyplot as plt"
   ]
  },
  {
   "cell_type": "code",
   "execution_count": 3,
   "metadata": {},
   "outputs": [
    {
     "name": "stdout",
     "output_type": "stream",
     "text": [
      "Index(['CAMIS', 'DBA', 'BORO', 'BUILDING', 'STREET', 'ZIPCODE',\n",
      "       'CUISINE DESCRIPTION', 'INSPECTION DATE', 'ACTION', 'VIOLATION CODE',\n",
      "       'CRITICAL FLAG', 'SCORE'],\n",
      "      dtype='object')\n"
     ]
    }
   ],
   "source": [
    "data=pandas.read_csv('NYCR.csv', low_memory=False)\n",
    "print(data.columns)"
   ]
  },
  {
   "cell_type": "code",
   "execution_count": 6,
   "metadata": {},
   "outputs": [
    {
     "name": "stdout",
     "output_type": "stream",
     "text": [
      "       CAMIS  SCORE\n",
      "0   30075445    6.0\n",
      "1   30075445    2.0\n",
      "2   30075445    NaN\n",
      "3   30075445    6.0\n",
      "4   30075445    6.0\n",
      "5   30075445   32.0\n",
      "6   30075445   32.0\n",
      "7   30075445   32.0\n",
      "8   30075445   32.0\n",
      "9   30075445   32.0\n",
      "10  30075445   32.0\n",
      "11  30075445    NaN\n",
      "12  30075445   10.0\n",
      "13  30075445   10.0\n",
      "14  30075445    NaN\n",
      "15  30075445   25.0\n",
      "16  30075445   25.0\n",
      "17  30075445   25.0\n",
      "18  30075445   25.0\n",
      "19  30075445   25.0\n",
      "20  30075445    NaN\n",
      "21  30075445    NaN\n",
      "22  30112340    8.0\n",
      "23  30112340    8.0\n",
      "24  30112340   16.0\n",
      "25  30112340   16.0\n",
      "26  30112340   16.0\n",
      "27  30112340   23.0\n",
      "28  30112340   23.0\n",
      "29  30112340   23.0\n",
      "30  30112340   13.0\n",
      "31  30112340   13.0\n",
      "32  30112340   13.0\n",
      "33  30112340   12.0\n",
      "34  30112340   12.0\n",
      "35  30112340   12.0\n",
      "36  30112340   12.0\n",
      "37  30112340   12.0\n",
      "38  30112340   12.0\n",
      "39  30191841    2.0\n",
      "40  30191841   11.0\n",
      "41  30191841   11.0\n",
      "42  30191841   11.0\n",
      "43  30191841   12.0\n",
      "44  30191841   12.0\n",
      "45  30191841   12.0\n",
      "46  30191841   12.0\n",
      "47  30191841   12.0\n",
      "48  30191841   21.0\n",
      "49  30191841   21.0\n",
      "50  30191841   21.0\n",
      "51  30191841   21.0\n",
      "52  30191841   21.0\n"
     ]
    }
   ],
   "source": [
    "r_score=pandas.DataFrame(data, columns=['CAMIS','SCORE'])\n",
    "print(r_score)"
   ]
  }
 ],
 "metadata": {
  "kernelspec": {
   "display_name": "Python 3",
   "language": "python",
   "name": "python3"
  },
  "language_info": {
   "codemirror_mode": {
    "name": "ipython",
    "version": 3
   },
   "file_extension": ".py",
   "mimetype": "text/x-python",
   "name": "python",
   "nbconvert_exporter": "python",
   "pygments_lexer": "ipython3",
   "version": "3.6.4"
  }
 },
 "nbformat": 4,
 "nbformat_minor": 2
}
