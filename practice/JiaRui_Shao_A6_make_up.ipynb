{
 "cells": [
  {
   "cell_type": "markdown",
   "metadata": {},
   "source": [
    "Part A:\n",
    "\n",
    "Write a program that converts Celsius temperatures to Fahrenheit temperatures. The formula is as follows:\n",
    "\n",
    "The program should ask the user to enter a temperature in Celsius, and then display the\n",
    "temperature converted to Fahrenheit."
   ]
  },
  {
   "cell_type": "code",
   "execution_count": 1,
   "metadata": {},
   "outputs": [
    {
     "name": "stdout",
     "output_type": "stream",
     "text": [
      "Put a temperature in Celsius: 50\n",
      "122.0\n"
     ]
    }
   ],
   "source": [
    "celsius=float(input(\"Put a temperature in Celsius: \"))\n",
    "fahrenheit=celsius*9/5+32\n",
    "print(fahrenheit)"
   ]
  },
  {
   "cell_type": "markdown",
   "metadata": {},
   "source": [
    "Part B:\n",
    "\n",
    "Write a program that calculates the total amount of a meal purchased at a restaurant. The program should ask the user to enter the charge for the food, and then calculate the amount of a 18 percent tip and 7 percent sales tax. Display each of these amounts and the total."
   ]
  },
  {
   "cell_type": "code",
   "execution_count": 14,
   "metadata": {},
   "outputs": [
    {
     "name": "stdout",
     "output_type": "stream",
     "text": [
      "The charge of food: 30\n",
      "30.00\n",
      "5.40\n",
      "2.10\n",
      "37.50\n"
     ]
    }
   ],
   "source": [
    "food_charge=float(input(\"The charge of food: \"))\n",
    "tip=food_charge*0.18\n",
    "tax=food_charge*0.07\n",
    "total=food_charge+tip+tax\n",
    "print(format(food_charge,',.2f'))\n",
    "print(format(tip,',.2f'))\n",
    "print(format(tax,',.2f'))\n",
    "print(format(total,',.2f'))"
   ]
  },
  {
   "cell_type": "markdown",
   "metadata": {},
   "source": [
    "Part C:\n",
    "\n",
    "Write a program that asks the user for the number of miles driven and the gallons of gas used. It should calculate the car’s MPG (Miles per Gallon) and display the result."
   ]
  },
  {
   "cell_type": "code",
   "execution_count": 15,
   "metadata": {},
   "outputs": [
    {
     "name": "stdout",
     "output_type": "stream",
     "text": [
      "Mails of driven: 100\n",
      "Gallons of gas used: 2.5\n",
      "40.0\n"
     ]
    }
   ],
   "source": [
    "miles=float(input(\"Mails of driven: \"))\n",
    "gallons=float(input(\"Gallons of gas used: \"))\n",
    "mpg=miles/gallons\n",
    "print(mpg)"
   ]
  },
  {
   "cell_type": "code",
   "execution_count": null,
   "metadata": {
    "collapsed": true
   },
   "outputs": [],
   "source": []
  },
  {
   "cell_type": "code",
   "execution_count": null,
   "metadata": {
    "collapsed": true
   },
   "outputs": [],
   "source": []
  },
  {
   "cell_type": "code",
   "execution_count": null,
   "metadata": {
    "collapsed": true
   },
   "outputs": [],
   "source": []
  },
  {
   "cell_type": "code",
   "execution_count": null,
   "metadata": {
    "collapsed": true
   },
   "outputs": [],
   "source": []
  },
  {
   "cell_type": "code",
   "execution_count": null,
   "metadata": {
    "collapsed": true
   },
   "outputs": [],
   "source": []
  }
 ],
 "metadata": {
  "kernelspec": {
   "display_name": "Python 3",
   "language": "python",
   "name": "python3"
  },
  "language_info": {
   "codemirror_mode": {
    "name": "ipython",
    "version": 3
   },
   "file_extension": ".py",
   "mimetype": "text/x-python",
   "name": "python",
   "nbconvert_exporter": "python",
   "pygments_lexer": "ipython3",
   "version": "3.6.3"
  }
 },
 "nbformat": 4,
 "nbformat_minor": 2
}
