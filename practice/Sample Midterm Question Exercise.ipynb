{
 "cells": [
  {
   "cell_type": "markdown",
   "metadata": {},
   "source": [
    "1.\tWrite code to get a number from the user and calculate the square of sum form 1 to that number. For example, if user enters 10, the square of sum of the first ten natural numbers is, (1+2+3+….+10)2 = 552 = 3025. (10 points)"
   ]
  },
  {
   "cell_type": "code",
   "execution_count": 3,
   "metadata": {},
   "outputs": [
    {
     "name": "stdout",
     "output_type": "stream",
     "text": [
      "Enter a number: 10\n"
     ]
    },
    {
     "data": {
      "text/plain": [
       "3025"
      ]
     },
     "execution_count": 3,
     "metadata": {},
     "output_type": "execute_result"
    }
   ],
   "source": [
    "def square_of_sum(n):\n",
    "    total=0\n",
    "    for i in range (1,n+1):\n",
    "        total += i\n",
    "    return total**2\n",
    "\n",
    "def main():\n",
    "    n=int(input(\"Enter a number: \"))\n",
    "    return square_of_sum(n)\n",
    "\n",
    "main()"
   ]
  },
  {
   "cell_type": "markdown",
   "metadata": {},
   "source": [
    "2.\tUse scores.txt file provided to answer this question. Find and list all the even numbers from that file. (10 points) "
   ]
  },
  {
   "cell_type": "code",
   "execution_count": 6,
   "metadata": {},
   "outputs": [
    {
     "name": "stdout",
     "output_type": "stream",
     "text": [
      "148\n",
      "170\n",
      "164\n",
      "136\n",
      "130\n",
      "166\n",
      "170\n",
      "94\n",
      "180\n",
      "160\n",
      "160\n",
      "130\n",
      "180\n",
      "152\n"
     ]
    }
   ],
   "source": [
    "def list_even_num():\n",
    "    file=open(\"scores.txt\",'r')\n",
    "    for line in file:\n",
    "        if int(line)%2 == 0:\n",
    "            print(line,end='')\n",
    "    return\n",
    "\n",
    "list_even_num()"
   ]
  },
  {
   "cell_type": "markdown",
   "metadata": {},
   "source": [
    "3.\tA palindromic number reads the same both ways. Write code to find the largest palindrome made from the product of two 2-digit numbers. (20 points) "
   ]
  },
  {
   "cell_type": "code",
   "execution_count": 9,
   "metadata": {},
   "outputs": [
    {
     "name": "stdout",
     "output_type": "stream",
     "text": [
      "9009 = 91*99\n"
     ]
    }
   ],
   "source": [
    "#The largest palindrome made from the product of two 2-digit numbers is 9009 = 91 × 99.\n",
    "max_pal=0\n",
    "a=0\n",
    "b=0\n",
    "for i in range (1,100):\n",
    "    for j in range (1,100):\n",
    "        if str(i*j) == str(i*j)[::-1]:\n",
    "            if i*j > max_pal:\n",
    "                max_pal = i*j\n",
    "                a=i\n",
    "                b=j\n",
    "print(str(max_pal)+' = '+str(a)+'*'+str(b))"
   ]
  },
  {
   "cell_type": "markdown",
   "metadata": {},
   "source": [
    "4.\tAsk the user for a number. Find the prime factors for that number.  (30 points) "
   ]
  },
  {
   "cell_type": "code",
   "execution_count": 12,
   "metadata": {},
   "outputs": [
    {
     "name": "stdout",
     "output_type": "stream",
     "text": [
      "Enter a number: 28\n",
      "7 is a prime factor.\n",
      "2 is a prime factor.\n"
     ]
    }
   ],
   "source": [
    "#1.find all the factors\n",
    "#2.find the prime factors\n",
    "\n",
    "def find_prime_factors(n):\n",
    "    for i in range (1,n):\n",
    "        if n%i == 0:\n",
    "            factor=n//i\n",
    "            # find the prime numbers in factors\n",
    "            is_prime=True\n",
    "            if factor < 2:\n",
    "                is_prime=False\n",
    "            elif factor >= 2:\n",
    "                for j in range (2,factor):\n",
    "                    if factor%j == 0:\n",
    "                        is_prime=False\n",
    "            if is_prime:\n",
    "                print(factor,\"is a prime factor.\")\n",
    "                    \n",
    "    \n",
    "def main():\n",
    "    n=int(input(\"Enter a number: \"))\n",
    "    find_prime_factors(n)\n",
    "    return\n",
    "\n",
    "main()"
   ]
  },
  {
   "cell_type": "markdown",
   "metadata": {},
   "source": [
    "5.\t145 is a curious number, as 1! + 4! + 5! = 1 + 24 + 120 = 145. That is, the sum of the factorial of each of its digits equals the number itself. Write code to display all numbers below 1000 for which this is true. (30 points)"
   ]
  },
  {
   "cell_type": "code",
   "execution_count": 24,
   "metadata": {},
   "outputs": [
    {
     "name": "stdout",
     "output_type": "stream",
     "text": [
      "145=1!4!5!\n"
     ]
    }
   ],
   "source": [
    "def sum_of_factorial(n):\n",
    "    total=1\n",
    "    for x in range (1,n+1):\n",
    "        total*=x\n",
    "    return total\n",
    "\n",
    "def find_curious_number():\n",
    "    i=1\n",
    "    j=1\n",
    "    h=1\n",
    "    while(sum_of_factorial(i)+sum_of_factorial(j)+sum_of_factorial(h) < 1000):\n",
    "        for i in range (1,50):\n",
    "            for j in range(1,50):\n",
    "                for h in range(1,50):\n",
    "                    summ=sum_of_factorial(i)+sum_of_factorial(j)+sum_of_factorial(h)\n",
    "                    if str(summ) == str(i)+str(j)+str(h):\n",
    "                        print(str(summ)+'='+str(i)+'!'+str(j)+'!'+str(h)+'!')\n",
    "    return \n",
    "\n",
    "find_curious_number()"
   ]
  }
 ],
 "metadata": {
  "kernelspec": {
   "display_name": "Python 3",
   "language": "python",
   "name": "python3"
  },
  "language_info": {
   "codemirror_mode": {
    "name": "ipython",
    "version": 3
   },
   "file_extension": ".py",
   "mimetype": "text/x-python",
   "name": "python",
   "nbconvert_exporter": "python",
   "pygments_lexer": "ipython3",
   "version": "3.6.3"
  }
 },
 "nbformat": 4,
 "nbformat_minor": 2
}
