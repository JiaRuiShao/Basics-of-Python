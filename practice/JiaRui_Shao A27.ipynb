{
 "cells": [
  {
   "cell_type": "markdown",
   "metadata": {},
   "source": [
    "JiaRui Shao"
   ]
  },
  {
   "cell_type": "markdown",
   "metadata": {},
   "source": [
    "Write a class named Employee that holds the following data about an employee in attributes: name, ID number, department, and job title. Once you have written the class, write a program that creates three Employee objects to hold the following data.\n",
    "\n",
    "Name\tID Number \tDepartment\tJob Title\n",
    "\n",
    "Susan Meyers\t47899\tAccounting\tVice President\n",
    "\n",
    "Mark Jones\t39119\tIT\tProgrammer\n",
    "\n",
    "Joy Rogers\t81774\tManufacturing\tEngineer\n"
   ]
  },
  {
   "cell_type": "code",
   "execution_count": 1,
   "metadata": {},
   "outputs": [
    {
     "name": "stdout",
     "output_type": "stream",
     "text": [
      "Enter the name: Susan Meyers\n",
      "Enter the id number: 47899\n",
      "Enter the department: Accounting Vice President\n",
      "Enter the job:Vice President\n",
      "Would you like to add more? yes\n",
      "Enter the name: Mark Jones\n",
      "Enter the id number: 39119\n",
      "Enter the department: IT\n",
      "Enter the job:Programmer\n",
      "Would you like to add more? yes\n",
      "Enter the name: Joy Rogers\n",
      "Enter the id number: 81774\n",
      "Enter the department: Manufacturing\n",
      "Enter the job:Engineer\n",
      "Would you like to add more? no\n"
     ]
    }
   ],
   "source": [
    "class employee:\n",
    "    def __init__(self, name, id_num, department, job):\n",
    "        self.__name = name\n",
    "        self.__id_num = id_num\n",
    "        self.__department = department\n",
    "        self.__job = job\n",
    "        \n",
    "    def set_name(self, name):\n",
    "        self.__name = name\n",
    "    \n",
    "    def set_id_num(self, id_num):\n",
    "        self.__id_num = id_num\n",
    "        \n",
    "    def set_department(self, department):\n",
    "        self.__department = department\n",
    "        \n",
    "    def set_job(self, job):\n",
    "        self.__job = job\n",
    "        \n",
    "    def get_name(self):\n",
    "        return self.__name\n",
    "    \n",
    "    def get_id_num(self):\n",
    "        return self.__id_num\n",
    "    \n",
    "    def get_department(self):\n",
    "        return self.__department\n",
    "    \n",
    "    def get_job(self):\n",
    "        return self.__job\n",
    "\n",
    "    def __str__(self):\n",
    "        return self.__name, self.__id_num, self.__department, self.__job \n",
    "        \n",
    "def main():\n",
    "    choice = 'yes'\n",
    "    \n",
    "    while choice == 'yes':\n",
    "        name=input(\"Enter the name: \")\n",
    "        id_num=input(\"Enter the id number: \")\n",
    "        department=input(\"Enter the department: \")\n",
    "        job=input(\"Enter the job:\")\n",
    "        myemployee=employee(name, id_num, department, job)\n",
    "        choice=input('Would you like to add more? ')    \n",
    "\n",
    "main()"
   ]
  }
 ],
 "metadata": {
  "kernelspec": {
   "display_name": "Python 3",
   "language": "python",
   "name": "python3"
  },
  "language_info": {
   "codemirror_mode": {
    "name": "ipython",
    "version": 3
   },
   "file_extension": ".py",
   "mimetype": "text/x-python",
   "name": "python",
   "nbconvert_exporter": "python",
   "pygments_lexer": "ipython3",
   "version": "3.6.4"
  }
 },
 "nbformat": 4,
 "nbformat_minor": 2
}
