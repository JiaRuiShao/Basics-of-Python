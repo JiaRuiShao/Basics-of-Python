{
 "cells": [
  {
   "cell_type": "markdown",
   "metadata": {},
   "source": [
    "Rewrite the following code so it only makes one comparison and does not use the “or” operator. \n",
    " \n",
    "choice=input(‘Do you want to continue: ‘) \n",
    "If choice==’y’ or choice==’Y’: \n",
    "print(‘continue’) "
   ]
  },
  {
   "cell_type": "code",
   "execution_count": 2,
   "metadata": {},
   "outputs": [
    {
     "name": "stdout",
     "output_type": "stream",
     "text": [
      "Do you want to continue:Y\n",
      "continue\n"
     ]
    }
   ],
   "source": [
    "choice=input(\"Do you want to continue:\")\n",
    "if choice.lower() == 'y': #OR if choice.upper() == 'Y'\n",
    "    print('continue')"
   ]
  },
  {
   "cell_type": "markdown",
   "metadata": {},
   "source": [
    "Write a function that accepts a string as an argument and returns true if the argument ends with the substring ‘.com’. Otherwise, the function should return false. "
   ]
  },
  {
   "cell_type": "code",
   "execution_count": 10,
   "metadata": {},
   "outputs": [
    {
     "name": "stdout",
     "output_type": "stream",
     "text": [
      "Enter a string: www.cctv.com\n"
     ]
    },
    {
     "data": {
      "text/plain": [
       "True"
      ]
     },
     "execution_count": 10,
     "metadata": {},
     "output_type": "execute_result"
    }
   ],
   "source": [
    "def whether_end_with(s):\n",
    "    if s.endswith('.com'):\n",
    "        return True\n",
    "    else:\n",
    "        return False\n",
    "    \n",
    "def main():\n",
    "    string=input(\"Enter a string: \")\n",
    "    return whether_end_with(string)\n",
    "\n",
    "main()"
   ]
  },
  {
   "cell_type": "markdown",
   "metadata": {},
   "source": [
    "Write a function that accepts a string as an argument and displays the string backwards. "
   ]
  },
  {
   "cell_type": "code",
   "execution_count": 13,
   "metadata": {},
   "outputs": [
    {
     "name": "stdout",
     "output_type": "stream",
     "text": [
      "Enter a string: what does the fox say?\n"
     ]
    },
    {
     "data": {
      "text/plain": [
       "'?yas xof eht seod tahw'"
      ]
     },
     "execution_count": 13,
     "metadata": {},
     "output_type": "execute_result"
    }
   ],
   "source": [
    "def reverse(s):\n",
    "    s=s[::-1]\n",
    "    return s\n",
    "\n",
    "def main():\n",
    "    string=input(\"Enter a string: \")\n",
    "    return reverse(string)\n",
    "\n",
    "main()"
   ]
  },
  {
   "cell_type": "markdown",
   "metadata": {},
   "source": [
    "Write a program that reads a string from the user containing a date in the form mm/dd/yyyy. It should print the date in the form March 12, 2014. "
   ]
  },
  {
   "cell_type": "code",
   "execution_count": 15,
   "metadata": {},
   "outputs": [
    {
     "name": "stdout",
     "output_type": "stream",
     "text": [
      "Enter a date in the form mm/dd/yyyy: 01/20/1998\n",
      "January 20,1998\n"
     ]
    }
   ],
   "source": [
    "def to_month(d):\n",
    "    month=d[:2]\n",
    "    if month == '01':\n",
    "        print(\"January\",end=' ')\n",
    "    elif month == '02':\n",
    "        print(\"February\",end=' ')\n",
    "    elif month == '03':\n",
    "        print(\"March\",end=' ')\n",
    "    elif month == '04':\n",
    "        print(\"April\",end=' ')\n",
    "    elif month == '05':\n",
    "        print(\"May\",end=' ')\n",
    "    elif month == '06':\n",
    "        print(\"June\",end=' ')\n",
    "    elif month == '07':\n",
    "        print(\"July\",end=' ')\n",
    "    elif month == '08':\n",
    "        print(\"August\",end=' ')\n",
    "    elif month == '09':\n",
    "        print(\"September\",end=' ')\n",
    "    elif month == '10':\n",
    "        print(\"October\",end=' ')\n",
    "    elif month == '11':\n",
    "        print(\"November\",end=' ')\n",
    "    elif month == '12':\n",
    "        print(\"December\",end=' ')\n",
    "    print(d[3:5]+','+d[-4:])\n",
    "    return\n",
    "\n",
    "def main():\n",
    "    date=input(\"Enter a date in the form mm/dd/yyyy: \")\n",
    "    to_month(date)\n",
    "    return\n",
    "\n",
    "main()"
   ]
  },
  {
   "cell_type": "markdown",
   "metadata": {},
   "source": [
    "Write a program with a function that accepts a string as an argument and returns a copy of the string with the first character of each sentence capitalized. For instance, if the argument is “hello. my name is Joe. what is your name?” the function should return the string “Hello. My name is Joe. What is your name?” The program should let the user enter a string and then pass it to the function. The modified string should be displayed. "
   ]
  },
  {
   "cell_type": "code",
   "execution_count": 35,
   "metadata": {},
   "outputs": [
    {
     "name": "stdout",
     "output_type": "stream",
     "text": [
      "Enter a string: i'm a dog. i'm a happy dog. i'm a happy happy dog.\n",
      "[\"i'm a dog\", \"i'm a happy dog\", \"i'm a happy happy dog.\"]\n",
      "I'm a dog. I'm a happy dog. I'm a happy happy dog.\n"
     ]
    }
   ],
   "source": [
    "#What if there's a question mark in the middle of the whole sentence?\n",
    "def capitalize_letter(s):\n",
    "    sen=s.split('[. ')\n",
    "    print(sen)\n",
    "    string=''\n",
    "    for i in sen:\n",
    "        j=i[0].upper() + i[1:] + '. '\n",
    "        string=string+j\n",
    "    print(string[:-2])\n",
    "    \n",
    "    return()\n",
    "\n",
    "def main():\n",
    "    string=input(\"Enter a string: \")\n",
    "    capitalize_letter(string)\n",
    "    return\n",
    "\n",
    "main()"
   ]
  },
  {
   "cell_type": "markdown",
   "metadata": {},
   "source": [
    "Write a program that accepts as input a sentence in which all of the words are run together but the first character of each word is uppercase. Convert the sentence to a string in which the words are separated by spaces and only the first word starts with an uppercase letter. For example the string “StopAndSmellTheRoses.” would be converted to “Stop and smell the roses.” "
   ]
  },
  {
   "cell_type": "code",
   "execution_count": 46,
   "metadata": {},
   "outputs": [
    {
     "name": "stdout",
     "output_type": "stream",
     "text": [
      "Enter a sentence: IceBearAndPanda\n",
      "Ice bear and panda\n"
     ]
    }
   ],
   "source": [
    "sen=input(\"Enter a sentence: \")\n",
    "new_sen=''\n",
    "for char in sen:\n",
    "    if char != char.lower():\n",
    "        new_sen += ' '+char.lower()\n",
    "    elif char == char.lower():\n",
    "        new_sen += char\n",
    "\n",
    "print(new_sen[1].upper() + new_sen[2:])"
   ]
  },
  {
   "cell_type": "markdown",
   "metadata": {},
   "source": [
    "Here is a 1000 digit number. \n",
    "73167176531330624919225119674426574742355349194934 \n",
    "96983520312774506326239578318016984801869478851843 \n",
    "85861560789112949495459501737958331952853208805511 \n",
    "12540698747158523863050715693290963295227443043557 \n",
    "66896648950445244523161731856403098711121722383113 \n",
    "62229893423380308135336276614282806444486645238749 \n",
    "30358907296290491560440772390713810515859307960866 \n",
    "70172427121883998797908792274921901699720888093776 \n",
    "65727333001053367881220235421809751254540594752243 \n",
    "52584907711670556013604839586446706324415722155397 \n",
    "53697817977846174064955149290862569321978468622482 \n",
    "83972241375657056057490261407972968652414535100474 \n",
    "82166370484403199890008895243450658541227588666881 \n",
    "16427171479924442928230863465674813919123162824586 \n",
    "17866458359124566529476545682848912883142607690042 \n",
    "24219022671055626321111109370544217506941658960408 \n",
    "07198403850962455444362981230987879927244284909188 \n",
    "84580156166097919133875499200524063689912560717606 \n",
    "05886116467109405077541002256983155200055935729725 \n",
    "71636269561882670428252483600823257530420752963450 \n",
    " \n",
    "Find the four adjacent digits in the 1000-digit number that have the greatest product. What are the four adjacent digits and what is the value of this product? \n",
    "From <https://projecteuler.net/problem=8> "
   ]
  },
  {
   "cell_type": "code",
   "execution_count": 5,
   "metadata": {},
   "outputs": [
    {
     "ename": "SyntaxError",
     "evalue": "invalid syntax (<ipython-input-5-ed25329ca288>, line 2)",
     "output_type": "error",
     "traceback": [
      "\u001b[1;36m  File \u001b[1;32m\"<ipython-input-5-ed25329ca288>\"\u001b[1;36m, line \u001b[1;32m2\u001b[0m\n\u001b[1;33m    96983520312774506326239578318016984801869478851843\u001b[0m\n\u001b[1;37m                                                     ^\u001b[0m\n\u001b[1;31mSyntaxError\u001b[0m\u001b[1;31m:\u001b[0m invalid syntax\n"
     ]
    }
   ],
   "source": [
    "string=str(73167176531330624919225119674426574742355349194934 \n",
    "96983520312774506326239578318016984801869478851843 \n",
    "85861560789112949495459501737958331952853208805511 \n",
    "12540698747158523863050715693290963295227443043557 \n",
    "66896648950445244523161731856403098711121722383113 \n",
    "62229893423380308135336276614282806444486645238749 \n",
    "30358907296290491560440772390713810515859307960866 \n",
    "70172427121883998797908792274921901699720888093776 \n",
    "65727333001053367881220235421809751254540594752243 \n",
    "52584907711670556013604839586446706324415722155397 \n",
    "53697817977846174064955149290862569321978468622482 \n",
    "83972241375657056057490261407972968652414535100474 \n",
    "82166370484403199890008895243450658541227588666881 \n",
    "16427171479924442928230863465674813919123162824586 \n",
    "17866458359124566529476545682848912883142607690042 \n",
    "24219022671055626321111109370544217506941658960408 \n",
    "07198403850962455444362981230987879927244284909188 \n",
    "84580156166097919133875499200524063689912560717606 \n",
    "05886116467109405077541002256983155200055935729725 \n",
    "71636269561882670428252483600823257530420752963450).replace(\" \",\"\")\n",
    "\n",
    "maximum=-1\n",
    "for i in range (997): #[0:996]\n",
    "    product=int(string[i:i+4])\n",
    "    if product > maximum:\n",
    "        maximum = product\n",
    "print('The value of this product is:', maximum)\n",
    "print('The four digits are:'+str(maxium)[0]+';'+str(maxium)[1]+';'+str(maxium)[2]+';'+str(maxium)[3])"
   ]
  }
 ],
 "metadata": {
  "kernelspec": {
   "display_name": "Python 3",
   "language": "python",
   "name": "python3"
  },
  "language_info": {
   "codemirror_mode": {
    "name": "ipython",
    "version": 3
   },
   "file_extension": ".py",
   "mimetype": "text/x-python",
   "name": "python",
   "nbconvert_exporter": "python",
   "pygments_lexer": "ipython3",
   "version": "3.6.3"
  }
 },
 "nbformat": 4,
 "nbformat_minor": 2
}
