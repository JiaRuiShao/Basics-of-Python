{
 "cells": [
  {
   "cell_type": "markdown",
   "metadata": {},
   "source": [
    "Scores.txt is a file that has some numbers. Ask the user how many lines are to be read from the file (say user inputs n), read and display the first n lines from the file.  "
   ]
  },
  {
   "cell_type": "code",
   "execution_count": 8,
   "metadata": {
    "collapsed": true
   },
   "outputs": [
    {
     "name": "stdout",
     "output_type": "stream",
     "text": [
      "Enter how many lines do u want to display: 100\n",
      "129\n",
      "164\n",
      "125\n",
      "130\n",
      "129\n",
      "94\n",
      "149\n",
      "131\n",
      "155\n",
      "121\n",
      "130\n",
      "152\n",
      "161\n"
     ]
    }
   ],
   "source": [
    "def read_line(n):\n",
    "    file=open(\"scores.txt\",'r')\n",
    "    for i in range(n):\n",
    "        while file.readline() != '':\n",
    "            print(file.readline().rstrip())\n",
    "    file.close()\n",
    "    return\n",
    "\n",
    "def main():\n",
    "    line_num=int(input(\"Enter how many lines do u want to display: \"))\n",
    "    read_line(line_num)\n",
    "    return\n",
    "\n",
    "main()"
   ]
  },
  {
   "cell_type": "markdown",
   "metadata": {},
   "source": [
    "Scores.txt is a file that has some numbers. Read each number, check if that number is prime or not, and write the number into another file along with True or False depending on whether the number is prime or not."
   ]
  },
  {
   "cell_type": "code",
   "execution_count": 14,
   "metadata": {},
   "outputs": [],
   "source": [
    "def is_prime(n):\n",
    "    if n < 2:\n",
    "        n='False'\n",
    "    else:\n",
    "        is_prime=True\n",
    "        for i in range (2,n):\n",
    "            if n % i == 0:\n",
    "                is_prime=False\n",
    "        if is_prime:\n",
    "            n='Ture'\n",
    "        if not is_prime:\n",
    "            n='False'\n",
    "    return n\n",
    "\n",
    "def main():\n",
    "    file=open(\"scores.txt\",'r')\n",
    "    file2=open(\"prime number or not.txt\",'w')\n",
    "    for line in file:\n",
    "        file2.write(is_prime(int(line)) + '\\n')\n",
    "    file.close()\n",
    "    file2.close()\n",
    "    return\n",
    "\n",
    "main()"
   ]
  },
  {
   "cell_type": "code",
   "execution_count": 38,
   "metadata": {
    "scrolled": true
   },
   "outputs": [
    {
     "name": "stdout",
     "output_type": "stream",
     "text": [
      "148\n",
      " False\n",
      "129\n",
      " False\n",
      "170\n",
      " False\n",
      "164\n",
      " False\n",
      "136\n",
      " False\n",
      "125\n",
      " False\n",
      "137\n",
      " Ture\n",
      "130\n",
      " False\n",
      "166\n",
      " False\n",
      "129\n",
      " False\n",
      "170\n",
      " False\n",
      "94\n",
      " False\n",
      "180\n",
      " False\n",
      "149\n",
      " Ture\n",
      "160\n",
      " False\n",
      "131\n",
      " Ture\n",
      "160\n",
      " False\n",
      "155\n",
      " False\n",
      "177\n",
      " False\n",
      "121\n",
      " False\n",
      "151\n",
      " Ture\n",
      "130\n",
      " False\n",
      "180\n",
      " False\n",
      "152\n",
      " False\n",
      "147\n",
      " False\n",
      "161 False\n"
     ]
    }
   ],
   "source": [
    "def is_prime(n):\n",
    "    if n < 2:\n",
    "        n='False'\n",
    "    else:\n",
    "        is_prime=True\n",
    "        for i in range (2,n):\n",
    "            if n % i == 0:\n",
    "                is_prime=False\n",
    "        if is_prime:\n",
    "            n='Ture'\n",
    "        if not is_prime:\n",
    "            n='False'\n",
    "    return n\n",
    "\n",
    "def main():\n",
    "    file=open(\"scores.txt\",'r')\n",
    "    file2=open(\"prime number or not.txt\",'w')\n",
    "    for line in file:\n",
    "        print(line,is_prime(int(line)).strip())\n",
    "    file.close()\n",
    "    file2.close()\n",
    "    return\n",
    "\n",
    "main()"
   ]
  },
  {
   "cell_type": "markdown",
   "metadata": {},
   "source": [
    "Names.txt has a list of names. Names_copy.txt has a list of names with some names repeating. Create a new file called namesWithCount.txt that has the list of names along with a count of how many times each name appears in the names_copy.txt. "
   ]
  },
  {
   "cell_type": "code",
   "execution_count": 39,
   "metadata": {},
   "outputs": [
    {
     "name": "stdout",
     "output_type": "stream",
     "text": [
      "John\n",
      " 2\n",
      "Bala\n",
      " 2\n",
      "Dave\n",
      " 2\n",
      "Salma\n",
      " 3\n",
      "Olivia\n",
      " 2\n",
      "Jose\n",
      " 2\n",
      "Frank\n",
      " 1\n",
      "Tanya\n",
      " 1\n",
      "Martine\n",
      " 1\n",
      "Riya\n",
      " 3\n",
      "Ollie\n",
      " 4\n",
      "Francesca\n",
      " 4\n",
      "Francois\n",
      " 2\n",
      "Salma 1\n"
     ]
    }
   ],
   "source": [
    "#count is 0\n",
    "def count_name():\n",
    "    infile=open(\"names_copy.txt\",'r')\n",
    "    file=open(\"namesWithCount\",'w')\n",
    "    \n",
    "    newfile=[]\n",
    "    for line in infile:\n",
    "        if line not in newfile:\n",
    "            newfile.append(line)\n",
    "   # print(newfile)\n",
    "    infile.close()\n",
    "   \n",
    "    for lines in newfile:\n",
    "        infile=open(\"names_copy.txt\",'r')\n",
    "        count=0\n",
    "        for i in infile:\n",
    "            #print(i, lines)      #can't print i???\n",
    "            if i == lines:\n",
    "                count+=1\n",
    "        string=lines + \" \" + str(count)\n",
    "        print(string)\n",
    "        file.write(string)\n",
    "        infile.close()\n",
    "    \n",
    "    \n",
    "    file.close()\n",
    "    \n",
    "    return\n",
    "\n",
    "count_name()"
   ]
  },
  {
   "cell_type": "code",
   "execution_count": 34,
   "metadata": {
    "collapsed": true
   },
   "outputs": [
    {
     "name": "stdout",
     "output_type": "stream",
     "text": [
      "John\n",
      "\n",
      "Bala\n",
      "\n",
      "Dave\n",
      "\n",
      "Salma\n",
      "\n",
      "Olivia\n",
      "\n",
      "Jose\n",
      "\n",
      "Frank\n",
      "\n",
      "Tanya\n",
      "\n",
      "Martine\n",
      "\n",
      "Riya\n",
      "\n",
      "Ollie\n",
      "\n",
      "Francesca\n",
      "\n",
      "Francois\n",
      "\n",
      "Riya\n",
      "\n",
      "Ollie\n",
      "\n",
      "Francesca\n",
      "\n",
      "Salma\n",
      "\n",
      "Olivia\n",
      "\n",
      "Jose\n",
      "\n",
      "Ollie\n",
      "\n",
      "Francesca\n",
      "\n",
      "Francois\n",
      "\n",
      "Riya\n",
      "\n",
      "Ollie\n",
      "\n",
      "Francesca\n",
      "\n",
      "Salma\n",
      "\n",
      "John\n",
      "\n",
      "Bala\n",
      "\n",
      "Dave\n",
      "\n",
      "Salma\n"
     ]
    }
   ],
   "source": [
    "ff=open('names_copy.txt','r')\n",
    "for line in ff:\n",
    "    print(line)"
   ]
  }
 ],
 "metadata": {
  "kernelspec": {
   "display_name": "Python 3",
   "language": "python",
   "name": "python3"
  },
  "language_info": {
   "codemirror_mode": {
    "name": "ipython",
    "version": 3
   },
   "file_extension": ".py",
   "mimetype": "text/x-python",
   "name": "python",
   "nbconvert_exporter": "python",
   "pygments_lexer": "ipython3",
   "version": "3.6.3"
  }
 },
 "nbformat": 4,
 "nbformat_minor": 2
}
