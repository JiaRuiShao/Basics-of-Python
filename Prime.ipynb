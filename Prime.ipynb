{
 "cells": [
  {
   "cell_type": "code",
   "execution_count": 16,
   "metadata": {},
   "outputs": [
    {
     "name": "stdout",
     "output_type": "stream",
     "text": [
      "请输入一个数字: 9\n",
      "9 是质数\n",
      "9 不是质数\n",
      "3 乘于 3 是 9\n"
     ]
    }
   ],
   "source": [
    "# The Wrong One\n",
    " \n",
    "# 用户输入数字\n",
    "num = int(input(\"请输入一个数字: \"))\n",
    " \n",
    "# 质数大于 1\n",
    "if num > 1:\n",
    "   # 查看因子\n",
    "   for i in range(2,num):\n",
    "       if (num % i) == 0:\n",
    "           print(num,\"不是质数\")\n",
    "           print(i,\"乘于\",num//i,\"是\",num)\n",
    "           break\n",
    "       else: # ATTENTION\n",
    "           print(num,\"是质数\")\n",
    "    \n",
    "# 如果输入的数字小于或等于 1，不是质数\n",
    "else:\n",
    "   print(num,\"不是质数\")"
   ]
  },
  {
   "cell_type": "code",
   "execution_count": 20,
   "metadata": {},
   "outputs": [
    {
     "name": "stdout",
     "output_type": "stream",
     "text": [
      "Put a number: 2\n",
      "2 is a prime.\n"
     ]
    }
   ],
   "source": [
    "#The Right One\n",
    "n = int(input(\"Put a number: \"))\n",
    "if n > 1:\n",
    "    for m in range (2,n):\n",
    "        if n % m == 0:\n",
    "            print(n, \"is not a prime.\")\n",
    "            print(n,\"can be divided by\",m,\"or\",n/m)\n",
    "            break #critical step\n",
    "    else:\n",
    "            print(n,\"is a prime.\")\n",
    "else:\n",
    "    print(n,\"is not a prime.\")"
   ]
  },
  {
   "cell_type": "markdown",
   "metadata": {},
   "source": [
    "算法基本正确，但时间复杂度较高，在判断一个大数是质数还是合数的情况下，应该在查看因子那里的循环中使用到平方根。\n",
    "原理是用了开根号法：\n",
    "\n",
    "假如一个数N是合数,它有一个约数a,那么有a×b=N\n",
    "\n",
    "则a、b两个数中必有一个大于或等于根号N,一个小于或等于根号N。\n",
    "\n",
    "因此,只要小于或等于根号N的数（1除外）不能整除N,则N一定是素数。\n"
   ]
  },
  {
   "cell_type": "code",
   "execution_count": 18,
   "metadata": {},
   "outputs": [
    {
     "name": "stdout",
     "output_type": "stream",
     "text": [
      "请输入一个数字: 9\n",
      "9 是合数\n",
      "3 乘于 3 是 9\n"
     ]
    }
   ],
   "source": [
    "# Python 程序用于检测用户输入的数字是质数还是合数\n",
    "import math\n",
    "# 用户输入数字\n",
    "num = int(input(\"请输入一个数字: \"))\n",
    "# 质数大于 1\n",
    "if num > 1:\n",
    "    # 找到其平方根（ √ ），减少算法时间\n",
    "    square_num = math.floor( num ** 0.5 )\n",
    "    # 查找其因子\n",
    "    for i in range(2, (square_num+1)): #将平凡根加1是为了能取到平方根那个值\n",
    "        if (num % i) == 0:\n",
    "            print(num, \"是合数\")\n",
    "            print(i, \"乘于\", num // i, \"是\", num)\n",
    "            break\n",
    "    else:\n",
    "        print(num, \"是质数\")\n",
    "        # 如果输入的数字小于或等于 1，不是质数\n",
    "else:\n",
    "    print(num, \"既不是质数，也不是合数\")"
   ]
  }
 ],
 "metadata": {
  "kernelspec": {
   "display_name": "Python 3",
   "language": "python",
   "name": "python3"
  },
  "language_info": {
   "codemirror_mode": {
    "name": "ipython",
    "version": 3
   },
   "file_extension": ".py",
   "mimetype": "text/x-python",
   "name": "python",
   "nbconvert_exporter": "python",
   "pygments_lexer": "ipython3",
   "version": "3.6.3"
  }
 },
 "nbformat": 4,
 "nbformat_minor": 2
}
