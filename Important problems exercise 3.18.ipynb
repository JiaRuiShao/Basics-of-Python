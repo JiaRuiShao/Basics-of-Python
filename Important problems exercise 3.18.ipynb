{
 "cells": [
  {
   "cell_type": "markdown",
   "metadata": {},
   "source": [
    "Several question exercise"
   ]
  },
  {
   "cell_type": "markdown",
   "metadata": {},
   "source": [
    "JiaRui Shao"
   ]
  },
  {
   "cell_type": "markdown",
   "metadata": {},
   "source": [
    "Here is a 1000 digit number. 73167176531330624919225119674426574742355349194934 \n",
    "96983520312774506326239578318016984801869478851843 \n",
    "85861560789112949495459501737958331952853208805511 \n",
    "12540698747158523863050715693290963295227443043557 \n",
    "66896648950445244523161731856403098711121722383113 \n",
    "62229893423380308135336276614282806444486645238749 \n",
    "30358907296290491560440772390713810515859307960866 \n",
    "70172427121883998797908792274921901699720888093776 \n",
    "65727333001053367881220235421809751254540594752243 \n",
    "52584907711670556013604839586446706324415722155397 \n",
    "53697817977846174064955149290862569321978468622482 \n",
    "83972241375657056057490261407972968652414535100474 \n",
    "82166370484403199890008895243450658541227588666881 \n",
    "16427171479924442928230863465674813919123162824586 \n",
    "17866458359124566529476545682848912883142607690042 \n",
    "24219022671055626321111109370544217506941658960408 \n",
    "07198403850962455444362981230987879927244284909188 \n",
    "84580156166097919133875499200524063689912560717606 \n",
    "05886116467109405077541002256983155200055935729725 \n",
    "71636269561882670428252483600823257530420752963450 \n",
    "\n",
    "Find the four adjacent digits in the 1000-digit number that have the greatest product. What are the four adjacent digits and what is the value of this product? From https://projecteuler.net/problem=8"
   ]
  },
  {
   "cell_type": "code",
   "execution_count": 2,
   "metadata": {},
   "outputs": [
    {
     "name": "stdout",
     "output_type": "stream",
     "text": [
      "5832\n",
      "9,9,8,9\n"
     ]
    }
   ],
   "source": [
    "string='73167176531330624919225119674426574742355349194934\\\n",
    "96983520312774506326239578318016984801869478851843\\\n",
    "85861560789112949495459501737958331952853208805511\\\n",
    "12540698747158523863050715693290963295227443043557\\\n",
    "66896648950445244523161731856403098711121722383113\\\n",
    "62229893423380308135336276614282806444486645238749\\\n",
    "30358907296290491560440772390713810515859307960866\\\n",
    "70172427121883998797908792274921901699720888093776\\\n",
    "65727333001053367881220235421809751254540594752243\\\n",
    "52584907711670556013604839586446706324415722155397\\\n",
    "53697817977846174064955149290862569321978468622482\\\n",
    "83972241375657056057490261407972968652414535100474\\\n",
    "82166370484403199890008895243450658541227588666881\\\n",
    "16427171479924442928230863465674813919123162824586\\\n",
    "17866458359124566529476545682848912883142607690042\\\n",
    "24219022671055626321111109370544217506941658960408\\\n",
    "07198403850962455444362981230987879927244284909188\\\n",
    "84580156166097919133875499200524063689912560717606\\\n",
    "05886116467109405077541002256983155200055935729725\\\n",
    "71636269561882670428252483600823257530420752963450'.strip()\n",
    "\n",
    "maxstring=''\n",
    "myproduct=-1\n",
    "\n",
    "for i in range (997):\n",
    "    mystring=string[i:i+4]\n",
    "    product=1\n",
    "    for j in mystring:\n",
    "        product *= int(j)\n",
    "    if product > myproduct:\n",
    "        myproduct=product\n",
    "        maxstring=mystring\n",
    "\n",
    "print(str(myproduct)+'\\n'+maxstring[0]+','+maxstring[1]+','+maxstring[2]+','+maxstring[3])       "
   ]
  },
  {
   "cell_type": "markdown",
   "metadata": {},
   "source": [
    "\n",
    "A palindromic prime is a number that is simultaneously palindromic and prime. Find palindromic prime numbers under 1000. \n",
    "From <http://mathworld.wolfram.com/PalindromicPrime.html> \n",
    " "
   ]
  },
  {
   "cell_type": "code",
   "execution_count": 3,
   "metadata": {},
   "outputs": [
    {
     "name": "stdout",
     "output_type": "stream",
     "text": [
      "2 is a palprime.\n",
      "3 is a palprime.\n",
      "5 is a palprime.\n",
      "7 is a palprime.\n",
      "11 is a palprime.\n",
      "101 is a palprime.\n",
      "131 is a palprime.\n",
      "151 is a palprime.\n",
      "181 is a palprime.\n",
      "191 is a palprime.\n",
      "313 is a palprime.\n",
      "353 is a palprime.\n",
      "373 is a palprime.\n",
      "383 is a palprime.\n",
      "727 is a palprime.\n",
      "757 is a palprime.\n",
      "787 is a palprime.\n",
      "797 is a palprime.\n",
      "919 is a palprime.\n",
      "929 is a palprime.\n"
     ]
    }
   ],
   "source": [
    "def find_palprime():\n",
    "    #find this number is a palindromic number or not\n",
    "    for n in range (1000):\n",
    "        if str(n) == str(n)[::-1]:\n",
    "            #it is a palindromic number\n",
    "            #then find whether this number is a prime\n",
    "            is_prime=True\n",
    "            if n < 2:\n",
    "                is_prime=False\n",
    "            elif n >= 2:\n",
    "                for i in range (2,n):\n",
    "                    if n%i == 0:\n",
    "                        is_prime=False\n",
    "            if is_prime:\n",
    "                print(n,'is a palprime.')\n",
    "    return\n",
    "\n",
    "find_palprime()"
   ]
  },
  {
   "cell_type": "markdown",
   "metadata": {},
   "source": [
    "If we take 47, reverse and add, 47 + 74 = 121, which is palindromic. Check for such numbers below 1000. \n",
    "From <https://projecteuler.net/problem=55> \n"
   ]
  },
  {
   "cell_type": "code",
   "execution_count": 6,
   "metadata": {},
   "outputs": [
    {
     "name": "stdout",
     "output_type": "stream",
     "text": [
      "0+0=0\n",
      "1+1=2\n",
      "2+2=4\n",
      "3+3=6\n",
      "4+4=8\n",
      "10+1=11\n",
      "11+11=22\n",
      "12+21=33\n",
      "13+31=44\n",
      "14+41=55\n",
      "15+51=66\n",
      "16+61=77\n",
      "17+71=88\n",
      "18+81=99\n",
      "20+2=22\n",
      "21+12=33\n",
      "22+22=44\n",
      "23+32=55\n",
      "24+42=66\n",
      "25+52=77\n",
      "26+62=88\n",
      "27+72=99\n",
      "29+92=121\n",
      "30+3=33\n",
      "31+13=44\n",
      "32+23=55\n",
      "33+33=66\n",
      "34+43=77\n",
      "35+53=88\n",
      "36+63=99\n",
      "38+83=121\n",
      "40+4=44\n",
      "41+14=55\n",
      "42+24=66\n",
      "43+34=77\n",
      "44+44=88\n",
      "45+54=99\n",
      "47+74=121\n",
      "50+5=55\n",
      "51+15=66\n",
      "52+25=77\n",
      "53+35=88\n",
      "54+45=99\n",
      "56+65=121\n",
      "60+6=66\n",
      "61+16=77\n",
      "62+26=88\n",
      "63+36=99\n",
      "65+56=121\n",
      "70+7=77\n",
      "71+17=88\n",
      "72+27=99\n",
      "74+47=121\n",
      "80+8=88\n",
      "81+18=99\n",
      "83+38=121\n",
      "90+9=99\n",
      "92+29=121\n",
      "100+1=101\n",
      "101+101=202\n",
      "102+201=303\n",
      "103+301=404\n",
      "104+401=505\n",
      "105+501=606\n",
      "106+601=707\n",
      "107+701=808\n",
      "108+801=909\n",
      "110+11=121\n",
      "111+111=222\n",
      "112+211=323\n",
      "113+311=424\n",
      "114+411=525\n",
      "115+511=626\n",
      "116+611=727\n",
      "117+711=828\n",
      "118+811=929\n",
      "120+21=141\n",
      "121+121=242\n",
      "122+221=343\n",
      "123+321=444\n",
      "124+421=545\n",
      "125+521=646\n",
      "126+621=747\n",
      "127+721=848\n",
      "128+821=949\n",
      "130+31=161\n",
      "131+131=262\n",
      "132+231=363\n",
      "133+331=464\n",
      "134+431=565\n",
      "135+531=666\n",
      "136+631=767\n",
      "137+731=868\n",
      "138+831=969\n",
      "140+41=181\n",
      "141+141=282\n",
      "142+241=383\n",
      "143+341=484\n",
      "144+441=585\n",
      "145+541=686\n",
      "146+641=787\n",
      "147+741=888\n",
      "148+841=989\n",
      "200+2=202\n",
      "201+102=303\n",
      "202+202=404\n",
      "203+302=505\n",
      "204+402=606\n",
      "205+502=707\n",
      "206+602=808\n",
      "207+702=909\n",
      "209+902=1111\n",
      "210+12=222\n",
      "211+112=323\n",
      "212+212=424\n",
      "213+312=525\n",
      "214+412=626\n",
      "215+512=727\n",
      "216+612=828\n",
      "217+712=929\n",
      "220+22=242\n",
      "221+122=343\n",
      "222+222=444\n",
      "223+322=545\n",
      "224+422=646\n",
      "225+522=747\n",
      "226+622=848\n",
      "227+722=949\n",
      "230+32=262\n",
      "231+132=363\n",
      "232+232=464\n",
      "233+332=565\n",
      "234+432=666\n",
      "235+532=767\n",
      "236+632=868\n",
      "237+732=969\n",
      "240+42=282\n",
      "241+142=383\n",
      "242+242=484\n",
      "243+342=585\n",
      "244+442=686\n",
      "245+542=787\n",
      "246+642=888\n",
      "247+742=989\n",
      "300+3=303\n",
      "301+103=404\n",
      "302+203=505\n",
      "303+303=606\n",
      "304+403=707\n",
      "305+503=808\n",
      "306+603=909\n",
      "308+803=1111\n",
      "310+13=323\n",
      "311+113=424\n",
      "312+213=525\n",
      "313+313=626\n",
      "314+413=727\n",
      "315+513=828\n",
      "316+613=929\n",
      "320+23=343\n",
      "321+123=444\n",
      "322+223=545\n",
      "323+323=646\n",
      "324+423=747\n",
      "325+523=848\n",
      "326+623=949\n",
      "330+33=363\n",
      "331+133=464\n",
      "332+233=565\n",
      "333+333=666\n",
      "334+433=767\n",
      "335+533=868\n",
      "336+633=969\n",
      "340+43=383\n",
      "341+143=484\n",
      "342+243=585\n",
      "343+343=686\n",
      "344+443=787\n",
      "345+543=888\n",
      "346+643=989\n",
      "400+4=404\n",
      "401+104=505\n",
      "402+204=606\n",
      "403+304=707\n",
      "404+404=808\n",
      "405+504=909\n",
      "407+704=1111\n",
      "410+14=424\n",
      "411+114=525\n",
      "412+214=626\n",
      "413+314=727\n",
      "414+414=828\n",
      "415+514=929\n",
      "420+24=444\n",
      "421+124=545\n",
      "422+224=646\n",
      "423+324=747\n",
      "424+424=848\n",
      "425+524=949\n",
      "430+34=464\n",
      "431+134=565\n",
      "432+234=666\n",
      "433+334=767\n",
      "434+434=868\n",
      "435+534=969\n",
      "440+44=484\n",
      "441+144=585\n",
      "442+244=686\n",
      "443+344=787\n",
      "444+444=888\n",
      "445+544=989\n",
      "500+5=505\n",
      "501+105=606\n",
      "502+205=707\n",
      "503+305=808\n",
      "504+405=909\n",
      "506+605=1111\n",
      "510+15=525\n",
      "511+115=626\n",
      "512+215=727\n",
      "513+315=828\n",
      "514+415=929\n",
      "520+25=545\n",
      "521+125=646\n",
      "522+225=747\n",
      "523+325=848\n",
      "524+425=949\n",
      "530+35=565\n",
      "531+135=666\n",
      "532+235=767\n",
      "533+335=868\n",
      "534+435=969\n",
      "540+45=585\n",
      "541+145=686\n",
      "542+245=787\n",
      "543+345=888\n",
      "544+445=989\n",
      "600+6=606\n",
      "601+106=707\n",
      "602+206=808\n",
      "603+306=909\n",
      "605+506=1111\n",
      "610+16=626\n",
      "611+116=727\n",
      "612+216=828\n",
      "613+316=929\n",
      "620+26=646\n",
      "621+126=747\n",
      "622+226=848\n",
      "623+326=949\n",
      "630+36=666\n",
      "631+136=767\n",
      "632+236=868\n",
      "633+336=969\n",
      "640+46=686\n",
      "641+146=787\n",
      "642+246=888\n",
      "643+346=989\n",
      "700+7=707\n",
      "701+107=808\n",
      "702+207=909\n",
      "704+407=1111\n",
      "710+17=727\n",
      "711+117=828\n",
      "712+217=929\n",
      "720+27=747\n",
      "721+127=848\n",
      "722+227=949\n",
      "730+37=767\n",
      "731+137=868\n",
      "732+237=969\n",
      "740+47=787\n",
      "741+147=888\n",
      "742+247=989\n",
      "800+8=808\n",
      "801+108=909\n",
      "803+308=1111\n",
      "810+18=828\n",
      "811+118=929\n",
      "820+28=848\n",
      "821+128=949\n",
      "830+38=868\n",
      "831+138=969\n",
      "840+48=888\n",
      "841+148=989\n",
      "900+9=909\n",
      "902+209=1111\n",
      "910+19=929\n",
      "920+29=949\n",
      "930+39=969\n",
      "940+49=989\n"
     ]
    }
   ],
   "source": [
    "for x in range (1000):\n",
    "    y = int(str(x)[::-1])\n",
    "    if str(x+y) == str(x+y)[::-1]:\n",
    "        print(str(x)+'+'+str(y)+'='+str(x+y))"
   ]
  },
  {
   "cell_type": "markdown",
   "metadata": {},
   "source": [
    "Names.txt has a list of names. Names_copy.txt has a list of names with some names repeating. Create a new file called namesCount.txt that has the list of names along with a count of how many times each name appears in the names_copy.txt. "
   ]
  },
  {
   "cell_type": "code",
   "execution_count": 33,
   "metadata": {},
   "outputs": [],
   "source": [
    "file=open('names.txt','r')\n",
    "myfile=open('namescount.txt','w')\n",
    "\n",
    "for lines in file:\n",
    "\n",
    "    infile=open('names_copy.txt','r')\n",
    "\n",
    "    count=0\n",
    "    for names in infile:\n",
    "        \n",
    "        if lines == names:\n",
    "            count += 1\n",
    "        \n",
    "    nameandcount=lines.strip()+' '+str(count)+'\\n'\n",
    "    myfile.write(nameandcount)\n",
    "    \n",
    "    infile.close()\n",
    "\n",
    "file.close()\n",
    "myfile.close()\n"
   ]
  },
  {
   "cell_type": "code",
   "execution_count": 7,
   "metadata": {},
   "outputs": [
    {
     "name": "stdout",
     "output_type": "stream",
     "text": [
      "C:\\Users\\surface\\Untitled Folder\n"
     ]
    }
   ],
   "source": [
    "import os\n",
    "print(os.getcwd())"
   ]
  },
  {
   "cell_type": "markdown",
   "metadata": {},
   "source": [
    "Write a program that lets the user enter a string and displays the character that appears most frequently in the string along with the number of times this character appeared."
   ]
  },
  {
   "cell_type": "code",
   "execution_count": 39,
   "metadata": {},
   "outputs": [
    {
     "name": "stdout",
     "output_type": "stream",
     "text": [
      "Enter a string: aabbccccccccccc!!!!!!!!!!!!!!!!!!!!!!!!!!!!\n"
     ]
    },
    {
     "data": {
      "text/plain": [
       "('c', 11)"
      ]
     },
     "execution_count": 39,
     "metadata": {},
     "output_type": "execute_result"
    }
   ],
   "source": [
    "#if not character\n",
    "def find_char(mystring):\n",
    "    mylength=int(len(mystring))\n",
    "    maxcount=0\n",
    "    maxstring=''\n",
    "    \n",
    "    for x in range (mylength):\n",
    "        if mystring[x].isalpha():\n",
    "            if mystring.count(mystring[x]) > maxcount:\n",
    "                maxcount= mystring.count(mystring[x])\n",
    "                maxstring=mystring[x]\n",
    "\n",
    "    return maxstring, maxcount\n",
    "\n",
    "def main():\n",
    "    string=input(\"Enter a string: \")\n",
    "    return find_char(string)\n",
    "\n",
    "main()"
   ]
  },
  {
   "cell_type": "code",
   "execution_count": 40,
   "metadata": {},
   "outputs": [
    {
     "name": "stdout",
     "output_type": "stream",
     "text": [
      "False\n"
     ]
    }
   ],
   "source": [
    "a='!!#'\n",
    "print(a.isalpha())"
   ]
  },
  {
   "cell_type": "markdown",
   "metadata": {},
   "source": [
    "\n",
    "If we list all the natural numbers below 10 that are multiples of 3 or 5, we get 3, 5, 6 and 9. The sum of these multiples is 23. \n",
    "Find the sum of all the multiples of 3 or 5 below 1000. \n",
    "From <https://projecteuler.net/problem=1> \n",
    " \n",
    "Also, show your output in this format: \n",
    "3 + 5 + 6 + 9 = 23 "
   ]
  },
  {
   "cell_type": "code",
   "execution_count": 44,
   "metadata": {
    "collapsed": true
   },
   "outputs": [
    {
     "name": "stdout",
     "output_type": "stream",
     "text": [
      "3+5+6+9+10+12+15+18+20+21+24+25+27+30+33+35+36+39+40+42+45+48+50+51+54+55+57+60+63+65+66+69+70+72+75+78+80+81+84+85+87+90+93+95+96+99+100+102+105+108+110+111+114+115+117+120+123+125+126+129+130+132+135+138+140+141+144+145+147+150+153+155+156+159+160+162+165+168+170+171+174+175+177+180+183+185+186+189+190+192+195+198+200+201+204+205+207+210+213+215+216+219+220+222+225+228+230+231+234+235+237+240+243+245+246+249+250+252+255+258+260+261+264+265+267+270+273+275+276+279+280+282+285+288+290+291+294+295+297+300+303+305+306+309+310+312+315+318+320+321+324+325+327+330+333+335+336+339+340+342+345+348+350+351+354+355+357+360+363+365+366+369+370+372+375+378+380+381+384+385+387+390+393+395+396+399+400+402+405+408+410+411+414+415+417+420+423+425+426+429+430+432+435+438+440+441+444+445+447+450+453+455+456+459+460+462+465+468+470+471+474+475+477+480+483+485+486+489+490+492+495+498+500+501+504+505+507+510+513+515+516+519+520+522+525+528+530+531+534+535+537+540+543+545+546+549+550+552+555+558+560+561+564+565+567+570+573+575+576+579+580+582+585+588+590+591+594+595+597+600+603+605+606+609+610+612+615+618+620+621+624+625+627+630+633+635+636+639+640+642+645+648+650+651+654+655+657+660+663+665+666+669+670+672+675+678+680+681+684+685+687+690+693+695+696+699+700+702+705+708+710+711+714+715+717+720+723+725+726+729+730+732+735+738+740+741+744+745+747+750+753+755+756+759+760+762+765+768+770+771+774+775+777+780+783+785+786+789+790+792+795+798+800+801+804+805+807+810+813+815+816+819+820+822+825+828+830+831+834+835+837+840+843+845+846+849+850+852+855+858+860+861+864+865+867+870+873+875+876+879+880+882+885+888+890+891+894+895+897+900+903+905+906+909+910+912+915+918+920+921+924+925+927+930+933+935+936+939+940+942+945+948+950+951+954+955+957+960+963+965+966+969+970+972+975+978+980+981+984+985+987+990+993+995+996+999+1000=234168\n"
     ]
    }
   ],
   "source": [
    "print(3,end='')\n",
    "total=0\n",
    "\n",
    "for i in range (4,1001):\n",
    "    if i%3 == 0 or i%5 == 0:\n",
    "        total += i\n",
    "        line='+'+str(i)\n",
    "        print(line,end='')\n",
    "print('='+str(total+3))"
   ]
  },
  {
   "cell_type": "markdown",
   "metadata": {},
   "source": [
    "Each new term in the Fibonacci sequence is generated by adding the previous two terms. By starting with 1 and 2, the first 10 terms will be: \n",
    "1, 2, 3, 5, 8, 13, 21, 34, 55, 89, ... \n",
    "By considering the terms in the Fibonacci sequence whose values do not exceed four million, find the sum of the even-valued terms. \n",
    "From <https://projecteuler.net/problem=2> "
   ]
  },
  {
   "cell_type": "code",
   "execution_count": 50,
   "metadata": {},
   "outputs": [
    {
     "name": "stdout",
     "output_type": "stream",
     "text": [
      "4613732\n"
     ]
    }
   ],
   "source": [
    "i=1\n",
    "j=1\n",
    "total=0\n",
    "\n",
    "while i+j <= 4000000:\n",
    "    i+=j\n",
    "    j=i-j\n",
    "    if i%2 == 0:\n",
    "        total += i\n",
    "print(total)"
   ]
  },
  {
   "cell_type": "markdown",
   "metadata": {},
   "source": [
    "Let d(n) be defined as the sum of proper divisors of n (numbers less than n which divide evenly into n). \n",
    "If d(a) = b and d(b) = a, where a ≠ b, then a and b are an amicable pair and each of a and b are called amicable numbers. \n",
    "For example, the proper divisors of 220 are 1, 2, 4, 5, 10, 11, 20, 22, 44, 55 and 110; therefore d(220) = 284. The proper divisors of 284 are 1, 2, 4, 71 and 142; so d(284) = 220. \n",
    "Evaluate all pairs of amicable numbers under 1000. \n",
    "From <https://projecteuler.net/problem=21> "
   ]
  },
  {
   "cell_type": "code",
   "execution_count": 52,
   "metadata": {},
   "outputs": [
    {
     "name": "stdout",
     "output_type": "stream",
     "text": [
      "220 284 are amicable numbers.\n",
      "284 220 are amicable numbers.\n"
     ]
    }
   ],
   "source": [
    "for a in range (1,1000):\n",
    "    total_a=0\n",
    "    for i in range(2,a+1):\n",
    "        if a%i == 0:\n",
    "            total_a += a/i\n",
    "    \n",
    "    for b in range (1,1000):\n",
    "        total_b=0\n",
    "        for j in range (2,b+1):\n",
    "            if b%j == 0:\n",
    "                total_b += b/j\n",
    "        \n",
    "        if total_a == b and total_b == a and a != b:\n",
    "            print(a,b,'are amicable numbers.')"
   ]
  },
  {
   "cell_type": "markdown",
   "metadata": {},
   "source": [
    "The decimal number, 585 = 10010010012 (binary), is palindromic in both bases. \n",
    "Find all numbers under 1000 that are palindromic in base 10 and base 2. \n",
    "(Please note that the palindromic number, in either base, may not include leading zeros.) \n",
    "From <https://projecteuler.net/problem=36> "
   ]
  },
  {
   "cell_type": "code",
   "execution_count": 56,
   "metadata": {},
   "outputs": [
    {
     "name": "stdout",
     "output_type": "stream",
     "text": [
      "1 is a palindromic number in base 10 and base 2.\n",
      "3 is a palindromic number in base 10 and base 2.\n",
      "5 is a palindromic number in base 10 and base 2.\n",
      "7 is a palindromic number in base 10 and base 2.\n",
      "9 is a palindromic number in base 10 and base 2.\n",
      "33 is a palindromic number in base 10 and base 2.\n",
      "99 is a palindromic number in base 10 and base 2.\n",
      "313 is a palindromic number in base 10 and base 2.\n",
      "585 is a palindromic number in base 10 and base 2.\n",
      "717 is a palindromic number in base 10 and base 2.\n"
     ]
    }
   ],
   "source": [
    "for n in range (1,1000):\n",
    "    i=n\n",
    "    j=n\n",
    "    base_2=''\n",
    "    base_10=''\n",
    "    \n",
    "    #palindromic in base 2\n",
    "    while i != 0:\n",
    "        base_2 += str(i%2)\n",
    "        i=i//2\n",
    "    \n",
    "    if base_2 == base_2[::-1]:\n",
    "        #palindromic in base 10\n",
    "        while j != 0:\n",
    "            base_10 += str(j%10)\n",
    "            j=j//10\n",
    "        if base_10 == base_10[::-1]:\n",
    "            print(n,'is a palindromic number in base 10 and base 2.')"
   ]
  },
  {
   "cell_type": "code",
   "execution_count": 57,
   "metadata": {},
   "outputs": [
    {
     "name": "stdout",
     "output_type": "stream",
     "text": [
      "872187\n"
     ]
    }
   ],
   "source": [
    "total=0\n",
    "for n in range (1,1000000):\n",
    "    i=n\n",
    "    j=n\n",
    "    base_2=''\n",
    "    base_10=''\n",
    "    \n",
    "    #palindromic in base 2\n",
    "    while i != 0:\n",
    "        base_2 += str(i%2)\n",
    "        i=i//2\n",
    "    \n",
    "    if base_2 == base_2[::-1]:\n",
    "        #palindromic in base 10\n",
    "        while j != 0:\n",
    "            base_10 += str(j%10)\n",
    "            j=j//10\n",
    "        if base_10 == base_10[::-1]:\n",
    "            total += n\n",
    "print(total)"
   ]
  },
  {
   "cell_type": "markdown",
   "metadata": {},
   "source": []
  },
  {
   "cell_type": "code",
   "execution_count": null,
   "metadata": {},
   "outputs": [],
   "source": []
  }
 ],
 "metadata": {
  "kernelspec": {
   "display_name": "Python 3",
   "language": "python",
   "name": "python3"
  },
  "language_info": {
   "codemirror_mode": {
    "name": "ipython",
    "version": 3
   },
   "file_extension": ".py",
   "mimetype": "text/x-python",
   "name": "python",
   "nbconvert_exporter": "python",
   "pygments_lexer": "ipython3",
   "version": "3.6.4"
  }
 },
 "nbformat": 4,
 "nbformat_minor": 2
}
