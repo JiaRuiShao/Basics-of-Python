{
 "cells": [
  {
   "cell_type": "markdown",
   "metadata": {},
   "source": [
    "### Strings"
   ]
  },
  {
   "cell_type": "markdown",
   "metadata": {},
   "source": [
    "###### Agenda\n",
    "Indexing Strings<br>\n",
    "Immutability of Strings<br>\n",
    "Traversing Strings<br>\n",
    "Slicing Strings<br>\n",
    "String Methods<br>\n",
    "Parsing Strings<hr>\n"
   ]
  },
  {
   "cell_type": "code",
   "execution_count": 1,
   "metadata": {},
   "outputs": [
    {
     "name": "stdout",
     "output_type": "stream",
     "text": [
      "e\n",
      "o\n"
     ]
    }
   ],
   "source": [
    "# string - sequence of characters\n",
    "# indexing strings - to access individual characters in a string\n",
    "\n",
    "s='hello'\n",
    "mp='monty python'\n",
    "si=s[1]\n",
    "print (si)\n",
    "#print (s[5])\n",
    "\n",
    "print(s[-1])\n",
    "# len function\n",
    "# index error "
   ]
  },
  {
   "cell_type": "markdown",
   "metadata": {},
   "source": [
    "###### String Indexing\n",
    "<img src=\"https://developers.google.com/edu/python/images/hello.png\">\n",
    "<font size=-2>\n",
    "<p  style=\"text-align:right\">&copy; Google</p>\n",
    "</font>"
   ]
  },
  {
   "cell_type": "code",
   "execution_count": 2,
   "metadata": {
    "scrolled": true
   },
   "outputs": [
    {
     "name": "stdout",
     "output_type": "stream",
     "text": [
      "T\n",
      "Timothy\n"
     ]
    }
   ],
   "source": [
    "# Immutability of Strings\n",
    "name='Tim'\n",
    "print(name[0])\n",
    "#name[0]='J' cannot substitute part of the string\n",
    "name += 'othy'\n",
    "print (name)"
   ]
  },
  {
   "cell_type": "markdown",
   "metadata": {},
   "source": [
    "###### Traversing Strings\n",
    "Traversing simply involves examining the string to process one character at a time. Typically, we start from the beginning, select each character, process it, and then repeat this process until the desired end point. <br>\n",
    "\n",
    "Exercise: <br>\n",
    "Traverse the String and print the individual characters in a string.<br>\n",
    "Ask the user to enter a number and then print the total of the individual digits.  If the user enters 1234, the program would print 10 (i.e. the sum of 1+2+3+4)<br>\n"
   ]
  },
  {
   "cell_type": "code",
   "execution_count": 3,
   "metadata": {},
   "outputs": [
    {
     "name": "stdout",
     "output_type": "stream",
     "text": [
      "<class 'str'>\n",
      "0 s\n",
      "1 t\n",
      "2 a\n",
      "3 r\n",
      "4 b\n",
      "5 u\n",
      "6 c\n",
      "7 k\n",
      "8 s\n"
     ]
    }
   ],
   "source": [
    "coffee='starbucks'\n",
    "print(type(coffee))\n",
    "num = 0\n",
    "while num < len(coffee):\n",
    "    letter = coffee[num]\n",
    "    print (num, letter)\n",
    "    num += 1"
   ]
  },
  {
   "cell_type": "code",
   "execution_count": 4,
   "metadata": {},
   "outputs": [
    {
     "name": "stdout",
     "output_type": "stream",
     "text": [
      "s\n",
      "t\n",
      "a\n",
      "r\n",
      "b\n",
      "u\n",
      "c\n",
      "k\n",
      "s\n"
     ]
    }
   ],
   "source": [
    "for number in range(len(coffee)):\n",
    "    print (coffee[number])"
   ]
  },
  {
   "cell_type": "code",
   "execution_count": 5,
   "metadata": {},
   "outputs": [
    {
     "name": "stdout",
     "output_type": "stream",
     "text": [
      "s\n",
      "t\n",
      "a\n",
      "r\n",
      "b\n",
      "u\n",
      "c\n",
      "k\n",
      "s\n"
     ]
    }
   ],
   "source": [
    "for letter in coffee:\n",
    "    print (letter)"
   ]
  },
  {
   "cell_type": "code",
   "execution_count": 7,
   "metadata": {},
   "outputs": [
    {
     "name": "stdout",
     "output_type": "stream",
     "text": [
      "s\n",
      "t\n",
      "a\n",
      "r\n",
      "b\n",
      "u\n",
      "c\n",
      "k\n",
      "s\n"
     ]
    }
   ],
   "source": [
    "for a in coffee:\n",
    "    print (a)"
   ]
  },
  {
   "cell_type": "code",
   "execution_count": 6,
   "metadata": {},
   "outputs": [
    {
     "name": "stdout",
     "output_type": "stream",
     "text": [
      "1\n",
      "3\n",
      "3\n",
      "3\n",
      "0\n",
      "4\n",
      "4\n",
      "4\n",
      "8\n"
     ]
    }
   ],
   "source": [
    "for letter in str(133304448):\n",
    "    print(letter)"
   ]
  },
  {
   "cell_type": "markdown",
   "metadata": {},
   "source": [
    "##### String Slicing\n",
    "<img src=\"http://www.nltk.org/images/string-slicing.png\">\n",
    "<font size=-2>\n",
    "<p  style=\"text-align:right\">&copy; nltk</p>\n",
    "</font>"
   ]
  },
  {
   "cell_type": "code",
   "execution_count": 8,
   "metadata": {},
   "outputs": [
    {
     "name": "stdout",
     "output_type": "stream",
     "text": [
      "monty\n"
     ]
    }
   ],
   "source": [
    "# String Slicing - sequence of characters taken from the string\n",
    "# Format string[start:end:step]; please note end is upto but not including...\n",
    "# workaround for invalid indexes; see book chaper for more details\n",
    "\n",
    "# s[0:5]    s[0:5:2]  s[0:]  s[:5]  s[-3:-1]\n",
    "# s[:2]   +  s[2:] = ?\n",
    "\n",
    "s='hello'\n",
    "mp='monty python'\n",
    "sliced=mp[-12:-7]\n",
    "print (sliced)"
   ]
  },
  {
   "cell_type": "code",
   "execution_count": 14,
   "metadata": {},
   "outputs": [
    {
     "name": "stdout",
     "output_type": "stream",
     "text": [
      "ramming\n",
      "p\n"
     ]
    }
   ],
   "source": [
    "name='programming'\n",
    "print(name[4:])\n",
    "print(name[:1]) #print the character before 1 -- 0"
   ]
  },
  {
   "cell_type": "code",
   "execution_count": 9,
   "metadata": {},
   "outputs": [
    {
     "name": "stdout",
     "output_type": "stream",
     "text": [
      "hello\n",
      "hello\n",
      "hello\n",
      "hello\n",
      "hello\n"
     ]
    }
   ],
   "source": [
    "for n in range(5):\n",
    "    sliced=s[:n]+s[n:]#[n:]starting from n to the end\n",
    "    print (sliced)"
   ]
  },
  {
   "cell_type": "code",
   "execution_count": null,
   "metadata": {
    "collapsed": true
   },
   "outputs": [],
   "source": [
    "# testing string with 'in' or 'not in' operators\n",
    "\n",
    "text='hello, are you there?'\n",
    "sliced='hello'\n",
    "if (sliced in text):\n",
    "    print ('sub-string found in text')\n",
    "else:\n",
    "    print ('sub-string not found in text')"
   ]
  },
  {
   "cell_type": "markdown",
   "metadata": {
    "collapsed": true
   },
   "source": [
    "Exercise: <br>\n",
    "1) Write a program to count the number of times the letter E (both uppercase and lowercase) appears in a string that the user provides. <br>\n",
    "2) Write a user-defined function called gen_login_id(first,last) that takes first and last name as parameters and generates a default user login id that takes the first three letters of first name and last three letters of last name. The function will return this generated login ID. (Optional: import this function as a module and use it in a different fragment of code to call on it).<br>"
   ]
  },
  {
   "cell_type": "markdown",
   "metadata": {},
   "source": [
    "#### String Methods"
   ]
  },
  {
   "cell_type": "markdown",
   "metadata": {},
   "source": [
    "Method is a function that belongs to an object and performs some operations on that object.  String objects in python have numerous methods to perform specific operations on the string. The general format is <font color = 'red'>stringvariable.method(argument) </font><br>\n",
    "\n",
    "See below for a some useful examples.<br>"
   ]
  },
  {
   "cell_type": "code",
   "execution_count": 15,
   "metadata": {},
   "outputs": [
    {
     "name": "stdout",
     "output_type": "stream",
     "text": [
      "True\n",
      "True\n"
     ]
    }
   ],
   "source": [
    "# string testing methods\n",
    "# isalnum(), isalpha(), isdigit(),islower(), isupper(), isspace()\n",
    "# returns true if condition is satisfied and is at least one character in length.\n",
    "\n",
    "\n",
    "ts=\"1234\"\n",
    "bv=ts.isdigit()\n",
    "print(bv)\n",
    "\n",
    "mp='monty python'\n",
    "test=mp.islower()\n",
    "print(test)"
   ]
  },
  {
   "cell_type": "code",
   "execution_count": 16,
   "metadata": {},
   "outputs": [
    {
     "name": "stdout",
     "output_type": "stream",
     "text": [
      "Enter a number: 12\n",
      "1\n",
      "2\n",
      "Total is: 3\n"
     ]
    }
   ],
   "source": [
    "# using string methods to perform an operation on a string\n",
    "# Summing the digits of number\n",
    "\n",
    "num=input('Enter a number: ')\n",
    "total=0\n",
    "if num.isdigit(): #Does this string contains numbers in it?\n",
    "    for digit in num:\n",
    "        print (digit)\n",
    "        total+=int(digit)\n",
    "    print ('Total is:', total)\n",
    "else:\n",
    "    print('Please enter a valid number')"
   ]
  },
  {
   "cell_type": "code",
   "execution_count": 20,
   "metadata": {},
   "outputs": [],
   "source": [
    "a='abc123'\n",
    "if a.isdigit():\n",
    "    for b in a:\n",
    "        print(b)"
   ]
  },
  {
   "cell_type": "code",
   "execution_count": 21,
   "metadata": {},
   "outputs": [
    {
     "name": "stdout",
     "output_type": "stream",
     "text": [
      "['monty', 'python']\n",
      "['monty ', 'ython']\n",
      "monty cython\n"
     ]
    }
   ],
   "source": [
    "# string modification methods\n",
    "# split(), replace(old, new)\n",
    "\n",
    "mp='monty python'\n",
    "print (mp.split())    # returns a list... more on lists in the next module\n",
    "print (mp.split('p')) #replace the p\n",
    "print (mp.replace('py', 'cy')) #creat a new string"
   ]
  },
  {
   "cell_type": "code",
   "execution_count": 22,
   "metadata": {},
   "outputs": [
    {
     "name": "stdout",
     "output_type": "stream",
     "text": [
      "  hello world   15\n",
      "hello world 11\n"
     ]
    }
   ],
   "source": [
    "# strip(), lstrip(), rstrip()\n",
    "\n",
    "mystr='  hello world  '\n",
    "mystr1=mystr.strip() # remove the blankspace\n",
    "print (mystr, len(mystr)) \n",
    "print (mystr1, len(mystr1))"
   ]
  },
  {
   "cell_type": "code",
   "execution_count": 23,
   "metadata": {},
   "outputs": [
    {
     "name": "stdout",
     "output_type": "stream",
     "text": [
      "True\n",
      "False\n",
      "6\n"
     ]
    }
   ],
   "source": [
    "# more string methods\n",
    "# startswith(substring), endswith(substring), find(substring)\n",
    "\n",
    "test=mp.endswith('thon')  # returns boolean value\n",
    "print (test)\n",
    "\n",
    "test=mp.startswith('mty')  # returns boolean value\n",
    "print (test)\n",
    "\n",
    "test=mp.find('python') # method returns lowest index in the string if substring is found [position???]\n",
    "print (test)           # replace python with 'mnty'; method returns -1 if substring is not found"
   ]
  },
  {
   "cell_type": "markdown",
   "metadata": {},
   "source": [
    "Exercise: Please write a program to ask the user to input an email (for example: nk999@domainname.com) and then separate the userid from the email and print it.  In the example above, the print output would be nk999."
   ]
  },
  {
   "cell_type": "code",
   "execution_count": 24,
   "metadata": {},
   "outputs": [
    {
     "name": "stdout",
     "output_type": "stream",
     "text": [
      "11\n",
      "nanda.kumar\n",
      "5\n",
      "\n"
     ]
    }
   ],
   "source": [
    "email='nanda.kumar@outlook.com'\n",
    "ipos=email.find('@')\n",
    "print (ipos);\n",
    "userid=email[:ipos]\n",
    "print (userid)\n",
    "ipos2=email.find('.')\n",
    "print (ipos2)\n",
    "domain=email[(ipos+1):ipos2]\n",
    "print (domain)\n",
    "\n",
    "# potential errors and correction (userid-dot, if userid-dot rewrite, missing-@)?"
   ]
  },
  {
   "cell_type": "code",
   "execution_count": 25,
   "metadata": {},
   "outputs": [
    {
     "name": "stdout",
     "output_type": "stream",
     "text": [
      "outlook.com\n",
      "7\n",
      "outlook\n"
     ]
    }
   ],
   "source": [
    "# Program to print domain name from email.  In the above example (nk999@domainname.com), the output should be domainname \n",
    "\n",
    "email='nandakumar@outlook.com'\n",
    "ipos=email.find('@')\n",
    "domain=email[(ipos+1):]\n",
    "print (domain)\n",
    "ipos2=domain.find('.')\n",
    "print (ipos2)\n",
    "domain2=domain[:ipos2]\n",
    "print (domain2)"
   ]
  },
  {
   "cell_type": "code",
   "execution_count": 26,
   "metadata": {},
   "outputs": [
    {
     "name": "stdout",
     "output_type": "stream",
     "text": [
      "6\n",
      "valid\n"
     ]
    }
   ],
   "source": [
    "# Input Validation\n",
    "\n",
    "email='nk1000@outlook.com'\n",
    "ipos=email.find('@')\n",
    "print (ipos); \n",
    "if (ipos==-1):\n",
    "    print ('invalid email')\n",
    "else:\n",
    "    print ('valid')"
   ]
  },
  {
   "cell_type": "code",
   "execution_count": null,
   "metadata": {
    "collapsed": true
   },
   "outputs": [],
   "source": []
  }
 ],
 "metadata": {
  "kernelspec": {
   "display_name": "Python 3",
   "language": "python",
   "name": "python3"
  },
  "language_info": {
   "codemirror_mode": {
    "name": "ipython",
    "version": 3
   },
   "file_extension": ".py",
   "mimetype": "text/x-python",
   "name": "python",
   "nbconvert_exporter": "python",
   "pygments_lexer": "ipython3",
   "version": "3.6.3"
  }
 },
 "nbformat": 4,
 "nbformat_minor": 1
}
