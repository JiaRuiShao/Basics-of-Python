{
 "cells": [
  {
   "cell_type": "markdown",
   "metadata": {},
   "source": [
    "Part 1:\n",
    "\n",
    "Write a program that asks for the length and width of two rectangles. The program should tell the user which rectangle has the greater area, or if the areas are the same."
   ]
  },
  {
   "cell_type": "code",
   "execution_count": 1,
   "metadata": {},
   "outputs": [
    {
     "name": "stdout",
     "output_type": "stream",
     "text": [
      "The length of the first rectangle: 2\n",
      "The width of the first rectangle: 3\n",
      "The length of the second rectangle: 3\n",
      "The width of the second rectangle: 2\n",
      "The first and the second rectangle have the same amount of area.\n"
     ]
    }
   ],
   "source": [
    "length1=int(input(\"The length of the first rectangle: \"))\n",
    "width1=int(input(\"The width of the first rectangle: \"))\n",
    "area1=length1*width1\n",
    "length2=int(input(\"The length of the second rectangle: \"))\n",
    "width2=int(input(\"The width of the second rectangle: \"))\n",
    "area2=length2*width2\n",
    "if area1 > area2:\n",
    "    print(\"The first rectangle has the larger area.\")\n",
    "elif area1 < area2:\n",
    "    print(\"The second rectangle has the larger area.\")\n",
    "else:\n",
    "    print(\"The first and the second rectangle have the same amount of area.\")"
   ]
  },
  {
   "cell_type": "markdown",
   "metadata": {},
   "source": [
    "Part 2:\n",
    "\n",
    "Course grade calculation: Course grades for CIS 1100 are calculated based on two assignments, a midterm exam, and a final exam. Here are the weights of these.\n",
    "Assignments      25%\n",
    "Midterm exam  35%\n",
    "Final exam         40%\n",
    "Ask the user for the scores they received for the two assignments, midterm exam, and the final exam. Then calculate and display their total weighted score they received for the course.\n",
    "Based on the weighted score, calculate and display the letter grade. Here are the grading guidelines:\n",
    "Score >=90: A\n",
    "Score >=80: B\n",
    "Score >=70: C\n",
    "Score <70: F"
   ]
  },
  {
   "cell_type": "code",
   "execution_count": 2,
   "metadata": {},
   "outputs": [
    {
     "name": "stdout",
     "output_type": "stream",
     "text": [
      "The grade of assignment 1: 20\n",
      "The grade of assignment 2: 40\n",
      "The grade of midterm: 60\n",
      "The grade of final exam: 80\n",
      "F\n"
     ]
    }
   ],
   "source": [
    "grade_a1=float(input(\"The grade of assignment 1: \"))\n",
    "grade_a2=float(input(\"The grade of assignment 2: \"))\n",
    "grade_midterm=float(input(\"The grade of midterm: \"))\n",
    "grade_final=float(input(\"The grade of final exam: \"))\n",
    "weighted_score=grade_a1*0.125+grade_a2*0.125+grade_midterm*0.35+grade_final*0.4\n",
    "if weighted_score >= 90:\n",
    "    print(\"A\")\n",
    "elif weighted_score >= 80:\n",
    "    print(\"B\")\n",
    "elif weighted_score >= 70:\n",
    "    print(\"C\")\n",
    "else:\n",
    "    print(\"F\")"
   ]
  },
  {
   "cell_type": "markdown",
   "metadata": {},
   "source": [
    "Part 3:\n",
    "\n",
    "The colors red, blue, and yellow are known as the primary colors because they cannot be made by mixing other colors. When you mix two primary colors, you get a secondary color, as shown here:\n",
    "When you mix red and blue, you get purple.\n",
    "When you mix red and yellow, you get orange.\n",
    "When you mix blue and yellow, you get green.\n",
    "Design a program that prompts the user to enter the names of two primary colors to mix. If the user enters anything other than “red,” “blue,” or “yellow,” the program should display an error message. Otherwise, the program should display the name of the secondary color that results."
   ]
  },
  {
   "cell_type": "code",
   "execution_count": 7,
   "metadata": {},
   "outputs": [
    {
     "name": "stdout",
     "output_type": "stream",
     "text": [
      "Put a primary color: red\n",
      "Put another primary color that you want to mix with: yellow\n",
      "orange\n"
     ]
    }
   ],
   "source": [
    "color1=input(\"Put a primary color: \")\n",
    "color2=input(\"Put another primary color that you want to mix with: \")\n",
    "if color1 == 'red' and color2 == 'red':\n",
    "    print(\"red\")\n",
    "elif color1 == 'red' and color2 == 'blue':\n",
    "    print(\"pruple\")\n",
    "elif color1 == 'red' and color2 == 'yellow':\n",
    "    print(\"orange\")\n",
    "elif color1 == 'blue' and color2 == 'red':\n",
    "    print(\"purple\")\n",
    "elif color1 == 'blue' and color2 == 'blue':\n",
    "    print(\"blue\")\n",
    "elif color1 == 'blue' and color2 == 'yellow':\n",
    "    print(\"green\")\n",
    "elif color1 == 'yellow' and color2 == 'red':\n",
    "    print(\"orange\")\n",
    "elif color1 == 'yellow' and color2 == 'blue':\n",
    "    print(\"green\")\n",
    "elif color1 == 'yellow' and color2 == 'yellow':\n",
    "    print(\"yellow\")\n",
    "else:\n",
    "    print(\"error\")"
   ]
  },
  {
   "cell_type": "code",
   "execution_count": null,
   "metadata": {
    "collapsed": true
   },
   "outputs": [],
   "source": []
  },
  {
   "cell_type": "code",
   "execution_count": null,
   "metadata": {
    "collapsed": true
   },
   "outputs": [],
   "source": [
    "\n"
   ]
  },
  {
   "cell_type": "code",
   "execution_count": null,
   "metadata": {
    "collapsed": true
   },
   "outputs": [],
   "source": []
  },
  {
   "cell_type": "code",
   "execution_count": null,
   "metadata": {
    "collapsed": true
   },
   "outputs": [],
   "source": [
    "\n"
   ]
  },
  {
   "cell_type": "code",
   "execution_count": null,
   "metadata": {
    "collapsed": true
   },
   "outputs": [],
   "source": []
  },
  {
   "cell_type": "code",
   "execution_count": null,
   "metadata": {
    "collapsed": true
   },
   "outputs": [],
   "source": []
  },
  {
   "cell_type": "code",
   "execution_count": null,
   "metadata": {
    "collapsed": true
   },
   "outputs": [],
   "source": []
  },
  {
   "cell_type": "code",
   "execution_count": null,
   "metadata": {
    "collapsed": true
   },
   "outputs": [],
   "source": []
  },
  {
   "cell_type": "code",
   "execution_count": null,
   "metadata": {
    "collapsed": true
   },
   "outputs": [],
   "source": []
  },
  {
   "cell_type": "code",
   "execution_count": null,
   "metadata": {
    "collapsed": true
   },
   "outputs": [],
   "source": []
  },
  {
   "cell_type": "code",
   "execution_count": null,
   "metadata": {
    "collapsed": true
   },
   "outputs": [],
   "source": []
  },
  {
   "cell_type": "code",
   "execution_count": null,
   "metadata": {
    "collapsed": true
   },
   "outputs": [],
   "source": []
  },
  {
   "cell_type": "code",
   "execution_count": null,
   "metadata": {
    "collapsed": true
   },
   "outputs": [],
   "source": []
  },
  {
   "cell_type": "code",
   "execution_count": null,
   "metadata": {
    "collapsed": true
   },
   "outputs": [],
   "source": []
  }
 ],
 "metadata": {
  "kernelspec": {
   "display_name": "Python 3",
   "language": "python",
   "name": "python3"
  },
  "language_info": {
   "codemirror_mode": {
    "name": "ipython",
    "version": 3
   },
   "file_extension": ".py",
   "mimetype": "text/x-python",
   "name": "python",
   "nbconvert_exporter": "python",
   "pygments_lexer": "ipython3",
   "version": "3.6.3"
  }
 },
 "nbformat": 4,
 "nbformat_minor": 2
}
