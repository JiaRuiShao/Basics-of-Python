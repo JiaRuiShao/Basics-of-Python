{
 "cells": [
  {
   "cell_type": "code",
   "execution_count": 12,
   "metadata": {},
   "outputs": [
    {
     "name": "stdout",
     "output_type": "stream",
     "text": [
      "What is the amount of total sales: 1000\n",
      "230.0\n"
     ]
    }
   ],
   "source": [
    "#1\n",
    "TotalSale=float(input(\"What is the amount of total sales: \"))\n",
    "Profit=TotalSale*0.23\n",
    "print(Profit)"
   ]
  },
  {
   "cell_type": "code",
   "execution_count": 13,
   "metadata": {},
   "outputs": [
    {
     "name": "stdout",
     "output_type": "stream",
     "text": [
      "420\n"
     ]
    }
   ],
   "source": [
    "#2\n",
    "speed=70\n",
    "hour=6\n",
    "distance=speed*hour\n",
    "print(distance)"
   ]
  },
  {
   "cell_type": "code",
   "execution_count": 23,
   "metadata": {
    "scrolled": true
   },
   "outputs": [
    {
     "name": "stdout",
     "output_type": "stream",
     "text": [
      "Enter a number: -3\n",
      "7.0\n"
     ]
    }
   ],
   "source": [
    "#3\n",
    "numberA=float(input(\"Enter a number: \"))\n",
    "a=(numberA%10)\n",
    "print(a)"
   ]
  },
  {
   "cell_type": "code",
   "execution_count": 25,
   "metadata": {
    "scrolled": true
   },
   "outputs": [
    {
     "name": "stdout",
     "output_type": "stream",
     "text": [
      "Enter a number: 523336\n",
      "336.0\n"
     ]
    }
   ],
   "source": [
    "#4\n",
    "numberB=float(input(\"Enter a number: \"))\n",
    "b=(numberB%1000)\n",
    "print(b)"
   ]
  },
  {
   "cell_type": "code",
   "execution_count": 28,
   "metadata": {},
   "outputs": [
    {
     "name": "stdout",
     "output_type": "stream",
     "text": [
      "The Grade of Assignment 1: 90\n",
      "The weight of Assignment 1: 0.25\n",
      "The Grade of Assignment 2: 100\n",
      "The weight of Assignment 2: 0.25\n",
      "47.5\n"
     ]
    }
   ],
   "source": [
    "#5\n",
    "assignment1=float(input(\"The Grade of Assignment 1: \"))\n",
    "weight1=float(input(\"The weight of Assignment 1: \"))\n",
    "assignment2=float(input(\"The Grade of Assignment 2: \"))\n",
    "weight2=float(input(\"The weight of Assignment 2: \"))\n",
    "weighted_score=assignment1*weight1+assignment2*weight2\n",
    "print(weighted_score)"
   ]
  },
  {
   "cell_type": "code",
   "execution_count": 31,
   "metadata": {
    "scrolled": true
   },
   "outputs": [
    {
     "name": "stdout",
     "output_type": "stream",
     "text": [
      "The number of minutes: 7998\n",
      "133 Hour , 18 Minute\n"
     ]
    }
   ],
   "source": [
    "#6\n",
    "minute=int(input(\"The number of minutes: \"))\n",
    "hour=minute//60\n",
    "minute2=minute%60\n",
    "print(hour,\"Hour\",\",\",minute2,\"Minute\")"
   ]
  },
  {
   "cell_type": "code",
   "execution_count": 51,
   "metadata": {},
   "outputs": [
    {
     "name": "stdout",
     "output_type": "stream",
     "text": [
      "semi-major4\n",
      "semi-minor3\n",
      "37.69911189096\n"
     ]
    }
   ],
   "source": [
    "#7\n",
    "π=3.14159265758\n",
    "x=float(input(\"semi-major\"))\n",
    "y=float(input(\"semi-minor\"))\n",
    "A=π*x*y\n",
    "print(A)"
   ]
  },
  {
   "cell_type": "code",
   "execution_count": 54,
   "metadata": {},
   "outputs": [
    {
     "name": "stdout",
     "output_type": "stream",
     "text": [
      "The price of the first item: 5\n",
      "The number of first items that you buy: 4\n",
      "The price of the second item: 6\n",
      "The number of second items that you buy: 5\n",
      "50\n"
     ]
    }
   ],
   "source": [
    "#8\n",
    "price1=int(input(\"The price of the first item: \"))\n",
    "quantity1=int(input(\"The number of first items that you buy: \"))\n",
    "price2=int(input(\"The price of the second item: \"))\n",
    "quantity2=int(input(\"The number of second items that you buy: \"))\n",
    "total=price1*quantity1+price2*quantity2\n",
    "print(total)"
   ]
  },
  {
   "cell_type": "code",
   "execution_count": 62,
   "metadata": {
    "scrolled": true
   },
   "outputs": [
    {
     "name": "stdout",
     "output_type": "stream",
     "text": [
      "The price of the first product: 20\n",
      "The number of first product that sold: 9\n",
      "The price of the second product: 23\n",
      "The number of second product that sold: 7\n",
      "The percentage of the first product is 0.5278592375366569 \n",
      " The percentage of the second product is 0.47214076246334313\n"
     ]
    }
   ],
   "source": [
    "#9\n",
    "unit_price1=int(input(\"The price of the first product: \"))\n",
    "quantity1=int(input(\"The number of first product that sold: \"))\n",
    "unit_price2=int(input(\"The price of the second product: \"))\n",
    "quantity2=int(input(\"The number of second product that sold: \"))\n",
    "total_sales=unit_price1*quantity1+unit_price2*quantity2\n",
    "percentage_of_first_product=(unit_price1*quantity1)/total_sales\n",
    "percentage_of_second_product=(unit_price2*quantity2)/total_sales\n",
    "print(\"The percentage of the first product is\",percentage_of_first_product,'\\n',\"The percentage of the second product is\",percentage_of_second_product)\n"
   ]
  },
  {
   "cell_type": "code",
   "execution_count": 60,
   "metadata": {
    "collapsed": true
   },
   "outputs": [
    {
     "name": "stdout",
     "output_type": "stream",
     "text": [
      "The number of full-time students: 40\n",
      "The number of full-time students: 60\n",
      "The percentage of full-time students is 0.4\n",
      "The percentage of part-time students is 0.6\n"
     ]
    }
   ],
   "source": [
    "#10\n",
    "number_of_full_time_students=int(input(\"The number of full-time students: \"))\n",
    "number_of_part_time_students=int(input(\"The number of full-time students: \"))\n",
    "total_number_of_students=number_of_full_time_students+number_of_part_time_students\n",
    "percentage_of_full_time_students=number_of_full_time_students/total_number_of_students\n",
    "percentage_of_part_time_students=number_of_part_time_students/total_number_of_students\n",
    "print(\"The percentage of full-time students is\",percentage_of_full_time_students)\n",
    "print(\"The percentage of part-time students is\",percentage_of_part_time_students)"
   ]
  },
  {
   "cell_type": "code",
   "execution_count": 71,
   "metadata": {},
   "outputs": [
    {
     "name": "stdout",
     "output_type": "stream",
     "text": [
      "If you want to calculate the rusult of the sum of 1,2,3,4,5 and divided the sum by 5, the resulr will be different if you didn't follow the operator precedence\n",
      "X=1+2+3+4+5/5\n",
      "The calculated answer is 11.0\n",
      "You can see that rusult should be 15 rather than 11, the error occured because multiply is operated before addition under the operator precedence\n",
      "The right formula is:\n",
      "Y=(1+2+3+4+5)/5\n",
      "The calculated answer is 3.0\n"
     ]
    }
   ],
   "source": [
    "#11\n",
    "print(\"If you want to calculate the rusult of the sum of 1,2,3,4,5 and divided the sum by 5, the resulr will be different if you didn't follow the operator precedence\")\n",
    "print(\"X=1+2+3+4+5/5\")\n",
    "X=1+2+3+4+5/5\n",
    "print(\"The calculated answer is\",X)\n",
    "print(\"You can see that rusult should be 15 rather than 11, the error occured because multiply is operated before addition under the operator precedence\")\n",
    "print(\"The right formula is:\")\n",
    "print(\"Y=(1+2+3+4+5)/5\")\n",
    "Y=(1+2+3+4+5)/5\n",
    "print(\"The calculated answer is\",Y)"
   ]
  },
  {
   "cell_type": "code",
   "execution_count": 66,
   "metadata": {},
   "outputs": [
    {
     "name": "stdout",
     "output_type": "stream",
     "text": [
      "Put a number higher than 1:3\n",
      "6.0\n"
     ]
    }
   ],
   "source": [
    "#12\n",
    "n=int(input(\"Put a number higher than 1:\"))\n",
    "a=n*(n+1)/2\n",
    "print(a)"
   ]
  },
  {
   "cell_type": "code",
   "execution_count": null,
   "metadata": {
    "collapsed": true
   },
   "outputs": [],
   "source": []
  },
  {
   "cell_type": "code",
   "execution_count": null,
   "metadata": {
    "collapsed": true
   },
   "outputs": [],
   "source": []
  },
  {
   "cell_type": "code",
   "execution_count": null,
   "metadata": {
    "collapsed": true
   },
   "outputs": [],
   "source": []
  },
  {
   "cell_type": "code",
   "execution_count": null,
   "metadata": {
    "collapsed": true
   },
   "outputs": [],
   "source": []
  },
  {
   "cell_type": "code",
   "execution_count": null,
   "metadata": {
    "collapsed": true
   },
   "outputs": [],
   "source": []
  },
  {
   "cell_type": "code",
   "execution_count": null,
   "metadata": {
    "collapsed": true
   },
   "outputs": [],
   "source": []
  },
  {
   "cell_type": "code",
   "execution_count": null,
   "metadata": {
    "collapsed": true
   },
   "outputs": [],
   "source": []
  },
  {
   "cell_type": "code",
   "execution_count": null,
   "metadata": {
    "collapsed": true
   },
   "outputs": [],
   "source": []
  },
  {
   "cell_type": "code",
   "execution_count": null,
   "metadata": {
    "collapsed": true
   },
   "outputs": [],
   "source": []
  },
  {
   "cell_type": "code",
   "execution_count": null,
   "metadata": {
    "collapsed": true
   },
   "outputs": [],
   "source": []
  },
  {
   "cell_type": "code",
   "execution_count": null,
   "metadata": {
    "collapsed": true
   },
   "outputs": [],
   "source": []
  },
  {
   "cell_type": "code",
   "execution_count": null,
   "metadata": {
    "collapsed": true
   },
   "outputs": [],
   "source": []
  },
  {
   "cell_type": "code",
   "execution_count": null,
   "metadata": {
    "collapsed": true
   },
   "outputs": [],
   "source": []
  },
  {
   "cell_type": "code",
   "execution_count": null,
   "metadata": {
    "collapsed": true
   },
   "outputs": [],
   "source": []
  },
  {
   "cell_type": "code",
   "execution_count": null,
   "metadata": {
    "collapsed": true
   },
   "outputs": [],
   "source": []
  },
  {
   "cell_type": "code",
   "execution_count": null,
   "metadata": {
    "collapsed": true
   },
   "outputs": [],
   "source": []
  },
  {
   "cell_type": "code",
   "execution_count": null,
   "metadata": {
    "collapsed": true
   },
   "outputs": [],
   "source": []
  },
  {
   "cell_type": "code",
   "execution_count": null,
   "metadata": {
    "collapsed": true
   },
   "outputs": [],
   "source": []
  },
  {
   "cell_type": "code",
   "execution_count": null,
   "metadata": {
    "collapsed": true
   },
   "outputs": [],
   "source": []
  },
  {
   "cell_type": "code",
   "execution_count": null,
   "metadata": {
    "collapsed": true
   },
   "outputs": [],
   "source": []
  },
  {
   "cell_type": "code",
   "execution_count": null,
   "metadata": {
    "collapsed": true
   },
   "outputs": [],
   "source": []
  },
  {
   "cell_type": "code",
   "execution_count": null,
   "metadata": {
    "collapsed": true
   },
   "outputs": [],
   "source": []
  },
  {
   "cell_type": "code",
   "execution_count": null,
   "metadata": {
    "collapsed": true
   },
   "outputs": [],
   "source": []
  },
  {
   "cell_type": "code",
   "execution_count": null,
   "metadata": {
    "collapsed": true
   },
   "outputs": [],
   "source": []
  },
  {
   "cell_type": "code",
   "execution_count": null,
   "metadata": {
    "collapsed": true
   },
   "outputs": [],
   "source": []
  },
  {
   "cell_type": "code",
   "execution_count": null,
   "metadata": {
    "collapsed": true
   },
   "outputs": [],
   "source": []
  },
  {
   "cell_type": "code",
   "execution_count": null,
   "metadata": {
    "collapsed": true
   },
   "outputs": [],
   "source": []
  },
  {
   "cell_type": "code",
   "execution_count": null,
   "metadata": {
    "collapsed": true
   },
   "outputs": [],
   "source": []
  },
  {
   "cell_type": "code",
   "execution_count": null,
   "metadata": {
    "collapsed": true
   },
   "outputs": [],
   "source": []
  },
  {
   "cell_type": "code",
   "execution_count": null,
   "metadata": {
    "collapsed": true
   },
   "outputs": [],
   "source": []
  },
  {
   "cell_type": "code",
   "execution_count": null,
   "metadata": {
    "collapsed": true
   },
   "outputs": [],
   "source": []
  },
  {
   "cell_type": "code",
   "execution_count": null,
   "metadata": {
    "collapsed": true
   },
   "outputs": [],
   "source": []
  },
  {
   "cell_type": "code",
   "execution_count": null,
   "metadata": {
    "collapsed": true
   },
   "outputs": [],
   "source": []
  },
  {
   "cell_type": "code",
   "execution_count": null,
   "metadata": {
    "collapsed": true
   },
   "outputs": [],
   "source": []
  },
  {
   "cell_type": "code",
   "execution_count": null,
   "metadata": {
    "collapsed": true
   },
   "outputs": [],
   "source": []
  },
  {
   "cell_type": "code",
   "execution_count": null,
   "metadata": {
    "collapsed": true
   },
   "outputs": [],
   "source": []
  },
  {
   "cell_type": "code",
   "execution_count": null,
   "metadata": {
    "collapsed": true
   },
   "outputs": [],
   "source": []
  },
  {
   "cell_type": "code",
   "execution_count": 19,
   "metadata": {},
   "outputs": [
    {
     "ename": "SyntaxError",
     "evalue": "invalid syntax (<ipython-input-19-0034effec5df>, line 1)",
     "output_type": "error",
     "traceback": [
      "\u001b[1;36m  File \u001b[1;32m\"<ipython-input-19-0034effec5df>\"\u001b[1;36m, line \u001b[1;32m1\u001b[0m\n\u001b[1;33m    print(17/10%)\u001b[0m\n\u001b[1;37m                ^\u001b[0m\n\u001b[1;31mSyntaxError\u001b[0m\u001b[1;31m:\u001b[0m invalid syntax\n"
     ]
    }
   ],
   "source": [
    "print(17/10%)"
   ]
  },
  {
   "cell_type": "code",
   "execution_count": null,
   "metadata": {
    "collapsed": true
   },
   "outputs": [],
   "source": []
  },
  {
   "cell_type": "code",
   "execution_count": null,
   "metadata": {
    "collapsed": true
   },
   "outputs": [],
   "source": []
  },
  {
   "cell_type": "code",
   "execution_count": null,
   "metadata": {
    "collapsed": true
   },
   "outputs": [],
   "source": []
  },
  {
   "cell_type": "code",
   "execution_count": null,
   "metadata": {
    "collapsed": true
   },
   "outputs": [],
   "source": []
  },
  {
   "cell_type": "code",
   "execution_count": null,
   "metadata": {
    "collapsed": true
   },
   "outputs": [],
   "source": []
  },
  {
   "cell_type": "code",
   "execution_count": null,
   "metadata": {
    "collapsed": true
   },
   "outputs": [],
   "source": []
  },
  {
   "cell_type": "code",
   "execution_count": null,
   "metadata": {
    "collapsed": true
   },
   "outputs": [],
   "source": []
  },
  {
   "cell_type": "code",
   "execution_count": null,
   "metadata": {
    "collapsed": true
   },
   "outputs": [],
   "source": []
  },
  {
   "cell_type": "code",
   "execution_count": null,
   "metadata": {
    "collapsed": true
   },
   "outputs": [],
   "source": []
  },
  {
   "cell_type": "code",
   "execution_count": null,
   "metadata": {
    "collapsed": true
   },
   "outputs": [],
   "source": []
  },
  {
   "cell_type": "code",
   "execution_count": null,
   "metadata": {
    "collapsed": true
   },
   "outputs": [],
   "source": []
  },
  {
   "cell_type": "code",
   "execution_count": null,
   "metadata": {
    "collapsed": true
   },
   "outputs": [],
   "source": []
  },
  {
   "cell_type": "code",
   "execution_count": null,
   "metadata": {
    "collapsed": true
   },
   "outputs": [],
   "source": []
  },
  {
   "cell_type": "code",
   "execution_count": null,
   "metadata": {
    "collapsed": true
   },
   "outputs": [],
   "source": []
  },
  {
   "cell_type": "code",
   "execution_count": null,
   "metadata": {
    "collapsed": true
   },
   "outputs": [],
   "source": []
  },
  {
   "cell_type": "code",
   "execution_count": null,
   "metadata": {
    "collapsed": true
   },
   "outputs": [],
   "source": []
  },
  {
   "cell_type": "code",
   "execution_count": null,
   "metadata": {
    "collapsed": true
   },
   "outputs": [],
   "source": []
  }
 ],
 "metadata": {
  "kernelspec": {
   "display_name": "Python 3",
   "language": "python",
   "name": "python3"
  },
  "language_info": {
   "codemirror_mode": {
    "name": "ipython",
    "version": 3
   },
   "file_extension": ".py",
   "mimetype": "text/x-python",
   "name": "python",
   "nbconvert_exporter": "python",
   "pygments_lexer": "ipython3",
   "version": "3.6.3"
  }
 },
 "nbformat": 4,
 "nbformat_minor": 2
}
